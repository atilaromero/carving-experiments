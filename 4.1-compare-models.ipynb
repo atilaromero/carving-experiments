{
 "cells": [
  {
   "cell_type": "markdown",
   "metadata": {},
   "source": [
    "# 4.1 Compare models"
   ]
  },
  {
   "cell_type": "code",
   "execution_count": 1,
   "metadata": {},
   "outputs": [
    {
     "name": "stderr",
     "output_type": "stream",
     "text": [
      "/home/atila.alr/.local/lib/python3.6/site-packages/tensorflow/python/framework/dtypes.py:516: FutureWarning: Passing (type, 1) or '1type' as a synonym of type is deprecated; in a future version of numpy, it will be understood as (type, (1,)) / '(1,)type'.\n",
      "  _np_qint8 = np.dtype([(\"qint8\", np.int8, 1)])\n",
      "/home/atila.alr/.local/lib/python3.6/site-packages/tensorflow/python/framework/dtypes.py:517: FutureWarning: Passing (type, 1) or '1type' as a synonym of type is deprecated; in a future version of numpy, it will be understood as (type, (1,)) / '(1,)type'.\n",
      "  _np_quint8 = np.dtype([(\"quint8\", np.uint8, 1)])\n",
      "/home/atila.alr/.local/lib/python3.6/site-packages/tensorflow/python/framework/dtypes.py:518: FutureWarning: Passing (type, 1) or '1type' as a synonym of type is deprecated; in a future version of numpy, it will be understood as (type, (1,)) / '(1,)type'.\n",
      "  _np_qint16 = np.dtype([(\"qint16\", np.int16, 1)])\n",
      "/home/atila.alr/.local/lib/python3.6/site-packages/tensorflow/python/framework/dtypes.py:519: FutureWarning: Passing (type, 1) or '1type' as a synonym of type is deprecated; in a future version of numpy, it will be understood as (type, (1,)) / '(1,)type'.\n",
      "  _np_quint16 = np.dtype([(\"quint16\", np.uint16, 1)])\n",
      "/home/atila.alr/.local/lib/python3.6/site-packages/tensorflow/python/framework/dtypes.py:520: FutureWarning: Passing (type, 1) or '1type' as a synonym of type is deprecated; in a future version of numpy, it will be understood as (type, (1,)) / '(1,)type'.\n",
      "  _np_qint32 = np.dtype([(\"qint32\", np.int32, 1)])\n",
      "/home/atila.alr/.local/lib/python3.6/site-packages/tensorflow/python/framework/dtypes.py:525: FutureWarning: Passing (type, 1) or '1type' as a synonym of type is deprecated; in a future version of numpy, it will be understood as (type, (1,)) / '(1,)type'.\n",
      "  np_resource = np.dtype([(\"resource\", np.ubyte, 1)])\n",
      "/home/atila.alr/.local/lib/python3.6/site-packages/tensorboard/compat/tensorflow_stub/dtypes.py:541: FutureWarning: Passing (type, 1) or '1type' as a synonym of type is deprecated; in a future version of numpy, it will be understood as (type, (1,)) / '(1,)type'.\n",
      "  _np_qint8 = np.dtype([(\"qint8\", np.int8, 1)])\n",
      "/home/atila.alr/.local/lib/python3.6/site-packages/tensorboard/compat/tensorflow_stub/dtypes.py:542: FutureWarning: Passing (type, 1) or '1type' as a synonym of type is deprecated; in a future version of numpy, it will be understood as (type, (1,)) / '(1,)type'.\n",
      "  _np_quint8 = np.dtype([(\"quint8\", np.uint8, 1)])\n",
      "/home/atila.alr/.local/lib/python3.6/site-packages/tensorboard/compat/tensorflow_stub/dtypes.py:543: FutureWarning: Passing (type, 1) or '1type' as a synonym of type is deprecated; in a future version of numpy, it will be understood as (type, (1,)) / '(1,)type'.\n",
      "  _np_qint16 = np.dtype([(\"qint16\", np.int16, 1)])\n",
      "/home/atila.alr/.local/lib/python3.6/site-packages/tensorboard/compat/tensorflow_stub/dtypes.py:544: FutureWarning: Passing (type, 1) or '1type' as a synonym of type is deprecated; in a future version of numpy, it will be understood as (type, (1,)) / '(1,)type'.\n",
      "  _np_quint16 = np.dtype([(\"quint16\", np.uint16, 1)])\n",
      "/home/atila.alr/.local/lib/python3.6/site-packages/tensorboard/compat/tensorflow_stub/dtypes.py:545: FutureWarning: Passing (type, 1) or '1type' as a synonym of type is deprecated; in a future version of numpy, it will be understood as (type, (1,)) / '(1,)type'.\n",
      "  _np_qint32 = np.dtype([(\"qint32\", np.int32, 1)])\n",
      "/home/atila.alr/.local/lib/python3.6/site-packages/tensorboard/compat/tensorflow_stub/dtypes.py:550: FutureWarning: Passing (type, 1) or '1type' as a synonym of type is deprecated; in a future version of numpy, it will be understood as (type, (1,)) / '(1,)type'.\n",
      "  np_resource = np.dtype([(\"resource\", np.ubyte, 1)])\n"
     ]
    }
   ],
   "source": [
    "import os\n",
    "import sys\n",
    "import tensorflow as tf\n",
    "import numpy as np\n",
    "import pandas as pd\n",
    "import matplotlib.pyplot as plt\n",
    "\n",
    "import report\n",
    "import block_sampler\n",
    "import batch_encoder\n",
    "import callbacks\n",
    "from dataset import Dataset\n",
    "\n",
    "from tensorflow.keras.layers import Input, Conv1D, MaxPooling1D, LSTM, Dense, Activation, TimeDistributed, Flatten, Dot, Softmax, Lambda, RepeatVector, Multiply, Permute, Reshape, BatchNormalization\n",
    "from tensorflow.keras.callbacks import EarlyStopping, TensorBoard\n",
    "from trainer import TrainResults"
   ]
  },
  {
   "cell_type": "code",
   "execution_count": 2,
   "metadata": {},
   "outputs": [
    {
     "data": {
      "text/plain": [
       "('1.14.0', '2.2.4-tf')"
      ]
     },
     "execution_count": 2,
     "metadata": {},
     "output_type": "execute_result"
    }
   ],
   "source": [
    "tf.__version__, tf.keras.__version__"
   ]
  },
  {
   "cell_type": "code",
   "execution_count": 3,
   "metadata": {},
   "outputs": [
    {
     "data": {
      "text/plain": [
       "(False, False)"
      ]
     },
     "execution_count": 3,
     "metadata": {},
     "output_type": "execute_result"
    }
   ],
   "source": [
    "tf.test.is_gpu_available(), tf.test.is_built_with_cuda()"
   ]
  },
  {
   "cell_type": "code",
   "execution_count": 4,
   "metadata": {},
   "outputs": [],
   "source": [
    "raw_dataset_folder='govdocs1/sample200'\n",
    "minimum=200\n",
    "maximum=200\n",
    "result_dir = 'results/4.1-compare-models'\n",
    "os.makedirs(result_dir, exist_ok=True)"
   ]
  },
  {
   "cell_type": "code",
   "execution_count": 5,
   "metadata": {},
   "outputs": [],
   "source": [
    "rawset = Dataset.new_from_folders(raw_dataset_folder).filter_min_max(minimum, maximum)\n",
    "rawset = rawset.filter(lambda x: rawset.category_from(x) not in ['text', 'unk'])\n",
    "rawset.rebuild_categories()"
   ]
  },
  {
   "cell_type": "code",
   "execution_count": 6,
   "metadata": {},
   "outputs": [],
   "source": [
    "tset, vset = rawset.rnd_split_fraction_by_category(0.5)"
   ]
  },
  {
   "cell_type": "markdown",
   "metadata": {},
   "source": [
    "# Create models"
   ]
  },
  {
   "cell_type": "code",
   "execution_count": 7,
   "metadata": {},
   "outputs": [],
   "source": [
    "def D(classes, len_byte_vector):\n",
    "    last = l0 = Input(shape=(512,len_byte_vector))\n",
    "    last = Flatten()(last)\n",
    "    last = Dense(classes)(last)\n",
    "    last = Activation('softmax')(last)\n",
    "    name = sys._getframe().f_code.co_name\n",
    "    model = tf.keras.Model([l0], last, name=name)\n",
    "    model.compile(loss=tf.keras.losses.categorical_crossentropy,\n",
    "        optimizer=tf.keras.optimizers.Adam(),\n",
    "        metrics=['binary_accuracy', 'categorical_accuracy'])\n",
    "    return model"
   ]
  },
  {
   "cell_type": "code",
   "execution_count": 8,
   "metadata": {},
   "outputs": [],
   "source": [
    "def LD(classes, len_byte_vector):\n",
    "    last = l0 = Input(shape=(512,len_byte_vector))\n",
    "    last = LSTM(32)(last)\n",
    "    last = Dense(classes)(last)\n",
    "    last = Activation('softmax')(last)\n",
    "    name = sys._getframe().f_code.co_name\n",
    "    model = tf.keras.Model([l0], last, name=name)\n",
    "    model.compile(loss=tf.keras.losses.categorical_crossentropy,\n",
    "        optimizer=tf.keras.optimizers.Adam(),\n",
    "        metrics=['binary_accuracy', 'categorical_accuracy'])\n",
    "    return model"
   ]
  },
  {
   "cell_type": "code",
   "execution_count": 9,
   "metadata": {},
   "outputs": [],
   "source": [
    "def LL(classes, len_byte_vector):\n",
    "    last = l0 = Input(shape=(512,len_byte_vector))\n",
    "    last = LSTM(32, return_sequences=True)(last)\n",
    "    last = LSTM(classes)(last)\n",
    "    last = Activation('softmax')(last)\n",
    "    name = sys._getframe().f_code.co_name\n",
    "    model = tf.keras.Model([l0], last, name=name)\n",
    "    model.compile(loss=tf.keras.losses.categorical_crossentropy,\n",
    "        optimizer=tf.keras.optimizers.Adam(),\n",
    "        metrics=['binary_accuracy', 'categorical_accuracy'])\n",
    "    return model"
   ]
  },
  {
   "cell_type": "code",
   "execution_count": 10,
   "metadata": {},
   "outputs": [],
   "source": [
    "def CD(classes, len_byte_vector):\n",
    "    last = l0 = Input(shape=(512,len_byte_vector))\n",
    "    last = Conv1D(64,(64,),strides=8)(last)\n",
    "    last = Flatten()(last)\n",
    "    last = Dense(classes)(last)\n",
    "    last = Activation('softmax')(last)\n",
    "    name = sys._getframe().f_code.co_name\n",
    "    model = tf.keras.Model([l0], last, name=name)\n",
    "    model.compile(loss=tf.keras.losses.categorical_crossentropy,\n",
    "        optimizer=tf.keras.optimizers.Adam(),\n",
    "        metrics=['binary_accuracy', 'categorical_accuracy'])\n",
    "    return model"
   ]
  },
  {
   "cell_type": "code",
   "execution_count": 11,
   "metadata": {},
   "outputs": [],
   "source": [
    "def CM(classes, len_byte_vector):\n",
    "    last = l0 = Input(shape=(512,len_byte_vector))\n",
    "    last = Conv1D(classes, (32,), strides=1)(last)\n",
    "    last = MaxPooling1D(pool_size=481, strides=1)(last)\n",
    "    last = Flatten()(last)\n",
    "    last = Activation('softmax')(last)\n",
    "    name = sys._getframe().f_code.co_name\n",
    "    model = tf.keras.Model([l0], last, name=name)\n",
    "    model.compile(loss=tf.keras.losses.categorical_crossentropy,\n",
    "        optimizer=tf.keras.optimizers.Adam(),\n",
    "        metrics=['binary_accuracy', 'categorical_accuracy'])\n",
    "    return model"
   ]
  },
  {
   "cell_type": "code",
   "execution_count": 12,
   "metadata": {},
   "outputs": [],
   "source": [
    "def CCM(classes, len_byte_vector):\n",
    "    last = l0 = Input(shape=(512,len_byte_vector))\n",
    "    last = Conv1D(classes, (32,), strides=1)(last)\n",
    "    last = Conv1D(classes, (2,), strides=2)(last)\n",
    "    last = MaxPooling1D(pool_size=240, strides=1)(last)\n",
    "    last = Flatten()(last)\n",
    "    last = Activation('softmax')(last)\n",
    "    name = sys._getframe().f_code.co_name\n",
    "    model = tf.keras.Model([l0], last, name=name)\n",
    "    model.compile(loss=tf.keras.losses.categorical_crossentropy,\n",
    "        optimizer=tf.keras.optimizers.Adam(),\n",
    "        metrics=['binary_accuracy', 'categorical_accuracy'])\n",
    "    return model"
   ]
  },
  {
   "cell_type": "code",
   "execution_count": 13,
   "metadata": {},
   "outputs": [],
   "source": [
    "def CL(classes, len_byte_vector):\n",
    "    last = l0 = Input(shape=(512,len_byte_vector))\n",
    "    last = Conv1D(classes, (32,), strides=32)(last)\n",
    "    last = LSTM(classes)(last)\n",
    "    last = Activation('softmax')(last)\n",
    "    name = sys._getframe().f_code.co_name\n",
    "    model = tf.keras.Model([l0], last, name=name)\n",
    "    model.compile(loss=tf.keras.losses.categorical_crossentropy,\n",
    "        optimizer=tf.keras.optimizers.Adam(),\n",
    "        metrics=['binary_accuracy', 'categorical_accuracy'])\n",
    "    return model"
   ]
  },
  {
   "cell_type": "code",
   "execution_count": 14,
   "metadata": {},
   "outputs": [],
   "source": [
    "def CML(classes, len_byte_vector):\n",
    "    last = l0 = Input(shape=(512,len_byte_vector))\n",
    "    last = Conv1D(32, (32,), strides=32)(last)\n",
    "    last = MaxPooling1D(pool_size=2, strides=2, data_format='channels_first')(last)    \n",
    "    last = LSTM(classes)(last)\n",
    "    last = Activation('softmax')(last)\n",
    "    name = sys._getframe().f_code.co_name\n",
    "    model = tf.keras.Model([l0], last, name=name)\n",
    "    model.compile(loss=tf.keras.losses.categorical_crossentropy,\n",
    "        optimizer=tf.keras.optimizers.Adam(),\n",
    "        metrics=['binary_accuracy', 'categorical_accuracy'])\n",
    "    return model"
   ]
  },
  {
   "cell_type": "code",
   "execution_count": 15,
   "metadata": {},
   "outputs": [],
   "source": [
    "def CLL(classes, len_byte_vector):\n",
    "    last = l0 = Input(shape=(512,len_byte_vector))\n",
    "    last = Conv1D(32, (32,), strides=32)(last)\n",
    "    last = LSTM(64, return_sequences=True)(last)\n",
    "    last = LSTM(classes)(last)\n",
    "    last = Activation('softmax')(last)\n",
    "    name = sys._getframe().f_code.co_name\n",
    "    model = tf.keras.Model([l0], last, name=name)\n",
    "    model.compile(loss=tf.keras.losses.categorical_crossentropy,\n",
    "        optimizer=tf.keras.optimizers.Adam(),\n",
    "        metrics=['binary_accuracy', 'categorical_accuracy'])\n",
    "    return model"
   ]
  },
  {
   "cell_type": "code",
   "execution_count": 16,
   "metadata": {},
   "outputs": [],
   "source": [
    "def CLD(classes, len_byte_vector):\n",
    "    last = l0 = Input(shape=(512,len_byte_vector))\n",
    "    last = Conv1D(256, (16,), strides=16)(last)\n",
    "    last = LSTM(128)(last)\n",
    "    last = Dense(classes)(last)\n",
    "    last = Activation('softmax')(last)\n",
    "    name = sys._getframe().f_code.co_name\n",
    "    model = tf.keras.Model([l0], last, name=name)\n",
    "    model.compile(loss=tf.keras.losses.categorical_crossentropy,\n",
    "        optimizer=tf.keras.optimizers.Adam(),\n",
    "        metrics=['binary_accuracy', 'categorical_accuracy'])\n",
    "    return model"
   ]
  },
  {
   "cell_type": "code",
   "execution_count": 17,
   "metadata": {},
   "outputs": [],
   "source": [
    "def CCL(classes, len_byte_vector):\n",
    "    last = l0 = Input(shape=(512,len_byte_vector))\n",
    "    last = Conv1D(128, (8,), strides=8)(last)\n",
    "    last = Conv1D(64, (8,), strides=8)(last)\n",
    "    last = LSTM(classes)(last)\n",
    "    last = Activation('softmax')(last)\n",
    "    name = sys._getframe().f_code.co_name\n",
    "    model = tf.keras.Model([l0], last, name=name)\n",
    "    model.compile(loss=tf.keras.losses.categorical_crossentropy,\n",
    "        optimizer=tf.keras.optimizers.Adam(),\n",
    "        metrics=['binary_accuracy', 'categorical_accuracy'])\n",
    "    return model"
   ]
  },
  {
   "cell_type": "code",
   "execution_count": 18,
   "metadata": {},
   "outputs": [],
   "source": [
    "def CCLL(classes, len_byte_vector):\n",
    "    last = l0 = Input(shape=(512,len_byte_vector))\n",
    "    last = Conv1D(128, (8,), strides=8)(last)\n",
    "    last = Conv1D(64, (8,), strides=8)(last)\n",
    "    last = LSTM(64, return_sequences=True)(last)\n",
    "    last = LSTM(classes)(last)\n",
    "    last = Activation('softmax')(last)\n",
    "    name = sys._getframe().f_code.co_name\n",
    "    model = tf.keras.Model([l0], last, name=name)\n",
    "    model.compile(loss=tf.keras.losses.categorical_crossentropy,\n",
    "        optimizer=tf.keras.optimizers.Adam(),\n",
    "        metrics=['binary_accuracy', 'categorical_accuracy'])\n",
    "    return model"
   ]
  },
  {
   "cell_type": "code",
   "execution_count": 19,
   "metadata": {},
   "outputs": [],
   "source": [
    "def CMCML(classes, len_byte_vector):\n",
    "    last = l0 = Input(shape=(512,len_byte_vector))\n",
    "    last = Conv1D(128, (8,), strides=8)(last)\n",
    "    last = MaxPooling1D(pool_size=2, strides=2, data_format='channels_first')(last)\n",
    "    last = Conv1D(64, (8,), strides=8)(last)\n",
    "    last = MaxPooling1D(pool_size=2, strides=2, data_format='channels_first')(last)\n",
    "    last = LSTM(classes)(last)\n",
    "    last = Activation('softmax')(last)\n",
    "    name = sys._getframe().f_code.co_name\n",
    "    model = tf.keras.Model([l0], last, name=name)\n",
    "    model.compile(loss=tf.keras.losses.categorical_crossentropy,\n",
    "        optimizer=tf.keras.optimizers.Adam(),\n",
    "        metrics=['binary_accuracy', 'categorical_accuracy'])\n",
    "    return model"
   ]
  },
  {
   "cell_type": "code",
   "execution_count": 20,
   "metadata": {},
   "outputs": [],
   "source": [
    "def CMCMLL(classes, len_byte_vector):\n",
    "    last = l0 = Input(shape=(512,len_byte_vector))\n",
    "    last = Conv1D(128, (8,), strides=8)(last)\n",
    "    last = MaxPooling1D(pool_size=2, strides=2, data_format='channels_first')(last)\n",
    "    last = Conv1D(64, (8,), strides=8)(last)\n",
    "    last = MaxPooling1D(pool_size=2, strides=2, data_format='channels_first')(last)\n",
    "    last = LSTM(64, return_sequences=True)(last)\n",
    "    last = LSTM(classes)(last)\n",
    "    last = Activation('softmax')(last)\n",
    "    name = sys._getframe().f_code.co_name\n",
    "    model = tf.keras.Model([l0], last, name=name)\n",
    "    model.compile(loss=tf.keras.losses.categorical_crossentropy,\n",
    "        optimizer=tf.keras.optimizers.Adam(),\n",
    "        metrics=['binary_accuracy', 'categorical_accuracy'])\n",
    "    return model"
   ]
  },
  {
   "cell_type": "code",
   "execution_count": 21,
   "metadata": {},
   "outputs": [
    {
     "name": "stdout",
     "output_type": "stream",
     "text": [
      "WARNING:tensorflow:From /home/atila.alr/.local/lib/python3.6/site-packages/tensorflow/python/ops/init_ops.py:1251: calling VarianceScaling.__init__ (from tensorflow.python.ops.init_ops) with dtype is deprecated and will be removed in a future version.\n",
      "Instructions for updating:\n",
      "Call initializer instance with the dtype argument instead of passing it to the constructor\n"
     ]
    }
   ],
   "source": [
    "classes = 28\n",
    "len_byte_vector=256\n",
    "mymodels = [\n",
    "    D(classes, len_byte_vector),\n",
    "\n",
    "    CD(classes, len_byte_vector),\n",
    "    CM(classes, len_byte_vector),\n",
    "    CCM(classes, len_byte_vector),\n",
    "    \n",
    "    CL(classes, len_byte_vector),\n",
    "    CML(classes, len_byte_vector),\n",
    "    CLL(classes, len_byte_vector),\n",
    "    CLD(classes, len_byte_vector),\n",
    "    \n",
    "    CCL(classes, len_byte_vector),\n",
    "    CCLL(classes, len_byte_vector),\n",
    "    CMCML(classes, len_byte_vector),\n",
    "    CMCMLL(classes, len_byte_vector),\n",
    "\n",
    "    LD(classes, len_byte_vector),\n",
    "    LL(classes, len_byte_vector),\n",
    "]"
   ]
  },
  {
   "cell_type": "code",
   "execution_count": 22,
   "metadata": {},
   "outputs": [],
   "source": [
    "class MyTrainer:\n",
    "    def __init__(self,\n",
    "                 model,\n",
    "                 group_by='by_file',\n",
    "                 xs_encoder='8bits_11',\n",
    "                 validation_steps=10,\n",
    "                 steps_per_epoch=28,\n",
    "                 epochs=10000000,\n",
    "                 max_seconds=None,\n",
    "                 batch_size=100,\n",
    "                 min_delta=1e-03,\n",
    "                 patience=10,\n",
    "                 blockSampler=block_sampler.BlockSampler,\n",
    "                 batchEncoder=batch_encoder.BatchEncoder):\n",
    "        self.model = model\n",
    "        self.group_by = group_by\n",
    "        self.xs_encoder = xs_encoder\n",
    "        self.validation_steps = validation_steps\n",
    "        self.steps_per_epoch = steps_per_epoch\n",
    "        self.epochs = epochs\n",
    "        self.max_seconds = max_seconds\n",
    "        self.batch_size = batch_size\n",
    "        self.min_delta = min_delta\n",
    "        self.patience = patience\n",
    "        self.blockSampler = blockSampler\n",
    "        self.batchEncoder = batchEncoder\n",
    "\n",
    "    def train(self, tset, vset):\n",
    "        tsampler = self.blockSampler(tset, group_by=self.group_by)\n",
    "        tbenc = self.batchEncoder(tsampler, self.batch_size,\n",
    "                                  xs_encoder=self.xs_encoder)\n",
    "\n",
    "        vsampler = self.blockSampler(vset, group_by=self.group_by)\n",
    "        vbenc = self.batchEncoder(vsampler, self.batch_size,\n",
    "                                  xs_encoder=self.xs_encoder)\n",
    "\n",
    "        model = self.model\n",
    "\n",
    "        timeIt = callbacks.TimeIt()\n",
    "\n",
    "        history = model.fit_generator(iter(tbenc),\n",
    "                                      validation_data=iter(vbenc),\n",
    "                                      validation_steps=self.validation_steps,\n",
    "                                      steps_per_epoch=self.steps_per_epoch,\n",
    "                                      epochs=self.epochs,\n",
    "                                      verbose=0,\n",
    "                                      callbacks=[\n",
    "            timeIt,\n",
    "            # callbacks.SaveModel(os.path.join(result_dir, model.name + '.h5')),\n",
    "#             callbacks.TimeLimit(self.max_seconds),\n",
    "            EarlyStopping(monitor='val_categorical_accuracy',\n",
    "                          min_delta=self.min_delta, patience=self.patience),\n",
    "            TensorBoard(\n",
    "                log_dir=os.path.join(result_dir, model.name),\n",
    "            ),\n",
    "        ],\n",
    "#             use_multiprocessing=False,\n",
    "#             workers=0,\n",
    "        )\n",
    "        return TrainResults(\n",
    "            model=model,\n",
    "            history=history,\n",
    "            metrics=['val_binary_accuracy', 'val_categorical_accuracy'],\n",
    "            elapsed=timeIt.elapsed,\n",
    "        )"
   ]
  },
  {
   "cell_type": "markdown",
   "metadata": {},
   "source": [
    "# Train models"
   ]
  },
  {
   "cell_type": "code",
   "execution_count": null,
   "metadata": {},
   "outputs": [
    {
     "name": "stdout",
     "output_type": "stream",
     "text": [
      "D\n",
      "549.7506058216095 0.485\n",
      "CD\n",
      "385.2922339439392 0.4875\n",
      "CM\n",
      "2325.2000629901886 0.54071426\n",
      "CCM\n"
     ]
    }
   ],
   "source": [
    "r = report.Reporter2(result_dir + '/models.tsv')\n",
    "for model in mymodels:\n",
    "    print(model.name)\n",
    "    result = MyTrainer(\n",
    "        model,\n",
    "        xs_encoder='one_hot',\n",
    "        batch_size=100,\n",
    "        steps_per_epoch=28,\n",
    "        validation_steps=28,\n",
    "        patience=10,\n",
    "    ).train(tset, vset)\n",
    "    print(result.elapsed, result.history.history['val_categorical_accuracy'][-1])\n",
    "    r.line(name=result.model.name,\n",
    "           elapsed=result.elapsed,\n",
    "           **report.report_epochs(**result._asdict()),\n",
    "           **report.report_metrics(result.history, result.metrics),\n",
    "          )\n",
    "\n",
    "r.close()"
   ]
  },
  {
   "cell_type": "markdown",
   "metadata": {},
   "source": [
    "# Load data"
   ]
  },
  {
   "cell_type": "code",
   "execution_count": null,
   "metadata": {},
   "outputs": [],
   "source": [
    "data3 = pd.read_csv(result_dir + '/models.tsv', sep='\\t')\n",
    "data3 = data3.sort_values('val_categorical_accuracy')\n",
    "data3"
   ]
  },
  {
   "cell_type": "code",
   "execution_count": null,
   "metadata": {},
   "outputs": [],
   "source": [
    "data3.iloc[13]"
   ]
  },
  {
   "cell_type": "code",
   "execution_count": null,
   "metadata": {},
   "outputs": [],
   "source": [
    "from matplotlib.ticker import MultipleLocator\n",
    "fig, ax = plt.subplots(figsize=(12,6))\n",
    "ax.yaxis.set_minor_locator(MultipleLocator(0.1))\n",
    "# plt.grid(linestyle='--', which='minor')\n",
    "ax.bar(data3['name'], data3['val_categorical_accuracy'], fill=False)\n",
    "plt.xticks(rotation='vertical')\n",
    "plt.ylim((0, 1))\n",
    "plt.ylabel('validation accuracy', fontsize=16)\n",
    "plt.xlabel('models', fontsize=16)\n",
    "ax.tick_params(labelsize=14)\n",
    "for i,idx in enumerate(data3.index):\n",
    "    row = data3.iloc[i]\n",
    "    v = row['val_categorical_accuracy']\n",
    "    e = row['Epochs']\n",
    "    tm = row['elapsed']\n",
    "    t = ax.annotate('%0.2f acc.\\n%d epochs'%(v,e), (i-0.3, v+0.19),fontsize=14)\n",
    "    t.set_rotation(90)\n",
    "    t = ax.annotate('%d m'%(tm/60), (i-0.1, v-0.04),fontsize=14)\n",
    "    t.set_rotation(90)    "
   ]
  },
  {
   "cell_type": "code",
   "execution_count": null,
   "metadata": {},
   "outputs": [],
   "source": []
  }
 ],
 "metadata": {
  "kernelspec": {
   "display_name": "Python 3",
   "language": "python",
   "name": "python3"
  },
  "language_info": {
   "codemirror_mode": {
    "name": "ipython",
    "version": 3
   },
   "file_extension": ".py",
   "mimetype": "text/x-python",
   "name": "python",
   "nbconvert_exporter": "python",
   "pygments_lexer": "ipython3",
   "version": "3.6.6"
  }
 },
 "nbformat": 4,
 "nbformat_minor": 2
}
