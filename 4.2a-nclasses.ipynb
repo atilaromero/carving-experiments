{
 "cells": [
  {
   "cell_type": "markdown",
   "metadata": {},
   "source": [
    "# 4.2-a How does the number of classes affect accuracy?"
   ]
  },
  {
   "cell_type": "code",
   "execution_count": 1,
   "metadata": {},
   "outputs": [
    {
     "name": "stderr",
     "output_type": "stream",
     "text": [
      "/home/atila.alr/.local/lib/python3.6/site-packages/tensorflow/python/framework/dtypes.py:516: FutureWarning: Passing (type, 1) or '1type' as a synonym of type is deprecated; in a future version of numpy, it will be understood as (type, (1,)) / '(1,)type'.\n",
      "  _np_qint8 = np.dtype([(\"qint8\", np.int8, 1)])\n",
      "/home/atila.alr/.local/lib/python3.6/site-packages/tensorflow/python/framework/dtypes.py:517: FutureWarning: Passing (type, 1) or '1type' as a synonym of type is deprecated; in a future version of numpy, it will be understood as (type, (1,)) / '(1,)type'.\n",
      "  _np_quint8 = np.dtype([(\"quint8\", np.uint8, 1)])\n",
      "/home/atila.alr/.local/lib/python3.6/site-packages/tensorflow/python/framework/dtypes.py:518: FutureWarning: Passing (type, 1) or '1type' as a synonym of type is deprecated; in a future version of numpy, it will be understood as (type, (1,)) / '(1,)type'.\n",
      "  _np_qint16 = np.dtype([(\"qint16\", np.int16, 1)])\n",
      "/home/atila.alr/.local/lib/python3.6/site-packages/tensorflow/python/framework/dtypes.py:519: FutureWarning: Passing (type, 1) or '1type' as a synonym of type is deprecated; in a future version of numpy, it will be understood as (type, (1,)) / '(1,)type'.\n",
      "  _np_quint16 = np.dtype([(\"quint16\", np.uint16, 1)])\n",
      "/home/atila.alr/.local/lib/python3.6/site-packages/tensorflow/python/framework/dtypes.py:520: FutureWarning: Passing (type, 1) or '1type' as a synonym of type is deprecated; in a future version of numpy, it will be understood as (type, (1,)) / '(1,)type'.\n",
      "  _np_qint32 = np.dtype([(\"qint32\", np.int32, 1)])\n",
      "/home/atila.alr/.local/lib/python3.6/site-packages/tensorflow/python/framework/dtypes.py:525: FutureWarning: Passing (type, 1) or '1type' as a synonym of type is deprecated; in a future version of numpy, it will be understood as (type, (1,)) / '(1,)type'.\n",
      "  np_resource = np.dtype([(\"resource\", np.ubyte, 1)])\n",
      "/home/atila.alr/.local/lib/python3.6/site-packages/tensorboard/compat/tensorflow_stub/dtypes.py:541: FutureWarning: Passing (type, 1) or '1type' as a synonym of type is deprecated; in a future version of numpy, it will be understood as (type, (1,)) / '(1,)type'.\n",
      "  _np_qint8 = np.dtype([(\"qint8\", np.int8, 1)])\n",
      "/home/atila.alr/.local/lib/python3.6/site-packages/tensorboard/compat/tensorflow_stub/dtypes.py:542: FutureWarning: Passing (type, 1) or '1type' as a synonym of type is deprecated; in a future version of numpy, it will be understood as (type, (1,)) / '(1,)type'.\n",
      "  _np_quint8 = np.dtype([(\"quint8\", np.uint8, 1)])\n",
      "/home/atila.alr/.local/lib/python3.6/site-packages/tensorboard/compat/tensorflow_stub/dtypes.py:543: FutureWarning: Passing (type, 1) or '1type' as a synonym of type is deprecated; in a future version of numpy, it will be understood as (type, (1,)) / '(1,)type'.\n",
      "  _np_qint16 = np.dtype([(\"qint16\", np.int16, 1)])\n",
      "/home/atila.alr/.local/lib/python3.6/site-packages/tensorboard/compat/tensorflow_stub/dtypes.py:544: FutureWarning: Passing (type, 1) or '1type' as a synonym of type is deprecated; in a future version of numpy, it will be understood as (type, (1,)) / '(1,)type'.\n",
      "  _np_quint16 = np.dtype([(\"quint16\", np.uint16, 1)])\n",
      "/home/atila.alr/.local/lib/python3.6/site-packages/tensorboard/compat/tensorflow_stub/dtypes.py:545: FutureWarning: Passing (type, 1) or '1type' as a synonym of type is deprecated; in a future version of numpy, it will be understood as (type, (1,)) / '(1,)type'.\n",
      "  _np_qint32 = np.dtype([(\"qint32\", np.int32, 1)])\n",
      "/home/atila.alr/.local/lib/python3.6/site-packages/tensorboard/compat/tensorflow_stub/dtypes.py:550: FutureWarning: Passing (type, 1) or '1type' as a synonym of type is deprecated; in a future version of numpy, it will be understood as (type, (1,)) / '(1,)type'.\n",
      "  np_resource = np.dtype([(\"resource\", np.ubyte, 1)])\n"
     ]
    }
   ],
   "source": [
    "import os\n",
    "import sys\n",
    "import datetime\n",
    "import random\n",
    "import tensorflow as tf\n",
    "import numpy as np\n",
    "import pandas as pd\n",
    "import matplotlib.pyplot as plt\n",
    "from collections import OrderedDict\n",
    "\n",
    "import models\n",
    "import report\n",
    "from dataset import Dataset\n",
    "from report import Reporter\n",
    "from trainer import Trainer\n",
    "from batch_encoder import Dataset\n",
    "\n",
    "from tensorflow.keras.layers import Input, Conv1D, MaxPooling1D, LSTM, Dense, Activation, TimeDistributed, Flatten, Dot, Softmax, Lambda, RepeatVector, Multiply, Permute, Reshape, BatchNormalization"
   ]
  },
  {
   "cell_type": "code",
   "execution_count": 2,
   "metadata": {},
   "outputs": [
    {
     "data": {
      "text/plain": [
       "('1.14.0', '2.2.4-tf')"
      ]
     },
     "execution_count": 2,
     "metadata": {},
     "output_type": "execute_result"
    }
   ],
   "source": [
    "tf.__version__, tf.keras.__version__"
   ]
  },
  {
   "cell_type": "code",
   "execution_count": 3,
   "metadata": {},
   "outputs": [
    {
     "data": {
      "text/plain": [
       "(False, False)"
      ]
     },
     "execution_count": 3,
     "metadata": {},
     "output_type": "execute_result"
    }
   ],
   "source": [
    "tf.test.is_gpu_available(), tf.test.is_built_with_cuda()"
   ]
  },
  {
   "cell_type": "code",
   "execution_count": 4,
   "metadata": {},
   "outputs": [],
   "source": [
    "raw_dataset_folder='govdocs1/sample200'\n",
    "minimum=200\n",
    "maximum=200\n",
    "result_dir = 'results/4.2a-nclasses'"
   ]
  },
  {
   "cell_type": "code",
   "execution_count": 5,
   "metadata": {},
   "outputs": [],
   "source": [
    "rawset = Dataset.new_from_folders(raw_dataset_folder)\n",
    "rawset = rawset.filter(lambda x: rawset.category_from(x) not in ['text', 'unk'])\n",
    "rawset = rawset.filter_min_max(200, 200)"
   ]
  },
  {
   "cell_type": "code",
   "execution_count": 6,
   "metadata": {},
   "outputs": [],
   "source": [
    "def CM(classes, len_byte_vector):\n",
    "    last = l0 = Input(shape=(512,len_byte_vector))\n",
    "    last = Conv1D(classes, (32,), strides=1)(last)\n",
    "    last = MaxPooling1D(pool_size=481, strides=1)(last)\n",
    "    last = Flatten()(last)\n",
    "    last = Activation('softmax')(last)\n",
    "    name = sys._getframe().f_code.co_name\n",
    "    model = tf.keras.Model([l0], last, name=name)\n",
    "    model.compile(loss=tf.keras.losses.categorical_crossentropy,\n",
    "        optimizer=tf.keras.optimizers.Adam(),\n",
    "        metrics=['binary_accuracy', 'categorical_accuracy'])\n",
    "    return model"
   ]
  },
  {
   "cell_type": "code",
   "execution_count": 7,
   "metadata": {},
   "outputs": [],
   "source": [
    "def train_nclasses(rawset, reporter, iterations=1):\n",
    "    for it in range(iterations):\n",
    "        for n in range(2, len(rawset.categories)+1):\n",
    "            cats = random.sample(rawset.by_category().keys(), n)\n",
    "            print(n, cats)\n",
    "            myset = rawset.filter(lambda x: rawset.category_from(x) in cats)\n",
    "            myset.rebuild_categories()\n",
    "            tset, vset = myset.rnd_split_fraction_by_category(0.5)\n",
    "\n",
    "            model = CM(n, 256)\n",
    "            result = Trainer(\n",
    "                model,\n",
    "                xs_encoder='one_hot',\n",
    "                batch_size=100,\n",
    "                steps_per_epoch=28,\n",
    "                validation_steps=28,\n",
    "                patience=10,\n",
    "            ).train(tset, vset)\n",
    "            r.line(n=n,\n",
    "                cats=','.join(cats),\n",
    "                val_categorical_accuracy=result.history.history['val_categorical_accuracy'][-1],\n",
    "            )"
   ]
  },
  {
   "cell_type": "markdown",
   "metadata": {},
   "source": [
    "# Train models"
   ]
  },
  {
   "cell_type": "code",
   "execution_count": null,
   "metadata": {},
   "outputs": [
    {
     "name": "stdout",
     "output_type": "stream",
     "text": [
      "2 ['ps', 'eps']\n",
      "WARNING:tensorflow:From /home/atila.alr/.local/lib/python3.6/site-packages/tensorflow/python/ops/init_ops.py:1251: calling VarianceScaling.__init__ (from tensorflow.python.ops.init_ops) with dtype is deprecated and will be removed in a future version.\n",
      "Instructions for updating:\n",
      "Call initializer instance with the dtype argument instead of passing it to the constructor\n",
      "3 ['log', 'rtf', 'xml']\n",
      "4 ['jpg', 'kml', 'f', 'png']\n",
      "5 ['doc', 'eps', 'java', 'f', 'rtf']\n",
      "6 ['pdf', 'pps', 'wp', 'log', 'kmz', 'gz']\n",
      "7 ['dbase3', 'rtf', 'pdf', 'sql', 'html', 'dwf', 'doc']\n",
      "8 ['jpg', 'xml', 'gif', 'ppt', 'f', 'rtf', 'dbase3', 'eps']\n",
      "9 ['png', 'pptx', 'swf', 'log', 'ppt', 'rtf', 'pps', 'html', 'java']\n",
      "10 ['hlp', 'gz', 'pps', 'gif', 'kmz', 'dwf', 'dbase3', 'java', 'swf', 'doc']\n",
      "11 ['gif', 'swf', 'kml', 'png', 'doc', 'html', 'dwf', 'hlp', 'xml', 'f', 'eps']\n",
      "12 ['csv', 'doc', 'ps', 'java', 'html', 'dbase3', 'xls', 'pptx', 'xml', 'kmz', 'kml', 'wp']\n",
      "13 ['rtf', 'dbase3', 'ps', 'java', 'f', 'pptx', 'txt', 'gz', 'kmz', 'log', 'kml', 'pdf', 'html']\n",
      "14 ['doc', 'f', 'hlp', 'xls', 'wp', 'jpg', 'java', 'pps', 'eps', 'dbase3', 'gz', 'pptx', 'txt', 'swf']\n",
      "15 ['rtf', 'gz', 'html', 'dbase3', 'gif', 'java', 'dwf', 'hlp', 'kmz', 'pptx', 'xls', 'doc', 'swf', 'f', 'txt']\n",
      "16 ['sql', 'doc', 'gif', 'html', 'eps', 'log', 'gz', 'kml', 'csv', 'f', 'swf', 'ps', 'ppt', 'dwf', 'java', 'pptx']\n",
      "17 ['log', 'kmz', 'pptx', 'html', 'ps', 'rtf', 'swf', 'dwf', 'xls', 'xml', 'java', 'hlp', 'png', 'pdf', 'sql', 'jpg', 'gif']\n",
      "18 ['pptx', 'sql', 'csv', 'hlp', 'html', 'rtf', 'txt', 'swf', 'xls', 'log', 'png', 'gif', 'dwf', 'gz', 'pdf', 'pps', 'ppt', 'f']\n",
      "19 ['doc', 'kml', 'xml', 'pps', 'wp', 'swf', 'hlp', 'ppt', 'gif', 'dwf', 'f', 'eps', 'dbase3', 'txt', 'pptx', 'sql', 'log', 'rtf', 'png']\n",
      "20 ['sql', 'gif', 'swf', 'kml', 'ppt', 'html', 'txt', 'pptx', 'png', 'eps', 'dwf', 'kmz', 'log', 'gz', 'ps', 'f', 'jpg', 'pdf', 'xls', 'java']\n",
      "21 ['txt', 'ppt', 'xml', 'dbase3', 'f', 'pptx', 'sql', 'png', 'dwf', 'log', 'doc', 'kmz', 'hlp', 'java', 'ps', 'gz', 'wp', 'jpg', 'eps', 'swf', 'gif']\n",
      "22 ['pptx', 'doc', 'f', 'eps', 'sql', 'txt', 'xml', 'html', 'kml', 'csv', 'xls', 'jpg', 'dwf', 'ps', 'wp', 'gif', 'pps', 'png', 'gz', 'log', 'pdf', 'ppt']\n",
      "23 ['pps', 'csv', 'pptx', 'sql', 'png', 'ps', 'kml', 'txt', 'gif', 'dwf', 'doc', 'log', 'swf', 'wp', 'hlp', 'pdf', 'f', 'dbase3', 'html', 'jpg', 'java', 'xml', 'eps']\n",
      "24 ['sql', 'doc', 'txt', 'png', 'dbase3', 'html', 'csv', 'java', 'pptx', 'gz', 'eps', 'pps', 'ppt', 'kml', 'gif', 'jpg', 'kmz', 'pdf', 'wp', 'xls', 'hlp', 'xml', 'swf', 'dwf']\n",
      "25 ['pptx', 'dwf', 'java', 'eps', 'swf', 'dbase3', 'jpg', 'gz', 'rtf', 'xml', 'doc', 'csv', 'html', 'ppt', 'xls', 'f', 'log', 'hlp', 'pps', 'wp', 'kml', 'kmz', 'png', 'pdf', 'gif']\n",
      "26 ['xml', 'gz', 'txt', 'wp', 'ps', 'html', 'pps', 'doc', 'pdf', 'pptx', 'kmz', 'sql', 'f', 'gif', 'jpg', 'rtf', 'kml', 'ppt', 'xls', 'dbase3', 'swf', 'hlp', 'dwf', 'eps', 'png', 'java']\n",
      "27 ['pdf', 'dbase3', 'ppt', 'gif', 'ps', 'doc', 'pps', 'sql', 'gz', 'png', 'dwf', 'kml', 'f', 'java', 'txt', 'kmz', 'log', 'jpg', 'xml', 'hlp', 'swf', 'csv', 'eps', 'html', 'wp', 'pptx', 'rtf']\n",
      "28 ['txt', 'xls', 'ps', 'pps', 'pdf', 'hlp', 'java', 'f', 'png', 'wp', 'eps', 'doc', 'jpg', 'swf', 'pptx', 'gif', 'html', 'ppt', 'rtf', 'csv', 'dwf', 'gz', 'kmz', 'sql', 'kml', 'dbase3', 'log', 'xml']\n",
      "2 ['eps', 'pptx']\n",
      "3 ['swf', 'sql', 'dwf']\n",
      "4 ['doc', 'sql', 'xls', 'rtf']\n",
      "5 ['png', 'kml', 'rtf', 'xls', 'hlp']\n",
      "6 ['pps', 'eps', 'doc', 'rtf', 'dwf', 'pdf']\n",
      "7 ['pptx', 'eps', 'ps', 'pps', 'dwf', 'png', 'doc']\n",
      "8 ['png', 'pptx', 'csv', 'pps', 'ppt', 'xml', 'dbase3', 'kml']\n",
      "9 ['doc', 'gif', 'html', 'ppt', 'pptx', 'eps', 'dwf', 'f', 'hlp']\n",
      "10 ['ppt', 'wp', 'rtf', 'kmz', 'pptx', 'log', 'png', 'gif', 'ps', 'hlp']\n",
      "11 ['pptx', 'gz', 'sql', 'txt', 'csv', 'png', 'kmz', 'dwf', 'f', 'java', 'pdf']\n",
      "12 ['jpg', 'csv', 'ppt', 'hlp', 'kmz', 'eps', 'dwf', 'swf', 'pptx', 'pdf', 'wp', 'xml']\n",
      "13 ['hlp', 'pptx', 'xml', 'gif', 'gz', 'ppt', 'html', 'sql', 'jpg', 'pps', 'rtf', 'java', 'xls']\n",
      "14 ['doc', 'swf', 'txt', 'ps', 'pps', 'f', 'dwf', 'eps', 'pdf', 'xml', 'rtf', 'xls', 'png', 'ppt']\n",
      "15 ['hlp', 'java', 'gz', 'csv', 'html', 'ps', 'f', 'pdf', 'txt', 'jpg', 'pps', 'rtf', 'png', 'wp', 'sql']\n",
      "16 ['rtf', 'sql', 'log', 'hlp', 'ppt', 'html', 'kmz', 'txt', 'xls', 'dbase3', 'dwf', 'eps', 'gz', 'pps', 'ps', 'png']\n"
     ]
    }
   ],
   "source": [
    "if os.path.exists(result_dir + \"/nclasses.tsv\"):\n",
    "    os.remove(result_dir + \"/nclasses.tsv\")\n",
    "r = report.Reporter2(result_dir + '/nclasses.tsv')\n",
    "train_nclasses(rawset, r, 5)\n",
    "r.close()"
   ]
  },
  {
   "cell_type": "markdown",
   "metadata": {},
   "source": [
    "# Load data"
   ]
  },
  {
   "cell_type": "code",
   "execution_count": null,
   "metadata": {},
   "outputs": [],
   "source": [
    "data = pd.read_csv(result_dir + '/nclasses.tsv', sep='\\t')\n",
    "data"
   ]
  },
  {
   "cell_type": "code",
   "execution_count": null,
   "metadata": {},
   "outputs": [],
   "source": [
    "from matplotlib.ticker import MultipleLocator\n",
    "def plot_acc(xs, ys, labels=None, loc='upper right', alpha_on=None):\n",
    "    fig = plt.figure(figsize=(12,8))\n",
    "#     fig.yaxis.set_minor_locator()\n",
    "    if labels is None:\n",
    "        labels = [None for x in xs]\n",
    "    for x, y, label, mark in zip(xs, ys, labels, ['bx', 'g-', 'r*', '.mD']):\n",
    "        plt.plot(x[x==alpha_on], y[x==alpha_on], mark, alpha=0.1, label='')\n",
    "        plt.plot(x[x!=alpha_on], y[x!=alpha_on], mark, label=label)\n",
    "    ax1 = plt.gca()\n",
    "    plt.ylabel('accuracy', fontsize=16)\n",
    "    plt.xlabel('number of classes', fontsize=16)\n",
    "    plt.xlim((-0, 31))\n",
    "    plt.ylim((-0, 1))\n",
    "    ax1.xaxis.set_major_locator(MultipleLocator(5))\n",
    "    ax1.xaxis.set_minor_locator(MultipleLocator(1))\n",
    "    ax1.yaxis.set_major_locator(MultipleLocator(0.1))\n",
    "    ax1.yaxis.set_minor_locator(MultipleLocator(0.05))\n",
    "    plt.grid(linestyle='-', color='k', which='major')\n",
    "    plt.grid(linestyle='--', which='minor')\n",
    "    for tick in ax1.xaxis.get_major_ticks():\n",
    "        tick.label.set_fontsize(16) \n",
    "    for tick in ax1.yaxis.get_major_ticks():\n",
    "        tick.label.set_fontsize(16) \n",
    "    plt.legend(loc=loc, prop={'size': 16})\n",
    "#     plt.savefig('acc.png')"
   ]
  },
  {
   "cell_type": "code",
   "execution_count": null,
   "metadata": {},
   "outputs": [],
   "source": [
    "x = np.arange(2,30,0.01)\n",
    "y = 1/x\n",
    "plot_acc([data['n'], x], [data['val_categorical_accuracy'], y], ['models trained with many classes', 'random chance'])"
   ]
  }
 ],
 "metadata": {
  "kernelspec": {
   "display_name": "Python 3",
   "language": "python",
   "name": "python3"
  },
  "language_info": {
   "codemirror_mode": {
    "name": "ipython",
    "version": 3
   },
   "file_extension": ".py",
   "mimetype": "text/x-python",
   "name": "python",
   "nbconvert_exporter": "python",
   "pygments_lexer": "ipython3",
   "version": "3.6.6"
  }
 },
 "nbformat": 4,
 "nbformat_minor": 2
}
