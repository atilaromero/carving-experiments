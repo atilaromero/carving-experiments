{
 "cells": [
  {
   "cell_type": "markdown",
   "metadata": {},
   "source": [
    "# 4.2-a How does the number of classes affect accuracy?"
   ]
  },
  {
   "cell_type": "code",
   "execution_count": 1,
   "metadata": {},
   "outputs": [
    {
     "name": "stderr",
     "output_type": "stream",
     "text": [
      "/home/atila.alr/.local/lib/python3.6/site-packages/tensorflow/python/framework/dtypes.py:516: FutureWarning: Passing (type, 1) or '1type' as a synonym of type is deprecated; in a future version of numpy, it will be understood as (type, (1,)) / '(1,)type'.\n",
      "  _np_qint8 = np.dtype([(\"qint8\", np.int8, 1)])\n",
      "/home/atila.alr/.local/lib/python3.6/site-packages/tensorflow/python/framework/dtypes.py:517: FutureWarning: Passing (type, 1) or '1type' as a synonym of type is deprecated; in a future version of numpy, it will be understood as (type, (1,)) / '(1,)type'.\n",
      "  _np_quint8 = np.dtype([(\"quint8\", np.uint8, 1)])\n",
      "/home/atila.alr/.local/lib/python3.6/site-packages/tensorflow/python/framework/dtypes.py:518: FutureWarning: Passing (type, 1) or '1type' as a synonym of type is deprecated; in a future version of numpy, it will be understood as (type, (1,)) / '(1,)type'.\n",
      "  _np_qint16 = np.dtype([(\"qint16\", np.int16, 1)])\n",
      "/home/atila.alr/.local/lib/python3.6/site-packages/tensorflow/python/framework/dtypes.py:519: FutureWarning: Passing (type, 1) or '1type' as a synonym of type is deprecated; in a future version of numpy, it will be understood as (type, (1,)) / '(1,)type'.\n",
      "  _np_quint16 = np.dtype([(\"quint16\", np.uint16, 1)])\n",
      "/home/atila.alr/.local/lib/python3.6/site-packages/tensorflow/python/framework/dtypes.py:520: FutureWarning: Passing (type, 1) or '1type' as a synonym of type is deprecated; in a future version of numpy, it will be understood as (type, (1,)) / '(1,)type'.\n",
      "  _np_qint32 = np.dtype([(\"qint32\", np.int32, 1)])\n",
      "/home/atila.alr/.local/lib/python3.6/site-packages/tensorflow/python/framework/dtypes.py:525: FutureWarning: Passing (type, 1) or '1type' as a synonym of type is deprecated; in a future version of numpy, it will be understood as (type, (1,)) / '(1,)type'.\n",
      "  np_resource = np.dtype([(\"resource\", np.ubyte, 1)])\n",
      "/home/atila.alr/.local/lib/python3.6/site-packages/tensorboard/compat/tensorflow_stub/dtypes.py:541: FutureWarning: Passing (type, 1) or '1type' as a synonym of type is deprecated; in a future version of numpy, it will be understood as (type, (1,)) / '(1,)type'.\n",
      "  _np_qint8 = np.dtype([(\"qint8\", np.int8, 1)])\n",
      "/home/atila.alr/.local/lib/python3.6/site-packages/tensorboard/compat/tensorflow_stub/dtypes.py:542: FutureWarning: Passing (type, 1) or '1type' as a synonym of type is deprecated; in a future version of numpy, it will be understood as (type, (1,)) / '(1,)type'.\n",
      "  _np_quint8 = np.dtype([(\"quint8\", np.uint8, 1)])\n",
      "/home/atila.alr/.local/lib/python3.6/site-packages/tensorboard/compat/tensorflow_stub/dtypes.py:543: FutureWarning: Passing (type, 1) or '1type' as a synonym of type is deprecated; in a future version of numpy, it will be understood as (type, (1,)) / '(1,)type'.\n",
      "  _np_qint16 = np.dtype([(\"qint16\", np.int16, 1)])\n",
      "/home/atila.alr/.local/lib/python3.6/site-packages/tensorboard/compat/tensorflow_stub/dtypes.py:544: FutureWarning: Passing (type, 1) or '1type' as a synonym of type is deprecated; in a future version of numpy, it will be understood as (type, (1,)) / '(1,)type'.\n",
      "  _np_quint16 = np.dtype([(\"quint16\", np.uint16, 1)])\n",
      "/home/atila.alr/.local/lib/python3.6/site-packages/tensorboard/compat/tensorflow_stub/dtypes.py:545: FutureWarning: Passing (type, 1) or '1type' as a synonym of type is deprecated; in a future version of numpy, it will be understood as (type, (1,)) / '(1,)type'.\n",
      "  _np_qint32 = np.dtype([(\"qint32\", np.int32, 1)])\n",
      "/home/atila.alr/.local/lib/python3.6/site-packages/tensorboard/compat/tensorflow_stub/dtypes.py:550: FutureWarning: Passing (type, 1) or '1type' as a synonym of type is deprecated; in a future version of numpy, it will be understood as (type, (1,)) / '(1,)type'.\n",
      "  np_resource = np.dtype([(\"resource\", np.ubyte, 1)])\n"
     ]
    }
   ],
   "source": [
    "import os\n",
    "import sys\n",
    "import datetime\n",
    "import random\n",
    "import tensorflow as tf\n",
    "import numpy as np\n",
    "import pandas as pd\n",
    "import matplotlib.pyplot as plt\n",
    "from collections import OrderedDict\n",
    "\n",
    "import models\n",
    "import report\n",
    "from dataset import Dataset\n",
    "from report import Reporter\n",
    "from trainer import Trainer\n",
    "from batch_encoder import Dataset\n",
    "\n",
    "from tensorflow.keras.layers import Input, Conv1D, MaxPooling1D, LSTM, Dense, Activation, TimeDistributed, Flatten, Dot, Softmax, Lambda, RepeatVector, Multiply, Permute, Reshape, BatchNormalization"
   ]
  },
  {
   "cell_type": "code",
   "execution_count": 2,
   "metadata": {},
   "outputs": [
    {
     "data": {
      "text/plain": [
       "('1.14.0', '2.2.4-tf')"
      ]
     },
     "execution_count": 2,
     "metadata": {},
     "output_type": "execute_result"
    }
   ],
   "source": [
    "tf.__version__, tf.keras.__version__"
   ]
  },
  {
   "cell_type": "code",
   "execution_count": 3,
   "metadata": {},
   "outputs": [
    {
     "data": {
      "text/plain": [
       "(False, False)"
      ]
     },
     "execution_count": 3,
     "metadata": {},
     "output_type": "execute_result"
    }
   ],
   "source": [
    "tf.test.is_gpu_available(), tf.test.is_built_with_cuda()"
   ]
  },
  {
   "cell_type": "code",
   "execution_count": 4,
   "metadata": {},
   "outputs": [],
   "source": [
    "raw_dataset_folder='govdocs1/sample200'\n",
    "minimum=200\n",
    "maximum=200\n",
    "result_dir = 'results/4.2a-nclasses'"
   ]
  },
  {
   "cell_type": "code",
   "execution_count": 5,
   "metadata": {},
   "outputs": [],
   "source": [
    "rawset = Dataset.new_from_folders(raw_dataset_folder)\n",
    "rawset = rawset.filter(lambda x: rawset.category_from(x) not in ['text', 'unk'])\n",
    "rawset = rawset.filter_min_max(200, 200)"
   ]
  },
  {
   "cell_type": "code",
   "execution_count": 6,
   "metadata": {},
   "outputs": [],
   "source": [
    "def CM(classes, len_byte_vector):\n",
    "    last = l0 = Input(shape=(512,len_byte_vector))\n",
    "    last = Conv1D(classes, (32,), strides=1)(last)\n",
    "    last = MaxPooling1D(pool_size=481, strides=1)(last)\n",
    "    last = Flatten()(last)\n",
    "    last = Activation('softmax')(last)\n",
    "    name = sys._getframe().f_code.co_name\n",
    "    model = tf.keras.Model([l0], last, name=name)\n",
    "    model.compile(loss=tf.keras.losses.categorical_crossentropy,\n",
    "        optimizer=tf.keras.optimizers.Adam(),\n",
    "        metrics=['binary_accuracy', 'categorical_accuracy'])\n",
    "    return model"
   ]
  },
  {
   "cell_type": "code",
   "execution_count": 7,
   "metadata": {},
   "outputs": [],
   "source": [
    "def train_nclasses(rawset, reporter, iterations=1):\n",
    "    for it in range(iterations):\n",
    "        for n in range(2, len(rawset.categories)+1):\n",
    "            cats = random.sample(rawset.by_category().keys(), n)\n",
    "            print(n, cats)\n",
    "            myset = rawset.filter(lambda x: rawset.category_from(x) in cats)\n",
    "            myset.rebuild_categories()\n",
    "            tset, vset = myset.rnd_split_fraction_by_category(0.5)\n",
    "\n",
    "            model = CM(n, 256)\n",
    "            result = Trainer(\n",
    "                model,\n",
    "                xs_encoder='one_hot',\n",
    "                batch_size=100,\n",
    "                steps_per_epoch=28,\n",
    "                validation_steps=28,\n",
    "                patience=10,\n",
    "            ).train(tset, vset)\n",
    "            r.line(n=n,\n",
    "                cats=','.join(cats),\n",
    "                val_categorical_accuracy=result.history.history['val_categorical_accuracy'][-1],\n",
    "            )"
   ]
  },
  {
   "cell_type": "markdown",
   "metadata": {},
   "source": [
    "# Train models"
   ]
  },
  {
   "cell_type": "code",
   "execution_count": 8,
   "metadata": {},
   "outputs": [
    {
     "name": "stdout",
     "output_type": "stream",
     "text": [
      "2 ['ps', 'eps']\n",
      "WARNING:tensorflow:From /home/atila.alr/.local/lib/python3.6/site-packages/tensorflow/python/ops/init_ops.py:1251: calling VarianceScaling.__init__ (from tensorflow.python.ops.init_ops) with dtype is deprecated and will be removed in a future version.\n",
      "Instructions for updating:\n",
      "Call initializer instance with the dtype argument instead of passing it to the constructor\n",
      "3 ['log', 'rtf', 'xml']\n",
      "4 ['jpg', 'kml', 'f', 'png']\n",
      "5 ['doc', 'eps', 'java', 'f', 'rtf']\n",
      "6 ['pdf', 'pps', 'wp', 'log', 'kmz', 'gz']\n",
      "7 ['dbase3', 'rtf', 'pdf', 'sql', 'html', 'dwf', 'doc']\n",
      "8 ['jpg', 'xml', 'gif', 'ppt', 'f', 'rtf', 'dbase3', 'eps']\n",
      "9 ['png', 'pptx', 'swf', 'log', 'ppt', 'rtf', 'pps', 'html', 'java']\n",
      "10 ['hlp', 'gz', 'pps', 'gif', 'kmz', 'dwf', 'dbase3', 'java', 'swf', 'doc']\n",
      "11 ['gif', 'swf', 'kml', 'png', 'doc', 'html', 'dwf', 'hlp', 'xml', 'f', 'eps']\n",
      "12 ['csv', 'doc', 'ps', 'java', 'html', 'dbase3', 'xls', 'pptx', 'xml', 'kmz', 'kml', 'wp']\n",
      "13 ['rtf', 'dbase3', 'ps', 'java', 'f', 'pptx', 'txt', 'gz', 'kmz', 'log', 'kml', 'pdf', 'html']\n",
      "14 ['doc', 'f', 'hlp', 'xls', 'wp', 'jpg', 'java', 'pps', 'eps', 'dbase3', 'gz', 'pptx', 'txt', 'swf']\n",
      "15 ['rtf', 'gz', 'html', 'dbase3', 'gif', 'java', 'dwf', 'hlp', 'kmz', 'pptx', 'xls', 'doc', 'swf', 'f', 'txt']\n",
      "16 ['sql', 'doc', 'gif', 'html', 'eps', 'log', 'gz', 'kml', 'csv', 'f', 'swf', 'ps', 'ppt', 'dwf', 'java', 'pptx']\n",
      "17 ['log', 'kmz', 'pptx', 'html', 'ps', 'rtf', 'swf', 'dwf', 'xls', 'xml', 'java', 'hlp', 'png', 'pdf', 'sql', 'jpg', 'gif']\n",
      "18 ['pptx', 'sql', 'csv', 'hlp', 'html', 'rtf', 'txt', 'swf', 'xls', 'log', 'png', 'gif', 'dwf', 'gz', 'pdf', 'pps', 'ppt', 'f']\n",
      "19 ['doc', 'kml', 'xml', 'pps', 'wp', 'swf', 'hlp', 'ppt', 'gif', 'dwf', 'f', 'eps', 'dbase3', 'txt', 'pptx', 'sql', 'log', 'rtf', 'png']\n",
      "20 ['sql', 'gif', 'swf', 'kml', 'ppt', 'html', 'txt', 'pptx', 'png', 'eps', 'dwf', 'kmz', 'log', 'gz', 'ps', 'f', 'jpg', 'pdf', 'xls', 'java']\n",
      "21 ['txt', 'ppt', 'xml', 'dbase3', 'f', 'pptx', 'sql', 'png', 'dwf', 'log', 'doc', 'kmz', 'hlp', 'java', 'ps', 'gz', 'wp', 'jpg', 'eps', 'swf', 'gif']\n",
      "22 ['pptx', 'doc', 'f', 'eps', 'sql', 'txt', 'xml', 'html', 'kml', 'csv', 'xls', 'jpg', 'dwf', 'ps', 'wp', 'gif', 'pps', 'png', 'gz', 'log', 'pdf', 'ppt']\n",
      "23 ['pps', 'csv', 'pptx', 'sql', 'png', 'ps', 'kml', 'txt', 'gif', 'dwf', 'doc', 'log', 'swf', 'wp', 'hlp', 'pdf', 'f', 'dbase3', 'html', 'jpg', 'java', 'xml', 'eps']\n",
      "24 ['sql', 'doc', 'txt', 'png', 'dbase3', 'html', 'csv', 'java', 'pptx', 'gz', 'eps', 'pps', 'ppt', 'kml', 'gif', 'jpg', 'kmz', 'pdf', 'wp', 'xls', 'hlp', 'xml', 'swf', 'dwf']\n",
      "25 ['pptx', 'dwf', 'java', 'eps', 'swf', 'dbase3', 'jpg', 'gz', 'rtf', 'xml', 'doc', 'csv', 'html', 'ppt', 'xls', 'f', 'log', 'hlp', 'pps', 'wp', 'kml', 'kmz', 'png', 'pdf', 'gif']\n",
      "26 ['xml', 'gz', 'txt', 'wp', 'ps', 'html', 'pps', 'doc', 'pdf', 'pptx', 'kmz', 'sql', 'f', 'gif', 'jpg', 'rtf', 'kml', 'ppt', 'xls', 'dbase3', 'swf', 'hlp', 'dwf', 'eps', 'png', 'java']\n",
      "27 ['pdf', 'dbase3', 'ppt', 'gif', 'ps', 'doc', 'pps', 'sql', 'gz', 'png', 'dwf', 'kml', 'f', 'java', 'txt', 'kmz', 'log', 'jpg', 'xml', 'hlp', 'swf', 'csv', 'eps', 'html', 'wp', 'pptx', 'rtf']\n",
      "28 ['txt', 'xls', 'ps', 'pps', 'pdf', 'hlp', 'java', 'f', 'png', 'wp', 'eps', 'doc', 'jpg', 'swf', 'pptx', 'gif', 'html', 'ppt', 'rtf', 'csv', 'dwf', 'gz', 'kmz', 'sql', 'kml', 'dbase3', 'log', 'xml']\n",
      "2 ['eps', 'pptx']\n",
      "3 ['swf', 'sql', 'dwf']\n",
      "4 ['doc', 'sql', 'xls', 'rtf']\n",
      "5 ['png', 'kml', 'rtf', 'xls', 'hlp']\n",
      "6 ['pps', 'eps', 'doc', 'rtf', 'dwf', 'pdf']\n",
      "7 ['pptx', 'eps', 'ps', 'pps', 'dwf', 'png', 'doc']\n",
      "8 ['png', 'pptx', 'csv', 'pps', 'ppt', 'xml', 'dbase3', 'kml']\n",
      "9 ['doc', 'gif', 'html', 'ppt', 'pptx', 'eps', 'dwf', 'f', 'hlp']\n",
      "10 ['ppt', 'wp', 'rtf', 'kmz', 'pptx', 'log', 'png', 'gif', 'ps', 'hlp']\n",
      "11 ['pptx', 'gz', 'sql', 'txt', 'csv', 'png', 'kmz', 'dwf', 'f', 'java', 'pdf']\n",
      "12 ['jpg', 'csv', 'ppt', 'hlp', 'kmz', 'eps', 'dwf', 'swf', 'pptx', 'pdf', 'wp', 'xml']\n",
      "13 ['hlp', 'pptx', 'xml', 'gif', 'gz', 'ppt', 'html', 'sql', 'jpg', 'pps', 'rtf', 'java', 'xls']\n",
      "14 ['doc', 'swf', 'txt', 'ps', 'pps', 'f', 'dwf', 'eps', 'pdf', 'xml', 'rtf', 'xls', 'png', 'ppt']\n",
      "15 ['hlp', 'java', 'gz', 'csv', 'html', 'ps', 'f', 'pdf', 'txt', 'jpg', 'pps', 'rtf', 'png', 'wp', 'sql']\n",
      "16 ['rtf', 'sql', 'log', 'hlp', 'ppt', 'html', 'kmz', 'txt', 'xls', 'dbase3', 'dwf', 'eps', 'gz', 'pps', 'ps', 'png']\n",
      "17 ['ppt', 'ps', 'kml', 'doc', 'dwf', 'eps', 'sql', 'gif', 'dbase3', 'txt', 'pptx', 'rtf', 'xls', 'f', 'html', 'pdf', 'log']\n",
      "18 ['ppt', 'gif', 'kmz', 'f', 'pdf', 'txt', 'kml', 'jpg', 'dbase3', 'xls', 'pptx', 'log', 'dwf', 'rtf', 'sql', 'swf', 'eps', 'gz']\n",
      "19 ['hlp', 'dwf', 'pdf', 'log', 'swf', 'sql', 'kml', 'csv', 'kmz', 'f', 'eps', 'ps', 'pps', 'rtf', 'ppt', 'wp', 'xls', 'gif', 'txt']\n",
      "20 ['html', 'pps', 'ps', 'ppt', 'wp', 'xls', 'gz', 'kmz', 'jpg', 'xml', 'hlp', 'pptx', 'doc', 'kml', 'swf', 'java', 'log', 'csv', 'png', 'txt']\n",
      "21 ['ps', 'swf', 'xls', 'rtf', 'html', 'kml', 'sql', 'doc', 'log', 'ppt', 'png', 'dwf', 'pps', 'xml', 'eps', 'f', 'csv', 'jpg', 'dbase3', 'pdf', 'pptx']\n",
      "22 ['pptx', 'ps', 'kml', 'pdf', 'pps', 'f', 'csv', 'jpg', 'hlp', 'kmz', 'wp', 'xml', 'rtf', 'html', 'sql', 'dbase3', 'log', 'png', 'dwf', 'swf', 'gz', 'java']\n",
      "23 ['xls', 'dbase3', 'xml', 'rtf', 'kml', 'eps', 'f', 'dwf', 'hlp', 'csv', 'pps', 'wp', 'log', 'pptx', 'doc', 'pdf', 'txt', 'java', 'ppt', 'jpg', 'ps', 'html', 'gz']\n",
      "24 ['pptx', 'gif', 'png', 'wp', 'swf', 'eps', 'kml', 'rtf', 'xls', 'dwf', 'dbase3', 'jpg', 'doc', 'f', 'ppt', 'ps', 'csv', 'java', 'pdf', 'sql', 'gz', 'txt', 'kmz', 'pps']\n",
      "25 ['pps', 'kml', 'eps', 'log', 'pdf', 'hlp', 'png', 'pptx', 'doc', 'xls', 'gz', 'ps', 'html', 'java', 'rtf', 'ppt', 'xml', 'f', 'txt', 'kmz', 'gif', 'dwf', 'swf', 'dbase3', 'jpg']\n",
      "26 ['ps', 'ppt', 'dbase3', 'swf', 'kml', 'wp', 'pdf', 'pptx', 'log', 'pps', 'doc', 'xls', 'csv', 'hlp', 'gif', 'kmz', 'xml', 'dwf', 'eps', 'txt', 'rtf', 'png', 'sql', 'jpg', 'java', 'gz']\n",
      "27 ['hlp', 'html', 'kmz', 'wp', 'pps', 'ps', 'png', 'csv', 'f', 'eps', 'ppt', 'sql', 'gz', 'xls', 'dwf', 'xml', 'gif', 'doc', 'rtf', 'swf', 'txt', 'dbase3', 'pdf', 'java', 'kml', 'pptx', 'jpg']\n",
      "28 ['ps', 'kmz', 'dbase3', 'pptx', 'jpg', 'gif', 'f', 'dwf', 'rtf', 'html', 'pdf', 'java', 'eps', 'pps', 'csv', 'sql', 'gz', 'xml', 'ppt', 'swf', 'kml', 'png', 'doc', 'wp', 'log', 'txt', 'xls', 'hlp']\n",
      "2 ['gif', 'csv']\n",
      "3 ['ppt', 'csv', 'txt']\n",
      "4 ['log', 'xml', 'eps', 'gif']\n",
      "5 ['csv', 'sql', 'dwf', 'pdf', 'kmz']\n",
      "6 ['pptx', 'html', 'jpg', 'sql', 'gz', 'swf']\n",
      "7 ['doc', 'log', 'java', 'wp', 'dwf', 'eps', 'png']\n",
      "8 ['pdf', 'pptx', 'rtf', 'doc', 'kmz', 'ps', 'dbase3', 'kml']\n",
      "9 ['png', 'hlp', 'eps', 'pps', 'dwf', 'gif', 'kmz', 'gz', 'xml']\n",
      "10 ['pptx', 'pdf', 'xls', 'pps', 'sql', 'gz', 'kml', 'gif', 'txt', 'wp']\n",
      "11 ['html', 'txt', 'xml', 'log', 'gz', 'dwf', 'rtf', 'f', 'pps', 'kmz', 'dbase3']\n",
      "12 ['html', 'pptx', 'xls', 'jpg', 'gif', 'eps', 'dbase3', 'ppt', 'hlp', 'png', 'rtf', 'wp']\n",
      "13 ['hlp', 'gif', 'doc', 'xls', 'pptx', 'eps', 'pdf', 'csv', 'gz', 'f', 'txt', 'kml', 'dbase3']\n",
      "14 ['txt', 'xls', 'f', 'rtf', 'wp', 'dbase3', 'html', 'pdf', 'java', 'kmz', 'jpg', 'png', 'pptx', 'xml']\n",
      "15 ['dbase3', 'sql', 'html', 'kmz', 'wp', 'xml', 'xls', 'pdf', 'doc', 'gz', 'txt', 'f', 'rtf', 'java', 'csv']\n",
      "16 ['png', 'hlp', 'sql', 'wp', 'swf', 'doc', 'rtf', 'jpg', 'pps', 'txt', 'ppt', 'xls', 'log', 'html', 'kml', 'csv']\n",
      "17 ['html', 'eps', 'kmz', 'sql', 'png', 'jpg', 'ps', 'pdf', 'doc', 'wp', 'pptx', 'rtf', 'hlp', 'f', 'kml', 'xml', 'gif']\n",
      "18 ['ps', 'xml', 'dbase3', 'pps', 'dwf', 'jpg', 'doc', 'sql', 'xls', 'csv', 'pptx', 'gz', 'rtf', 'gif', 'html', 'swf', 'png', 'eps']\n",
      "19 ['hlp', 'ps', 'wp', 'xls', 'pps', 'doc', 'log', 'csv', 'dwf', 'f', 'png', 'sql', 'rtf', 'xml', 'java', 'pdf', 'jpg', 'kmz', 'kml']\n",
      "20 ['log', 'dwf', 'f', 'html', 'gif', 'pptx', 'swf', 'java', 'sql', 'png', 'ppt', 'dbase3', 'gz', 'xml', 'pdf', 'jpg', 'txt', 'doc', 'xls', 'kmz']\n",
      "21 ['pdf', 'txt', 'xls', 'java', 'pptx', 'rtf', 'kmz', 'dwf', 'gif', 'doc', 'eps', 'swf', 'pps', 'wp', 'log', 'jpg', 'hlp', 'kml', 'ps', 'f', 'csv']\n",
      "22 ['pps', 'xls', 'eps', 'jpg', 'dbase3', 'doc', 'dwf', 'csv', 'log', 'xml', 'kml', 'swf', 'txt', 'rtf', 'pptx', 'java', 'sql', 'hlp', 'ps', 'ppt', 'pdf', 'gz']\n",
      "23 ['xml', 'ps', 'wp', 'log', 'swf', 'f', 'pps', 'rtf', 'pdf', 'kml', 'dwf', 'dbase3', 'xls', 'gif', 'html', 'txt', 'ppt', 'hlp', 'eps', 'pptx', 'sql', 'doc', 'java']\n"
     ]
    },
    {
     "name": "stdout",
     "output_type": "stream",
     "text": [
      "24 ['html', 'ps', 'doc', 'gz', 'gif', 'sql', 'hlp', 'wp', 'png', 'java', 'pps', 'f', 'ppt', 'txt', 'csv', 'jpg', 'swf', 'pdf', 'rtf', 'kml', 'xml', 'dbase3', 'kmz', 'dwf']\n",
      "25 ['kmz', 'kml', 'doc', 'dwf', 'gz', 'f', 'gif', 'swf', 'txt', 'xls', 'eps', 'pps', 'sql', 'rtf', 'ppt', 'java', 'png', 'pdf', 'log', 'ps', 'wp', 'hlp', 'pptx', 'dbase3', 'html']\n",
      "26 ['log', 'kml', 'java', 'wp', 'dbase3', 'gif', 'png', 'kmz', 'txt', 'dwf', 'rtf', 'pps', 'html', 'jpg', 'hlp', 'xml', 'xls', 'eps', 'ppt', 'pdf', 'f', 'csv', 'gz', 'pptx', 'ps', 'doc']\n",
      "27 ['doc', 'xml', 'ps', 'hlp', 'pps', 'kmz', 'png', 'f', 'dbase3', 'sql', 'pdf', 'dwf', 'xls', 'gif', 'swf', 'gz', 'log', 'jpg', 'java', 'rtf', 'txt', 'ppt', 'wp', 'eps', 'kml', 'csv', 'html']\n",
      "28 ['txt', 'swf', 'pptx', 'wp', 'html', 'ppt', 'sql', 'f', 'doc', 'kml', 'xml', 'csv', 'xls', 'gz', 'ps', 'pps', 'rtf', 'eps', 'kmz', 'pdf', 'gif', 'java', 'jpg', 'png', 'dwf', 'hlp', 'log', 'dbase3']\n",
      "2 ['csv', 'kmz']\n",
      "3 ['ppt', 'ps', 'doc']\n",
      "4 ['txt', 'pdf', 'java', 'f']\n",
      "5 ['gz', 'jpg', 'pps', 'txt', 'png']\n",
      "6 ['dwf', 'jpg', 'txt', 'rtf', 'doc', 'java']\n",
      "7 ['ps', 'sql', 'rtf', 'pptx', 'gz', 'html', 'f']\n",
      "8 ['wp', 'kmz', 'ps', 'png', 'f', 'pdf', 'html', 'java']\n",
      "9 ['txt', 'wp', 'pptx', 'log', 'kml', 'kmz', 'dwf', 'xls', 'gif']\n",
      "10 ['dwf', 'txt', 'log', 'pdf', 'jpg', 'kml', 'csv', 'sql', 'pptx', 'hlp']\n",
      "11 ['pptx', 'pdf', 'csv', 'pps', 'java', 'doc', 'gz', 'sql', 'kmz', 'wp', 'f']\n",
      "12 ['eps', 'xls', 'log', 'gz', 'kml', 'swf', 'kmz', 'dbase3', 'pps', 'sql', 'f', 'pptx']\n",
      "13 ['ps', 'xls', 'pptx', 'gz', 'java', 'html', 'png', 'hlp', 'gif', 'dbase3', 'sql', 'pdf', 'ppt']\n",
      "14 ['java', 'f', 'pdf', 'swf', 'pps', 'pptx', 'xls', 'log', 'ppt', 'txt', 'png', 'wp', 'jpg', 'hlp']\n",
      "15 ['html', 'swf', 'kml', 'eps', 'f', 'xls', 'hlp', 'xml', 'png', 'pptx', 'rtf', 'gif', 'jpg', 'pps', 'gz']\n",
      "16 ['f', 'kmz', 'wp', 'xls', 'eps', 'pdf', 'jpg', 'pptx', 'java', 'log', 'gz', 'sql', 'doc', 'html', 'rtf', 'swf']\n",
      "17 ['kml', 'dbase3', 'xls', 'pptx', 'html', 'eps', 'pps', 'swf', 'ppt', 'gz', 'java', 'dwf', 'log', 'hlp', 'sql', 'csv', 'jpg']\n",
      "18 ['f', 'pptx', 'java', 'doc', 'csv', 'kml', 'pps', 'gz', 'xml', 'rtf', 'sql', 'wp', 'kmz', 'jpg', 'ppt', 'dbase3', 'dwf', 'swf']\n",
      "19 ['dwf', 'hlp', 'xls', 'log', 'sql', 'png', 'kmz', 'pptx', 'kml', 'html', 'rtf', 'wp', 'csv', 'swf', 'xml', 'doc', 'java', 'f', 'ppt']\n",
      "20 ['eps', 'doc', 'ps', 'gz', 'xls', 'html', 'sql', 'txt', 'kmz', 'hlp', 'log', 'csv', 'gif', 'dbase3', 'dwf', 'rtf', 'f', 'wp', 'swf', 'kml']\n",
      "21 ['xml', 'rtf', 'png', 'java', 'pps', 'wp', 'jpg', 'ps', 'csv', 'log', 'gz', 'f', 'xls', 'html', 'sql', 'gif', 'txt', 'kml', 'eps', 'swf', 'dbase3']\n",
      "22 ['csv', 'dwf', 'kml', 'png', 'pps', 'eps', 'kmz', 'pptx', 'f', 'pdf', 'xls', 'txt', 'html', 'hlp', 'doc', 'wp', 'jpg', 'gz', 'rtf', 'log', 'swf', 'sql']\n",
      "23 ['hlp', 'dwf', 'pptx', 'ps', 'eps', 'kmz', 'pdf', 'html', 'doc', 'dbase3', 'xml', 'gz', 'kml', 'rtf', 'log', 'wp', 'txt', 'swf', 'jpg', 'png', 'java', 'pps', 'gif']\n",
      "24 ['eps', 'html', 'pptx', 'gz', 'xml', 'log', 'txt', 'sql', 'hlp', 'dwf', 'xls', 'doc', 'csv', 'pps', 'swf', 'rtf', 'jpg', 'ppt', 'f', 'ps', 'gif', 'java', 'png', 'dbase3']\n",
      "25 ['xml', 'xls', 'pps', 'csv', 'rtf', 'hlp', 'ps', 'swf', 'doc', 'f', 'wp', 'eps', 'ppt', 'pdf', 'kmz', 'kml', 'pptx', 'txt', 'dbase3', 'gz', 'sql', 'gif', 'png', 'log', 'jpg']\n",
      "26 ['ppt', 'xml', 'dwf', 'eps', 'doc', 'kml', 'dbase3', 'pps', 'ps', 'wp', 'f', 'hlp', 'html', 'kmz', 'xls', 'log', 'java', 'rtf', 'gif', 'txt', 'pdf', 'sql', 'csv', 'swf', 'jpg', 'gz']\n",
      "27 ['html', 'pps', 'gif', 'pdf', 'rtf', 'png', 'java', 'txt', 'kmz', 'f', 'log', 'xls', 'csv', 'ps', 'wp', 'xml', 'dbase3', 'kml', 'gz', 'hlp', 'jpg', 'ppt', 'pptx', 'dwf', 'eps', 'swf', 'doc']\n",
      "28 ['rtf', 'pptx', 'java', 'swf', 'eps', 'dbase3', 'doc', 'gif', 'gz', 'pdf', 'dwf', 'jpg', 'wp', 'xls', 'png', 'f', 'html', 'log', 'sql', 'xml', 'hlp', 'kml', 'kmz', 'ps', 'csv', 'txt', 'pps', 'ppt']\n",
      "2 ['sql', 'log']\n",
      "3 ['csv', 'xml', 'doc']\n",
      "4 ['html', 'swf', 'csv', 'doc']\n",
      "5 ['wp', 'jpg', 'rtf', 'gif', 'dwf']\n",
      "6 ['csv', 'kml', 'pps', 'wp', 'dwf', 'ppt']\n",
      "7 ['f', 'xml', 'dbase3', 'gif', 'wp', 'ppt', 'doc']\n",
      "8 ['rtf', 'hlp', 'ppt', 'pdf', 'ps', 'pps', 'eps', 'html']\n",
      "9 ['eps', 'gif', 'kmz', 'java', 'png', 'dwf', 'pps', 'wp', 'pdf']\n",
      "10 ['ps', 'ppt', 'png', 'gif', 'pptx', 'csv', 'sql', 'hlp', 'kmz', 'gz']\n",
      "11 ['swf', 'doc', 'f', 'pps', 'wp', 'dwf', 'gif', 'jpg', 'sql', 'dbase3', 'kml']\n",
      "12 ['ppt', 'png', 'dbase3', 'gif', 'xls', 'dwf', 'xml', 'kml', 'ps', 'doc', 'pdf', 'f']\n",
      "13 ['pps', 'doc', 'pptx', 'gif', 'kmz', 'gz', 'txt', 'jpg', 'dbase3', 'ps', 'ppt', 'rtf', 'wp']\n",
      "14 ['gif', 'ps', 'pps', 'swf', 'csv', 'wp', 'xls', 'rtf', 'hlp', 'jpg', 'log', 'dbase3', 'pdf', 'xml']\n",
      "15 ['xml', 'dbase3', 'xls', 'csv', 'kml', 'eps', 'log', 'f', 'kmz', 'pps', 'gif', 'gz', 'html', 'ps', 'dwf']\n",
      "16 ['hlp', 'wp', 'dwf', 'doc', 'pps', 'f', 'ppt', 'gif', 'csv', 'kmz', 'html', 'gz', 'dbase3', 'ps', 'rtf', 'kml']\n",
      "17 ['csv', 'f', 'dbase3', 'xls', 'ppt', 'kmz', 'ps', 'html', 'pptx', 'eps', 'gif', 'rtf', 'doc', 'java', 'xml', 'swf', 'kml']\n",
      "18 ['png', 'wp', 'pdf', 'dwf', 'ps', 'java', 'hlp', 'dbase3', 'f', 'gz', 'jpg', 'txt', 'log', 'pps', 'csv', 'xls', 'swf', 'kml']\n",
      "19 ['pptx', 'gif', 'swf', 'rtf', 'dbase3', 'eps', 'pps', 'csv', 'kmz', 'hlp', 'wp', 'dwf', 'txt', 'ps', 'gz', 'java', 'ppt', 'log', 'kml']\n",
      "20 ['pps', 'gif', 'rtf', 'doc', 'csv', 'gz', 'wp', 'xml', 'dbase3', 'kml', 'eps', 'log', 'html', 'ps', 'kmz', 'ppt', 'sql', 'swf', 'pdf', 'dwf']\n",
      "21 ['swf', 'rtf', 'png', 'ps', 'wp', 'doc', 'ppt', 'log', 'xls', 'pdf', 'sql', 'txt', 'gz', 'kmz', 'dbase3', 'hlp', 'pptx', 'eps', 'java', 'html', 'dwf']\n",
      "22 ['kmz', 'kml', 'java', 'f', 'png', 'ppt', 'sql', 'xml', 'txt', 'xls', 'ps', 'wp', 'csv', 'dwf', 'pdf', 'eps', 'log', 'rtf', 'pptx', 'swf', 'gif', 'jpg']\n",
      "23 ['csv', 'xls', 'pps', 'pdf', 'wp', 'doc', 'kml', 'gif', 'sql', 'swf', 'gz', 'hlp', 'dwf', 'java', 'log', 'ps', 'txt', 'eps', 'pptx', 'png', 'kmz', 'jpg', 'dbase3']\n",
      "24 ['txt', 'doc', 'kmz', 'gif', 'dbase3', 'pps', 'wp', 'swf', 'rtf', 'csv', 'dwf', 'jpg', 'pptx', 'kml', 'ppt', 'png', 'f', 'html', 'log', 'hlp', 'xml', 'eps', 'java', 'sql']\n",
      "25 ['pdf', 'f', 'hlp', 'java', 'ps', 'sql', 'gif', 'eps', 'swf', 'kml', 'csv', 'dwf', 'pps', 'rtf', 'gz', 'log', 'xls', 'pptx', 'kmz', 'doc', 'txt', 'wp', 'png', 'xml', 'ppt']\n",
      "26 ['pdf', 'kml', 'ppt', 'pptx', 'xls', 'jpg', 'dwf', 'csv', 'rtf', 'gif', 'xml', 'swf', 'wp', 'dbase3', 'ps', 'sql', 'log', 'java', 'gz', 'html', 'kmz', 'png', 'hlp', 'eps', 'pps', 'txt']\n",
      "27 ['doc', 'kmz', 'sql', 'java', 'png', 'pdf', 'xls', 'swf', 'pps', 'kml', 'jpg', 'rtf', 'dbase3', 'gz', 'pptx', 'eps', 'f', 'html', 'csv', 'ps', 'gif', 'txt', 'hlp', 'dwf', 'xml', 'wp', 'log']\n",
      "28 ['wp', 'pps', 'kmz', 'html', 'doc', 'f', 'ppt', 'swf', 'dwf', 'hlp', 'png', 'dbase3', 'kml', 'log', 'eps', 'jpg', 'pdf', 'xls', 'gif', 'gz', 'java', 'ps', 'xml', 'rtf', 'txt', 'pptx', 'csv', 'sql']\n"
     ]
    }
   ],
   "source": [
    "if os.path.exists(result_dir + \"/nclasses.tsv\"):\n",
    "    os.remove(result_dir + \"/nclasses.tsv\")\n",
    "r = report.Reporter2(result_dir + '/nclasses.tsv')\n",
    "train_nclasses(rawset, r, 5)\n",
    "r.close()"
   ]
  },
  {
   "cell_type": "markdown",
   "metadata": {},
   "source": [
    "# Load data"
   ]
  },
  {
   "cell_type": "code",
   "execution_count": 9,
   "metadata": {},
   "outputs": [
    {
     "data": {
      "text/html": [
       "<div>\n",
       "<style scoped>\n",
       "    .dataframe tbody tr th:only-of-type {\n",
       "        vertical-align: middle;\n",
       "    }\n",
       "\n",
       "    .dataframe tbody tr th {\n",
       "        vertical-align: top;\n",
       "    }\n",
       "\n",
       "    .dataframe thead th {\n",
       "        text-align: right;\n",
       "    }\n",
       "</style>\n",
       "<table border=\"1\" class=\"dataframe\">\n",
       "  <thead>\n",
       "    <tr style=\"text-align: right;\">\n",
       "      <th></th>\n",
       "      <th>n</th>\n",
       "      <th>cats</th>\n",
       "      <th>val_categorical_accuracy</th>\n",
       "    </tr>\n",
       "  </thead>\n",
       "  <tbody>\n",
       "    <tr>\n",
       "      <td>0</td>\n",
       "      <td>2</td>\n",
       "      <td>ps,eps</td>\n",
       "      <td>0.755714</td>\n",
       "    </tr>\n",
       "    <tr>\n",
       "      <td>1</td>\n",
       "      <td>3</td>\n",
       "      <td>log,rtf,xml</td>\n",
       "      <td>0.966786</td>\n",
       "    </tr>\n",
       "    <tr>\n",
       "      <td>2</td>\n",
       "      <td>4</td>\n",
       "      <td>jpg,kml,f,png</td>\n",
       "      <td>0.911786</td>\n",
       "    </tr>\n",
       "    <tr>\n",
       "      <td>3</td>\n",
       "      <td>5</td>\n",
       "      <td>doc,eps,java,f,rtf</td>\n",
       "      <td>0.934643</td>\n",
       "    </tr>\n",
       "    <tr>\n",
       "      <td>4</td>\n",
       "      <td>6</td>\n",
       "      <td>pdf,pps,wp,log,kmz,gz</td>\n",
       "      <td>0.625357</td>\n",
       "    </tr>\n",
       "    <tr>\n",
       "      <td>...</td>\n",
       "      <td>...</td>\n",
       "      <td>...</td>\n",
       "      <td>...</td>\n",
       "    </tr>\n",
       "    <tr>\n",
       "      <td>130</td>\n",
       "      <td>24</td>\n",
       "      <td>txt,doc,kmz,gif,dbase3,pps,wp,swf,rtf,csv,dwf,...</td>\n",
       "      <td>0.599643</td>\n",
       "    </tr>\n",
       "    <tr>\n",
       "      <td>131</td>\n",
       "      <td>25</td>\n",
       "      <td>pdf,f,hlp,java,ps,sql,gif,eps,swf,kml,csv,dwf,...</td>\n",
       "      <td>0.532500</td>\n",
       "    </tr>\n",
       "    <tr>\n",
       "      <td>132</td>\n",
       "      <td>26</td>\n",
       "      <td>pdf,kml,ppt,pptx,xls,jpg,dwf,csv,rtf,gif,xml,s...</td>\n",
       "      <td>0.538929</td>\n",
       "    </tr>\n",
       "    <tr>\n",
       "      <td>133</td>\n",
       "      <td>27</td>\n",
       "      <td>doc,kmz,sql,java,png,pdf,xls,swf,pps,kml,jpg,r...</td>\n",
       "      <td>0.540714</td>\n",
       "    </tr>\n",
       "    <tr>\n",
       "      <td>134</td>\n",
       "      <td>28</td>\n",
       "      <td>wp,pps,kmz,html,doc,f,ppt,swf,dwf,hlp,png,dbas...</td>\n",
       "      <td>0.526429</td>\n",
       "    </tr>\n",
       "  </tbody>\n",
       "</table>\n",
       "<p>135 rows × 3 columns</p>\n",
       "</div>"
      ],
      "text/plain": [
       "      n                                               cats  \\\n",
       "0     2                                             ps,eps   \n",
       "1     3                                        log,rtf,xml   \n",
       "2     4                                      jpg,kml,f,png   \n",
       "3     5                                 doc,eps,java,f,rtf   \n",
       "4     6                              pdf,pps,wp,log,kmz,gz   \n",
       "..   ..                                                ...   \n",
       "130  24  txt,doc,kmz,gif,dbase3,pps,wp,swf,rtf,csv,dwf,...   \n",
       "131  25  pdf,f,hlp,java,ps,sql,gif,eps,swf,kml,csv,dwf,...   \n",
       "132  26  pdf,kml,ppt,pptx,xls,jpg,dwf,csv,rtf,gif,xml,s...   \n",
       "133  27  doc,kmz,sql,java,png,pdf,xls,swf,pps,kml,jpg,r...   \n",
       "134  28  wp,pps,kmz,html,doc,f,ppt,swf,dwf,hlp,png,dbas...   \n",
       "\n",
       "     val_categorical_accuracy  \n",
       "0                    0.755714  \n",
       "1                    0.966786  \n",
       "2                    0.911786  \n",
       "3                    0.934643  \n",
       "4                    0.625357  \n",
       "..                        ...  \n",
       "130                  0.599643  \n",
       "131                  0.532500  \n",
       "132                  0.538929  \n",
       "133                  0.540714  \n",
       "134                  0.526429  \n",
       "\n",
       "[135 rows x 3 columns]"
      ]
     },
     "execution_count": 9,
     "metadata": {},
     "output_type": "execute_result"
    }
   ],
   "source": [
    "data = pd.read_csv(result_dir + '/nclasses.tsv', sep='\\t')\n",
    "data"
   ]
  },
  {
   "cell_type": "code",
   "execution_count": 10,
   "metadata": {},
   "outputs": [],
   "source": [
    "from matplotlib.ticker import MultipleLocator\n",
    "def plot_acc(xs, ys, labels=None, loc='upper right', alpha_on=None):\n",
    "    fig = plt.figure(figsize=(12,8))\n",
    "#     fig.yaxis.set_minor_locator()\n",
    "    if labels is None:\n",
    "        labels = [None for x in xs]\n",
    "    for x, y, label, mark in zip(xs, ys, labels, ['bx', 'g-', 'r*', '.mD']):\n",
    "        plt.plot(x[x==alpha_on], y[x==alpha_on], mark, alpha=0.1, label='')\n",
    "        plt.plot(x[x!=alpha_on], y[x!=alpha_on], mark, label=label)\n",
    "    ax1 = plt.gca()\n",
    "    plt.ylabel('accuracy', fontsize=16)\n",
    "    plt.xlabel('number of classes', fontsize=16)\n",
    "    plt.xlim((-0, 31))\n",
    "    plt.ylim((-0, 1))\n",
    "    ax1.xaxis.set_major_locator(MultipleLocator(5))\n",
    "    ax1.xaxis.set_minor_locator(MultipleLocator(1))\n",
    "    ax1.yaxis.set_major_locator(MultipleLocator(0.1))\n",
    "    ax1.yaxis.set_minor_locator(MultipleLocator(0.05))\n",
    "    plt.grid(linestyle='-', color='k', which='major')\n",
    "    plt.grid(linestyle='--', which='minor')\n",
    "    for tick in ax1.xaxis.get_major_ticks():\n",
    "        tick.label.set_fontsize(16) \n",
    "    for tick in ax1.yaxis.get_major_ticks():\n",
    "        tick.label.set_fontsize(16) \n",
    "    plt.legend(loc=loc, prop={'size': 16})\n",
    "#     plt.savefig('acc.png')"
   ]
  },
  {
   "cell_type": "code",
   "execution_count": 11,
   "metadata": {},
   "outputs": [
    {
     "data": {
      "image/png": "[encoded data removed]",
      "text/plain": [
       "<Figure size 864x576 with 1 Axes>"
      ]
     },
     "metadata": {},
     "output_type": "display_data"
    }
   ],
   "source": [
    "x = np.arange(2,30,0.01)\n",
    "y = 1/x\n",
    "plot_acc([data['n'], x], [data['val_categorical_accuracy'], y], ['models trained with many classes', 'random chance'])"
   ]
  }
 ],
 "metadata": {
  "kernelspec": {
   "display_name": "Python 3",
   "language": "python",
   "name": "python3"
  },
  "language_info": {
   "codemirror_mode": {
    "name": "ipython",
    "version": 3
   },
   "file_extension": ".py",
   "mimetype": "text/x-python",
   "name": "python",
   "nbconvert_exporter": "python",
   "pygments_lexer": "ipython3",
   "version": "3.6.6"
  }
 },
 "nbformat": 4,
 "nbformat_minor": 2
}
