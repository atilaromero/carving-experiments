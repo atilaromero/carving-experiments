{
 "cells": [
  {
   "cell_type": "markdown",
   "metadata": {},
   "source": [
    "# 4.2-a How does the number of classes affect accuracy?"
   ]
  },
  {
   "cell_type": "code",
   "execution_count": 1,
   "metadata": {},
   "outputs": [
    {
     "name": "stderr",
     "output_type": "stream",
     "text": [
      "/home/atila.alr/.local/lib/python3.6/site-packages/tensorflow/python/framework/dtypes.py:516: FutureWarning: Passing (type, 1) or '1type' as a synonym of type is deprecated; in a future version of numpy, it will be understood as (type, (1,)) / '(1,)type'.\n",
      "  _np_qint8 = np.dtype([(\"qint8\", np.int8, 1)])\n",
      "/home/atila.alr/.local/lib/python3.6/site-packages/tensorflow/python/framework/dtypes.py:517: FutureWarning: Passing (type, 1) or '1type' as a synonym of type is deprecated; in a future version of numpy, it will be understood as (type, (1,)) / '(1,)type'.\n",
      "  _np_quint8 = np.dtype([(\"quint8\", np.uint8, 1)])\n",
      "/home/atila.alr/.local/lib/python3.6/site-packages/tensorflow/python/framework/dtypes.py:518: FutureWarning: Passing (type, 1) or '1type' as a synonym of type is deprecated; in a future version of numpy, it will be understood as (type, (1,)) / '(1,)type'.\n",
      "  _np_qint16 = np.dtype([(\"qint16\", np.int16, 1)])\n",
      "/home/atila.alr/.local/lib/python3.6/site-packages/tensorflow/python/framework/dtypes.py:519: FutureWarning: Passing (type, 1) or '1type' as a synonym of type is deprecated; in a future version of numpy, it will be understood as (type, (1,)) / '(1,)type'.\n",
      "  _np_quint16 = np.dtype([(\"quint16\", np.uint16, 1)])\n",
      "/home/atila.alr/.local/lib/python3.6/site-packages/tensorflow/python/framework/dtypes.py:520: FutureWarning: Passing (type, 1) or '1type' as a synonym of type is deprecated; in a future version of numpy, it will be understood as (type, (1,)) / '(1,)type'.\n",
      "  _np_qint32 = np.dtype([(\"qint32\", np.int32, 1)])\n",
      "/home/atila.alr/.local/lib/python3.6/site-packages/tensorflow/python/framework/dtypes.py:525: FutureWarning: Passing (type, 1) or '1type' as a synonym of type is deprecated; in a future version of numpy, it will be understood as (type, (1,)) / '(1,)type'.\n",
      "  np_resource = np.dtype([(\"resource\", np.ubyte, 1)])\n",
      "/home/atila.alr/.local/lib/python3.6/site-packages/tensorboard/compat/tensorflow_stub/dtypes.py:541: FutureWarning: Passing (type, 1) or '1type' as a synonym of type is deprecated; in a future version of numpy, it will be understood as (type, (1,)) / '(1,)type'.\n",
      "  _np_qint8 = np.dtype([(\"qint8\", np.int8, 1)])\n",
      "/home/atila.alr/.local/lib/python3.6/site-packages/tensorboard/compat/tensorflow_stub/dtypes.py:542: FutureWarning: Passing (type, 1) or '1type' as a synonym of type is deprecated; in a future version of numpy, it will be understood as (type, (1,)) / '(1,)type'.\n",
      "  _np_quint8 = np.dtype([(\"quint8\", np.uint8, 1)])\n",
      "/home/atila.alr/.local/lib/python3.6/site-packages/tensorboard/compat/tensorflow_stub/dtypes.py:543: FutureWarning: Passing (type, 1) or '1type' as a synonym of type is deprecated; in a future version of numpy, it will be understood as (type, (1,)) / '(1,)type'.\n",
      "  _np_qint16 = np.dtype([(\"qint16\", np.int16, 1)])\n",
      "/home/atila.alr/.local/lib/python3.6/site-packages/tensorboard/compat/tensorflow_stub/dtypes.py:544: FutureWarning: Passing (type, 1) or '1type' as a synonym of type is deprecated; in a future version of numpy, it will be understood as (type, (1,)) / '(1,)type'.\n",
      "  _np_quint16 = np.dtype([(\"quint16\", np.uint16, 1)])\n",
      "/home/atila.alr/.local/lib/python3.6/site-packages/tensorboard/compat/tensorflow_stub/dtypes.py:545: FutureWarning: Passing (type, 1) or '1type' as a synonym of type is deprecated; in a future version of numpy, it will be understood as (type, (1,)) / '(1,)type'.\n",
      "  _np_qint32 = np.dtype([(\"qint32\", np.int32, 1)])\n",
      "/home/atila.alr/.local/lib/python3.6/site-packages/tensorboard/compat/tensorflow_stub/dtypes.py:550: FutureWarning: Passing (type, 1) or '1type' as a synonym of type is deprecated; in a future version of numpy, it will be understood as (type, (1,)) / '(1,)type'.\n",
      "  np_resource = np.dtype([(\"resource\", np.ubyte, 1)])\n"
     ]
    }
   ],
   "source": [
    "import os\n",
    "import sys\n",
    "import datetime\n",
    "import random\n",
    "import tensorflow as tf\n",
    "import numpy as np\n",
    "import pandas as pd\n",
    "import matplotlib.pyplot as plt\n",
    "from collections import OrderedDict\n",
    "\n",
    "import models\n",
    "import report\n",
    "from dataset import Dataset\n",
    "from report import Reporter\n",
    "from trainer import Trainer\n",
    "from batch_encoder import Dataset\n",
    "\n",
    "from tensorflow.keras.layers import Input, Conv1D, MaxPooling1D, LSTM, Dense, Activation, TimeDistributed, Flatten, Dot, Softmax, Lambda, RepeatVector, Multiply, Permute, Reshape, BatchNormalization"
   ]
  },
  {
   "cell_type": "code",
   "execution_count": 2,
   "metadata": {},
   "outputs": [
    {
     "data": {
      "text/plain": [
       "('1.14.0', '2.2.4-tf')"
      ]
     },
     "execution_count": 2,
     "metadata": {},
     "output_type": "execute_result"
    }
   ],
   "source": [
    "tf.__version__, tf.keras.__version__"
   ]
  },
  {
   "cell_type": "code",
   "execution_count": 3,
   "metadata": {},
   "outputs": [
    {
     "data": {
      "text/plain": [
       "(False, False)"
      ]
     },
     "execution_count": 3,
     "metadata": {},
     "output_type": "execute_result"
    }
   ],
   "source": [
    "tf.test.is_gpu_available(), tf.test.is_built_with_cuda()"
   ]
  },
  {
   "cell_type": "code",
   "execution_count": 4,
   "metadata": {},
   "outputs": [],
   "source": [
    "raw_dataset_folder='govdocs1/sample200'\n",
    "minimum=200\n",
    "maximum=200\n",
    "result_dir = 'results/4.2a-nclasses'"
   ]
  },
  {
   "cell_type": "code",
   "execution_count": 5,
   "metadata": {},
   "outputs": [],
   "source": [
    "rawset = Dataset.new_from_folders(raw_dataset_folder)\n",
    "rawset = rawset.filter(lambda x: rawset.category_from(x) not in ['text', 'unk'])\n",
    "rawset = rawset.filter_min_max(200, 200)"
   ]
  },
  {
   "cell_type": "code",
   "execution_count": 6,
   "metadata": {},
   "outputs": [],
   "source": [
    "def CLD(classes, len_byte_vector):\n",
    "    last = l0 = Input(shape=(512,len_byte_vector))\n",
    "    last = Conv1D(256, (16,), strides=16)(last)\n",
    "    last = LSTM(128)(last)\n",
    "    last = Dense(classes)(last)\n",
    "    last = Activation('softmax')(last)\n",
    "    name = sys._getframe().f_code.co_name\n",
    "    model = tf.keras.Model([l0], last, name=name)\n",
    "    model.compile(loss=tf.keras.losses.categorical_crossentropy,\n",
    "        optimizer=tf.keras.optimizers.Adam(),\n",
    "        metrics=['binary_accuracy', 'categorical_accuracy'])\n",
    "    return model"
   ]
  },
  {
   "cell_type": "code",
   "execution_count": 7,
   "metadata": {},
   "outputs": [],
   "source": [
    "def train_nclasses(rawset, reporter, iterations=1):\n",
    "    for it in range(iterations):\n",
    "        for n in range(2, len(rawset.categories)+1):\n",
    "            cats = random.sample(rawset.by_category().keys(), n)\n",
    "            print(n, cats)\n",
    "            myset = rawset.filter(lambda x: rawset.category_from(x) in cats)\n",
    "            myset.rebuild_categories()\n",
    "            tset, vset = myset.rnd_split_fraction_by_category(0.5)\n",
    "\n",
    "            model = CLD(n, 256)\n",
    "            result = Trainer(\n",
    "                model,\n",
    "                xs_encoder='one_hot',\n",
    "                batch_size=100,\n",
    "                steps_per_epoch=28,\n",
    "                validation_steps=28,\n",
    "                patience=10,\n",
    "            ).train(tset, vset)\n",
    "            r.line(n=n,\n",
    "                cats=','.join(cats),\n",
    "                val_categorical_accuracy=result.history.history['val_categorical_accuracy'][-1],\n",
    "            )"
   ]
  },
  {
   "cell_type": "markdown",
   "metadata": {},
   "source": [
    "# Train models"
   ]
  },
  {
   "cell_type": "code",
   "execution_count": 8,
   "metadata": {},
   "outputs": [
    {
     "name": "stdout",
     "output_type": "stream",
     "text": [
      "2 ['f', 'wp']\n",
      "WARNING:tensorflow:From /home/atila.alr/.local/lib/python3.6/site-packages/tensorflow/python/ops/init_ops.py:1251: calling VarianceScaling.__init__ (from tensorflow.python.ops.init_ops) with dtype is deprecated and will be removed in a future version.\n",
      "Instructions for updating:\n",
      "Call initializer instance with the dtype argument instead of passing it to the constructor\n",
      "WARNING:tensorflow:From /home/atila.alr/.local/lib/python3.6/site-packages/tensorflow/python/ops/math_grad.py:1250: add_dispatch_support.<locals>.wrapper (from tensorflow.python.ops.array_ops) is deprecated and will be removed in a future version.\n",
      "Instructions for updating:\n",
      "Use tf.where in 2.0, which has the same broadcast rule as np.where\n",
      "3 ['rtf', 'pps', 'csv']\n",
      "4 ['pptx', 'csv', 'dwf', 'sql']\n",
      "5 ['log', 'kmz', 'wp', 'dbase3', 'hlp']\n",
      "6 ['jpg', 'swf', 'f', 'xls', 'dbase3', 'wp']\n",
      "7 ['sql', 'ps', 'f', 'txt', 'dbase3', 'gif', 'wp']\n",
      "8 ['dwf', 'doc', 'swf', 'dbase3', 'sql', 'gif', 'csv', 'hlp']\n",
      "9 ['pdf', 'eps', 'java', 'html', 'ppt', 'csv', 'xml', 'swf', 'wp']\n",
      "10 ['gz', 'xls', 'kmz', 'sql', 'doc', 'pps', 'pptx', 'hlp', 'rtf', 'f']\n",
      "11 ['ps', 'wp', 'jpg', 'ppt', 'rtf', 'dwf', 'hlp', 'csv', 'kmz', 'pps', 'java']\n",
      "12 ['sql', 'xls', 'f', 'xml', 'pptx', 'log', 'png', 'kmz', 'gz', 'swf', 'pps', 'gif']\n",
      "13 ['png', 'pptx', 'csv', 'dwf', 'pdf', 'swf', 'txt', 'xml', 'pps', 'doc', 'wp', 'ps', 'ppt']\n",
      "14 ['dwf', 'csv', 'dbase3', 'jpg', 'png', 'f', 'wp', 'xls', 'gz', 'sql', 'eps', 'pps', 'html', 'ps']\n",
      "15 ['f', 'dbase3', 'sql', 'doc', 'kmz', 'wp', 'html', 'ppt', 'ps', 'txt', 'java', 'jpg', 'xls', 'gif', 'pps']\n",
      "16 ['dbase3', 'png', 'pdf', 'html', 'java', 'jpg', 'sql', 'doc', 'rtf', 'gz', 'swf', 'dwf', 'hlp', 'gif', 'pptx', 'xls']\n",
      "17 ['dwf', 'wp', 'java', 'gif', 'kmz', 'pps', 'gz', 'kml', 'eps', 'png', 'csv', 'rtf', 'f', 'html', 'ppt', 'log', 'xml']\n",
      "18 ['jpg', 'java', 'sql', 'png', 'kmz', 'xml', 'dbase3', 'log', 'txt', 'doc', 'gif', 'dwf', 'f', 'pptx', 'wp', 'kml', 'rtf', 'html']\n",
      "19 ['csv', 'java', 'xml', 'log', 'gz', 'ppt', 'png', 'swf', 'sql', 'doc', 'gif', 'eps', 'hlp', 'kml', 'html', 'dbase3', 'pdf', 'pptx', 'kmz']\n",
      "20 ['gif', 'dwf', 'xls', 'ps', 'png', 'java', 'wp', 'pptx', 'ppt', 'swf', 'pps', 'html', 'sql', 'jpg', 'log', 'rtf', 'csv', 'doc', 'xml', 'eps']\n",
      "21 ['ppt', 'hlp', 'jpg', 'eps', 'sql', 'swf', 'html', 'f', 'dbase3', 'log', 'gz', 'png', 'pps', 'wp', 'doc', 'java', 'xml', 'rtf', 'pptx', 'ps', 'txt']\n",
      "22 ['pdf', 'gz', 'kml', 'kmz', 'pps', 'html', 'dwf', 'xls', 'pptx', 'xml', 'rtf', 'dbase3', 'eps', 'sql', 'java', 'png', 'csv', 'gif', 'log', 'doc', 'f', 'ppt']\n",
      "23 ['f', 'csv', 'png', 'dbase3', 'sql', 'gif', 'rtf', 'html', 'eps', 'xls', 'wp', 'txt', 'doc', 'kml', 'java', 'swf', 'kmz', 'log', 'pps', 'dwf', 'jpg', 'ppt', 'gz']\n",
      "24 ['swf', 'html', 'sql', 'xml', 'hlp', 'kml', 'pdf', 'java', 'pptx', 'gif', 'f', 'pps', 'wp', 'doc', 'dwf', 'rtf', 'txt', 'eps', 'ppt', 'dbase3', 'gz', 'png', 'jpg', 'xls']\n",
      "25 ['eps', 'rtf', 'jpg', 'java', 'xls', 'swf', 'ppt', 'log', 'f', 'html', 'pptx', 'hlp', 'dwf', 'kml', 'kmz', 'ps', 'sql', 'gif', 'xml', 'pps', 'txt', 'gz', 'pdf', 'wp', 'dbase3']\n",
      "26 ['log', 'swf', 'f', 'gz', 'rtf', 'wp', 'kmz', 'jpg', 'ps', 'java', 'dwf', 'csv', 'gif', 'pdf', 'html', 'dbase3', 'png', 'pps', 'sql', 'pptx', 'eps', 'doc', 'xml', 'hlp', 'txt', 'xls']\n",
      "27 ['doc', 'xml', 'eps', 'ps', 'txt', 'pps', 'java', 'html', 'log', 'pptx', 'rtf', 'gif', 'ppt', 'kmz', 'sql', 'pdf', 'dwf', 'csv', 'wp', 'dbase3', 'f', 'kml', 'jpg', 'hlp', 'swf', 'xls', 'gz']\n",
      "28 ['eps', 'csv', 'png', 'xls', 'dbase3', 'html', 'pdf', 'pps', 'log', 'rtf', 'pptx', 'txt', 'doc', 'kml', 'jpg', 'f', 'ppt', 'wp', 'xml', 'java', 'swf', 'kmz', 'dwf', 'gz', 'hlp', 'ps', 'gif', 'sql']\n",
      "2 ['kml', 'dbase3']\n",
      "3 ['gif', 'kml', 'jpg']\n",
      "4 ['xls', 'dbase3', 'xml', 'txt']\n",
      "5 ['dwf', 'pdf', 'gif', 'kml', 'sql']\n",
      "6 ['txt', 'ppt', 'png', 'html', 'dbase3', 'xml']\n",
      "7 ['doc', 'swf', 'hlp', 'log', 'pdf', 'jpg', 'rtf']\n",
      "8 ['hlp', 'sql', 'html', 'xls', 'pdf', 'txt', 'ppt', 'xml']\n",
      "9 ['swf', 'dbase3', 'ps', 'html', 'f', 'rtf', 'png', 'eps', 'hlp']\n",
      "10 ['swf', 'eps', 'sql', 'rtf', 'dbase3', 'ppt', 'pdf', 'pptx', 'dwf', 'doc']\n",
      "11 ['html', 'wp', 'rtf', 'ps', 'kml', 'gif', 'hlp', 'dwf', 'dbase3', 'sql', 'ppt']\n",
      "12 ['f', 'sql', 'dwf', 'pptx', 'gz', 'dbase3', 'xml', 'xls', 'rtf', 'swf', 'pdf', 'hlp']\n",
      "13 ['gif', 'ppt', 'dwf', 'xls', 'kmz', 'java', 'xml', 'swf', 'dbase3', 'gz', 'png', 'pptx', 'pdf']\n",
      "14 ['png', 'doc', 'kmz', 'dwf', 'gif', 'java', 'pps', 'txt', 'rtf', 'ppt', 'ps', 'kml', 'html', 'wp']\n",
      "15 ['ppt', 'pptx', 'sql', 'xls', 'java', 'eps', 'txt', 'csv', 'wp', 'jpg', 'ps', 'doc', 'gif', 'html', 'hlp']\n",
      "16 ['html', 'gz', 'xml', 'ps', 'dwf', 'jpg', 'png', 'wp', 'log', 'kmz', 'pps', 'ppt', 'dbase3', 'hlp', 'kml', 'txt']\n",
      "17 ['pps', 'dwf', 'txt', 'ppt', 'html', 'gz', 'sql', 'f', 'ps', 'png', 'kmz', 'swf', 'log', 'gif', 'xls', 'doc', 'jpg']\n",
      "18 ['dwf', 'pdf', 'pps', 'log', 'swf', 'pptx', 'rtf', 'gz', 'xls', 'txt', 'sql', 'png', 'gif', 'kml', 'hlp', 'html', 'eps', 'csv']\n",
      "19 ['jpg', 'log', 'xml', 'kml', 'eps', 'ppt', 'swf', 'gz', 'txt', 'kmz', 'rtf', 'java', 'sql', 'pps', 'dbase3', 'pdf', 'f', 'hlp', 'png']\n",
      "20 ['eps', 'dwf', 'kml', 'rtf', 'kmz', 'csv', 'ppt', 'txt', 'doc', 'sql', 'jpg', 'html', 'java', 'pptx', 'swf', 'log', 'gif', 'f', 'png', 'gz']\n",
      "21 ['html', 'png', 'java', 'pps', 'doc', 'ppt', 'eps', 'dbase3', 'pptx', 'gz', 'txt', 'swf', 'xls', 'hlp', 'csv', 'log', 'pdf', 'kml', 'gif', 'dwf', 'wp']\n",
      "22 ['pps', 'dwf', 'log', 'java', 'sql', 'ps', 'gz', 'hlp', 'ppt', 'kml', 'kmz', 'csv', 'pptx', 'f', 'xls', 'dbase3', 'wp', 'eps', 'txt', 'png', 'doc', 'jpg']\n",
      "23 ['f', 'png', 'doc', 'jpg', 'swf', 'gif', 'ppt', 'xml', 'txt', 'dwf', 'kml', 'java', 'dbase3', 'html', 'xls', 'csv', 'hlp', 'pdf', 'pptx', 'log', 'pps', 'rtf', 'wp']\n",
      "24 ['dbase3', 'gz', 'java', 'pptx', 'f', 'hlp', 'swf', 'png', 'txt', 'eps', 'ppt', 'gif', 'rtf', 'xml', 'wp', 'kml', 'dwf', 'pps', 'html', 'ps', 'sql', 'jpg', 'log', 'pdf']\n",
      "25 ['eps', 'gz', 'wp', 'kmz', 'rtf', 'csv', 'swf', 'xml', 'txt', 'html', 'ppt', 'xls', 'jpg', 'f', 'png', 'pps', 'gif', 'pdf', 'dwf', 'sql', 'doc', 'pptx', 'log', 'kml', 'ps']\n",
      "26 ['wp', 'gz', 'dwf', 'swf', 'xml', 'jpg', 'txt', 'sql', 'eps', 'pptx', 'ppt', 'f', 'hlp', 'pdf', 'gif', 'dbase3', 'kmz', 'ps', 'rtf', 'pps', 'csv', 'png', 'xls', 'html', 'java', 'kml']\n",
      "27 ['pps', 'ps', 'dwf', 'pptx', 'gz', 'hlp', 'jpg', 'doc', 'xml', 'csv', 'xls', 'html', 'java', 'sql', 'txt', 'kml', 'dbase3', 'gif', 'png', 'eps', 'kmz', 'log', 'pdf', 'f', 'wp', 'swf', 'ppt']\n",
      "28 ['pdf', 'dwf', 'html', 'log', 'jpg', 'pptx', 'gz', 'png', 'sql', 'java', 'kmz', 'rtf', 'xls', 'kml', 'doc', 'f', 'xml', 'gif', 'eps', 'ps', 'swf', 'hlp', 'ppt', 'pps', 'wp', 'dbase3', 'csv', 'txt']\n",
      "2 ['pdf', 'hlp']\n",
      "3 ['pdf', 'jpg', 'xls']\n",
      "4 ['html', 'gz', 'kmz', 'xls']\n",
      "5 ['eps', 'html', 'pptx', 'hlp', 'gif']\n",
      "6 ['pptx', 'xls', 'ps', 'rtf', 'gz', 'gif']\n",
      "7 ['doc', 'jpg', 'hlp', 'gif', 'pps', 'pptx', 'f']\n",
      "8 ['dwf', 'f', 'pptx', 'png', 'dbase3', 'eps', 'wp', 'kml']\n",
      "9 ['swf', 'kml', 'java', 'gz', 'pdf', 'f', 'wp', 'pptx', 'xml']\n",
      "10 ['swf', 'ps', 'java', 'xls', 'pdf', 'wp', 'jpg', 'pptx', 'ppt', 'pps']\n",
      "11 ['f', 'pps', 'doc', 'kml', 'hlp', 'kmz', 'txt', 'xml', 'gz', 'dbase3', 'eps']\n",
      "12 ['swf', 'wp', 'png', 'pps', 'rtf', 'xls', 'dbase3', 'kmz', 'sql', 'eps', 'f', 'hlp']\n",
      "13 ['jpg', 'rtf', 'ps', 'swf', 'dbase3', 'dwf', 'gif', 'doc', 'xls', 'gz', 'ppt', 'java', 'f']\n",
      "14 ['gif', 'kmz', 'txt', 'dbase3', 'jpg', 'pdf', 'rtf', 'swf', 'pptx', 'gz', 'xls', 'png', 'wp', 'eps']\n",
      "15 ['doc', 'dwf', 'png', 'hlp', 'csv', 'kml', 'dbase3', 'ps', 'txt', 'jpg', 'java', 'xls', 'html', 'ppt', 'pps']\n",
      "16 ['kmz', 'eps', 'dwf', 'wp', 'ppt', 'java', 'doc', 'png', 'dbase3', 'gif', 'kml', 'jpg', 'html', 'pptx', 'log', 'f']\n",
      "17 ['eps', 'jpg', 'wp', 'ps', 'gz', 'log', 'pps', 'dbase3', 'pdf', 'gif', 'rtf', 'hlp', 'dwf', 'xls', 'sql', 'kmz', 'swf']\n",
      "18 ['ps', 'html', 'ppt', 'dbase3', 'log', 'kmz', 'gz', 'pdf', 'doc', 'jpg', 'hlp', 'png', 'swf', 'txt', 'gif', 'f', 'pps', 'csv']\n",
      "19 ['doc', 'dbase3', 'xml', 'xls', 'hlp', 'sql', 'jpg', 'html', 'gz', 'pps', 'pptx', 'pdf', 'wp', 'png', 'ppt', 'ps', 'rtf', 'kml', 'txt']\n",
      "20 ['hlp', 'log', 'dwf', 'csv', 'pps', 'gz', 'rtf', 'dbase3', 'jpg', 'txt', 'eps', 'pptx', 'swf', 'html', 'xml', 'doc', 'ps', 'ppt', 'png', 'kmz']\n",
      "21 ['kmz', 'txt', 'hlp', 'gz', 'pptx', 'csv', 'png', 'doc', 'ppt', 'html', 'wp', 'kml', 'eps', 'dbase3', 'jpg', 'swf', 'log', 'f', 'ps', 'pdf', 'xml']\n"
     ]
    },
    {
     "name": "stdout",
     "output_type": "stream",
     "text": [
      "22 ['png', 'doc', 'java', 'xml', 'eps', 'hlp', 'rtf', 'f', 'csv', 'pdf', 'gz', 'html', 'ppt', 'dbase3', 'pps', 'xls', 'gif', 'log', 'jpg', 'swf', 'sql', 'kmz']\n",
      "23 ['dwf', 'kmz', 'rtf', 'f', 'pdf', 'xml', 'html', 'ps', 'swf', 'csv', 'pps', 'pptx', 'xls', 'jpg', 'sql', 'ppt', 'log', 'eps', 'gif', 'wp', 'doc', 'hlp', 'dbase3']\n",
      "24 ['gif', 'xls', 'gz', 'dwf', 'dbase3', 'xml', 'log', 'pptx', 'kml', 'csv', 'kmz', 'txt', 'hlp', 'rtf', 'java', 'jpg', 'html', 'ppt', 'f', 'eps', 'png', 'pps', 'pdf', 'ps']\n",
      "25 ['jpg', 'xls', 'gif', 'txt', 'png', 'hlp', 'doc', 'dwf', 'sql', 'dbase3', 'pdf', 'java', 'html', 'eps', 'pptx', 'f', 'kml', 'xml', 'csv', 'wp', 'swf', 'gz', 'rtf', 'pps', 'ps']\n",
      "26 ['hlp', 'pptx', 'jpg', 'ppt', 'png', 'pdf', 'doc', 'swf', 'wp', 'xls', 'rtf', 'java', 'log', 'kml', 'eps', 'html', 'txt', 'dbase3', 'csv', 'sql', 'f', 'kmz', 'gif', 'dwf', 'ps', 'pps']\n",
      "27 ['txt', 'rtf', 'kml', 'html', 'ps', 'doc', 'wp', 'dwf', 'dbase3', 'ppt', 'jpg', 'eps', 'pdf', 'hlp', 'xls', 'log', 'gif', 'java', 'pptx', 'f', 'xml', 'pps', 'png', 'csv', 'swf', 'sql', 'kmz']\n",
      "28 ['gz', 'kmz', 'sql', 'wp', 'kml', 'java', 'dwf', 'log', 'xml', 'rtf', 'swf', 'html', 'xls', 'eps', 'csv', 'png', 'pptx', 'doc', 'pdf', 'pps', 'hlp', 'jpg', 'ppt', 'ps', 'dbase3', 'txt', 'f', 'gif']\n",
      "2 ['ppt', 'pdf']\n",
      "3 ['java', 'swf', 'gif']\n",
      "4 ['ppt', 'html', 'dbase3', 'hlp']\n",
      "5 ['dbase3', 'xls', 'dwf', 'pps', 'gz']\n",
      "6 ['java', 'eps', 'log', 'dbase3', 'txt', 'gif']\n",
      "7 ['html', 'ppt', 'png', 'kmz', 'log', 'pptx', 'txt']\n",
      "8 ['wp', 'eps', 'doc', 'txt', 'ppt', 'jpg', 'java', 'pptx']\n",
      "9 ['java', 'dbase3', 'f', 'pps', 'pdf', 'doc', 'dwf', 'gif', 'xls']\n",
      "10 ['csv', 'eps', 'txt', 'sql', 'rtf', 'log', 'wp', 'kmz', 'pdf', 'kml']\n",
      "11 ['csv', 'pps', 'kml', 'sql', 'pdf', 'png', 'pptx', 'jpg', 'xls', 'wp', 'f']\n",
      "12 ['rtf', 'java', 'xls', 'log', 'sql', 'dwf', 'png', 'kml', 'csv', 'pps', 'hlp', 'jpg']\n",
      "13 ['png', 'html', 'doc', 'pdf', 'dwf', 'kml', 'xls', 'ppt', 'xml', 'txt', 'csv', 'gif', 'wp']\n",
      "14 ['txt', 'doc', 'gz', 'png', 'kmz', 'eps', 'xls', 'dbase3', 'log', 'wp', 'sql', 'pptx', 'gif', 'pdf']\n",
      "15 ['pptx', 'ppt', 'kml', 'xml', 'wp', 'sql', 'java', 'dbase3', 'xls', 'pps', 'swf', 'html', 'pdf', 'jpg', 'gz']\n",
      "16 ['pdf', 'wp', 'eps', 'ps', 'rtf', 'gif', 'dbase3', 'pptx', 'doc', 'txt', 'f', 'xls', 'xml', 'hlp', 'csv', 'java']\n",
      "17 ['java', 'hlp', 'csv', 'log', 'pdf', 'dbase3', 'f', 'kmz', 'gif', 'swf', 'kml', 'wp', 'xml', 'ppt', 'sql', 'dwf', 'pps']\n",
      "18 ['java', 'rtf', 'jpg', 'pps', 'xml', 'pptx', 'txt', 'kmz', 'pdf', 'swf', 'csv', 'xls', 'log', 'wp', 'html', 'gz', 'ps', 'ppt']\n",
      "19 ['xls', 'jpg', 'pps', 'kml', 'ppt', 'ps', 'swf', 'log', 'png', 'hlp', 'sql', 'dwf', 'gz', 'dbase3', 'java', 'doc', 'gif', 'txt', 'csv']\n",
      "20 ['sql', 'png', 'kml', 'xml', 'csv', 'log', 'wp', 'dwf', 'html', 'kmz', 'hlp', 'dbase3', 'doc', 'ps', 'ppt', 'gz', 'txt', 'pptx', 'f', 'pps']\n",
      "21 ['kmz', 'hlp', 'pps', 'xml', 'png', 'txt', 'log', 'dbase3', 'html', 'jpg', 'sql', 'rtf', 'xls', 'doc', 'csv', 'f', 'swf', 'eps', 'pptx', 'gz', 'ps']\n",
      "22 ['rtf', 'java', 'sql', 'xls', 'kmz', 'txt', 'pps', 'dwf', 'doc', 'log', 'html', 'hlp', 'pptx', 'gz', 'jpg', 'f', 'swf', 'xml', 'dbase3', 'pdf', 'ppt', 'eps']\n",
      "23 ['dwf', 'f', 'ppt', 'java', 'xls', 'pptx', 'hlp', 'wp', 'png', 'html', 'jpg', 'eps', 'doc', 'swf', 'xml', 'gif', 'txt', 'ps', 'rtf', 'kml', 'csv', 'pdf', 'pps']\n",
      "24 ['doc', 'swf', 'jpg', 'sql', 'f', 'kml', 'txt', 'dbase3', 'dwf', 'gif', 'ps', 'pdf', 'xls', 'xml', 'eps', 'html', 'rtf', 'hlp', 'java', 'csv', 'kmz', 'pptx', 'log', 'ppt']\n",
      "25 ['gz', 'csv', 'xml', 'java', 'ppt', 'eps', 'xls', 'hlp', 'pps', 'sql', 'gif', 'log', 'ps', 'wp', 'f', 'swf', 'html', 'jpg', 'png', 'dwf', 'pptx', 'rtf', 'kml', 'txt', 'doc']\n",
      "26 ['dwf', 'doc', 'wp', 'hlp', 'csv', 'html', 'ppt', 'kml', 'sql', 'log', 'kmz', 'xml', 'gz', 'pps', 'eps', 'f', 'ps', 'gif', 'pdf', 'dbase3', 'txt', 'pptx', 'rtf', 'java', 'jpg', 'swf']\n",
      "27 ['kmz', 'jpg', 'swf', 'java', 'csv', 'wp', 'pdf', 'xls', 'hlp', 'kml', 'sql', 'pptx', 'dbase3', 'rtf', 'ppt', 'dwf', 'log', 'html', 'pps', 'txt', 'xml', 'gz', 'f', 'eps', 'png', 'gif', 'ps']\n",
      "28 ['dbase3', 'xml', 'html', 'java', 'jpg', 'kml', 'csv', 'doc', 'sql', 'kmz', 'gif', 'rtf', 'xls', 'log', 'gz', 'hlp', 'eps', 'wp', 'png', 'f', 'swf', 'pps', 'pdf', 'dwf', 'txt', 'ppt', 'ps', 'pptx']\n",
      "2 ['pptx', 'f']\n",
      "3 ['rtf', 'swf', 'kmz']\n",
      "4 ['xls', 'pptx', 'dwf', 'sql']\n",
      "5 ['pptx', 'kml', 'csv', 'xml', 'jpg']\n",
      "6 ['xml', 'pps', 'wp', 'log', 'pdf', 'gif']\n",
      "7 ['gif', 'dwf', 'ps', 'eps', 'kmz', 'xls', 'dbase3']\n",
      "8 ['doc', 'gz', 'f', 'eps', 'pptx', 'kml', 'pps', 'rtf']\n",
      "9 ['dwf', 'ppt', 'pdf', 'kml', 'kmz', 'dbase3', 'csv', 'gz', 'txt']\n",
      "10 ['csv', 'dwf', 'doc', 'dbase3', 'hlp', 'pptx', 'ppt', 'txt', 'eps', 'sql']\n",
      "11 ['rtf', 'sql', 'pptx', 'ppt', 'xml', 'gz', 'java', 'ps', 'kmz', 'xls', 'hlp']\n",
      "12 ['doc', 'dwf', 'ps', 'gz', 'xls', 'hlp', 'gif', 'pps', 'html', 'xml', 'log', 'swf']\n",
      "13 ['html', 'jpg', 'doc', 'f', 'dbase3', 'xml', 'pps', 'java', 'ppt', 'txt', 'pdf', 'pptx', 'swf']\n",
      "14 ['csv', 'pps', 'rtf', 'pptx', 'ps', 'kml', 'jpg', 'pdf', 'dbase3', 'txt', 'xls', 'doc', 'png', 'java']\n",
      "15 ['sql', 'jpg', 'dbase3', 'hlp', 'kml', 'rtf', 'java', 'gz', 'log', 'gif', 'pptx', 'eps', 'wp', 'txt', 'csv']\n",
      "16 ['png', 'jpg', 'gif', 'gz', 'hlp', 'java', 'ppt', 'eps', 'xls', 'doc', 'wp', 'pptx', 'rtf', 'txt', 'kmz', 'pdf']\n",
      "17 ['f', 'gz', 'csv', 'pdf', 'gif', 'dwf', 'sql', 'ps', 'png', 'kml', 'txt', 'kmz', 'hlp', 'pps', 'xls', 'ppt', 'eps']\n",
      "18 ['swf', 'pps', 'kml', 'gif', 'wp', 'ps', 'java', 'jpg', 'html', 'doc', 'rtf', 'txt', 'xls', 'pptx', 'log', 'dwf', 'f', 'eps']\n",
      "19 ['ppt', 'pptx', 'dbase3', 'wp', 'pps', 'doc', 'eps', 'txt', 'gif', 'jpg', 'kml', 'xml', 'f', 'png', 'kmz', 'html', 'log', 'rtf', 'csv']\n",
      "20 ['eps', 'pps', 'xls', 'gif', 'rtf', 'csv', 'xml', 'f', 'html', 'gz', 'png', 'wp', 'kml', 'jpg', 'kmz', 'ps', 'java', 'pptx', 'txt', 'doc']\n",
      "21 ['csv', 'doc', 'log', 'rtf', 'png', 'f', 'gz', 'kml', 'pps', 'pdf', 'ps', 'kmz', 'jpg', 'sql', 'dwf', 'ppt', 'eps', 'swf', 'xml', 'html', 'hlp']\n",
      "22 ['kmz', 'dbase3', 'gz', 'log', 'java', 'hlp', 'pps', 'csv', 'doc', 'f', 'png', 'pdf', 'ppt', 'sql', 'jpg', 'ps', 'xml', 'txt', 'rtf', 'kml', 'pptx', 'xls']\n",
      "23 ['kmz', 'csv', 'gif', 'txt', 'xml', 'dbase3', 'swf', 'pdf', 'gz', 'wp', 'ps', 'f', 'log', 'html', 'jpg', 'dwf', 'kml', 'rtf', 'hlp', 'java', 'pptx', 'doc', 'pps']\n",
      "24 ['eps', 'png', 'hlp', 'gz', 'log', 'dwf', 'rtf', 'pps', 'jpg', 'doc', 'sql', 'csv', 'swf', 'pdf', 'xls', 'dbase3', 'f', 'ps', 'txt', 'java', 'ppt', 'kml', 'gif', 'pptx']\n",
      "25 ['csv', 'pptx', 'dbase3', 'ps', 'wp', 'txt', 'sql', 'ppt', 'log', 'jpg', 'pdf', 'xml', 'swf', 'pps', 'hlp', 'png', 'kmz', 'dwf', 'eps', 'kml', 'xls', 'gz', 'doc', 'rtf', 'gif']\n",
      "26 ['rtf', 'ps', 'dwf', 'gz', 'ppt', 'xls', 'png', 'pdf', 'f', 'swf', 'gif', 'pptx', 'pps', 'hlp', 'kmz', 'java', 'log', 'jpg', 'dbase3', 'eps', 'txt', 'html', 'wp', 'csv', 'sql', 'doc']\n",
      "27 ['dwf', 'wp', 'kmz', 'sql', 'ps', 'ppt', 'csv', 'rtf', 'f', 'pps', 'dbase3', 'eps', 'html', 'xls', 'txt', 'swf', 'xml', 'log', 'doc', 'pptx', 'java', 'hlp', 'gif', 'kml', 'gz', 'pdf', 'jpg']\n",
      "28 ['pps', 'csv', 'hlp', 'kml', 'ppt', 'swf', 'pptx', 'xml', 'java', 'png', 'gif', 'gz', 'log', 'txt', 'eps', 'jpg', 'dbase3', 'doc', 'dwf', 'ps', 'sql', 'pdf', 'rtf', 'wp', 'html', 'kmz', 'xls', 'f']\n"
     ]
    }
   ],
   "source": [
    "if os.path.exists(result_dir + \"/nclasses.tsv\"):\n",
    "    os.remove(result_dir + \"/nclasses.tsv\")\n",
    "r = report.Reporter2(result_dir + '/nclasses.tsv')\n",
    "train_nclasses(rawset, r, 5)\n",
    "r.close()"
   ]
  },
  {
   "cell_type": "markdown",
   "metadata": {},
   "source": [
    "# Load data"
   ]
  },
  {
   "cell_type": "code",
   "execution_count": 9,
   "metadata": {},
   "outputs": [
    {
     "data": {
      "text/html": [
       "<div>\n",
       "<style scoped>\n",
       "    .dataframe tbody tr th:only-of-type {\n",
       "        vertical-align: middle;\n",
       "    }\n",
       "\n",
       "    .dataframe tbody tr th {\n",
       "        vertical-align: top;\n",
       "    }\n",
       "\n",
       "    .dataframe thead th {\n",
       "        text-align: right;\n",
       "    }\n",
       "</style>\n",
       "<table border=\"1\" class=\"dataframe\">\n",
       "  <thead>\n",
       "    <tr style=\"text-align: right;\">\n",
       "      <th></th>\n",
       "      <th>n</th>\n",
       "      <th>cats</th>\n",
       "      <th>val_categorical_accuracy</th>\n",
       "    </tr>\n",
       "  </thead>\n",
       "  <tbody>\n",
       "    <tr>\n",
       "      <td>0</td>\n",
       "      <td>2</td>\n",
       "      <td>f,wp</td>\n",
       "      <td>0.964286</td>\n",
       "    </tr>\n",
       "    <tr>\n",
       "      <td>1</td>\n",
       "      <td>3</td>\n",
       "      <td>rtf,pps,csv</td>\n",
       "      <td>0.978929</td>\n",
       "    </tr>\n",
       "    <tr>\n",
       "      <td>2</td>\n",
       "      <td>4</td>\n",
       "      <td>pptx,csv,dwf,sql</td>\n",
       "      <td>0.795714</td>\n",
       "    </tr>\n",
       "    <tr>\n",
       "      <td>3</td>\n",
       "      <td>5</td>\n",
       "      <td>log,kmz,wp,dbase3,hlp</td>\n",
       "      <td>0.951071</td>\n",
       "    </tr>\n",
       "    <tr>\n",
       "      <td>4</td>\n",
       "      <td>6</td>\n",
       "      <td>jpg,swf,f,xls,dbase3,wp</td>\n",
       "      <td>0.857143</td>\n",
       "    </tr>\n",
       "    <tr>\n",
       "      <td>...</td>\n",
       "      <td>...</td>\n",
       "      <td>...</td>\n",
       "      <td>...</td>\n",
       "    </tr>\n",
       "    <tr>\n",
       "      <td>130</td>\n",
       "      <td>24</td>\n",
       "      <td>eps,png,hlp,gz,log,dwf,rtf,pps,jpg,doc,sql,csv...</td>\n",
       "      <td>0.569286</td>\n",
       "    </tr>\n",
       "    <tr>\n",
       "      <td>131</td>\n",
       "      <td>25</td>\n",
       "      <td>csv,pptx,dbase3,ps,wp,txt,sql,ppt,log,jpg,pdf,...</td>\n",
       "      <td>0.567143</td>\n",
       "    </tr>\n",
       "    <tr>\n",
       "      <td>132</td>\n",
       "      <td>26</td>\n",
       "      <td>rtf,ps,dwf,gz,ppt,xls,png,pdf,f,swf,gif,pptx,p...</td>\n",
       "      <td>0.537143</td>\n",
       "    </tr>\n",
       "    <tr>\n",
       "      <td>133</td>\n",
       "      <td>27</td>\n",
       "      <td>dwf,wp,kmz,sql,ps,ppt,csv,rtf,f,pps,dbase3,eps...</td>\n",
       "      <td>0.580357</td>\n",
       "    </tr>\n",
       "    <tr>\n",
       "      <td>134</td>\n",
       "      <td>28</td>\n",
       "      <td>pps,csv,hlp,kml,ppt,swf,pptx,xml,java,png,gif,...</td>\n",
       "      <td>0.586071</td>\n",
       "    </tr>\n",
       "  </tbody>\n",
       "</table>\n",
       "<p>135 rows × 3 columns</p>\n",
       "</div>"
      ],
      "text/plain": [
       "      n                                               cats  \\\n",
       "0     2                                               f,wp   \n",
       "1     3                                        rtf,pps,csv   \n",
       "2     4                                   pptx,csv,dwf,sql   \n",
       "3     5                              log,kmz,wp,dbase3,hlp   \n",
       "4     6                            jpg,swf,f,xls,dbase3,wp   \n",
       "..   ..                                                ...   \n",
       "130  24  eps,png,hlp,gz,log,dwf,rtf,pps,jpg,doc,sql,csv...   \n",
       "131  25  csv,pptx,dbase3,ps,wp,txt,sql,ppt,log,jpg,pdf,...   \n",
       "132  26  rtf,ps,dwf,gz,ppt,xls,png,pdf,f,swf,gif,pptx,p...   \n",
       "133  27  dwf,wp,kmz,sql,ps,ppt,csv,rtf,f,pps,dbase3,eps...   \n",
       "134  28  pps,csv,hlp,kml,ppt,swf,pptx,xml,java,png,gif,...   \n",
       "\n",
       "     val_categorical_accuracy  \n",
       "0                    0.964286  \n",
       "1                    0.978929  \n",
       "2                    0.795714  \n",
       "3                    0.951071  \n",
       "4                    0.857143  \n",
       "..                        ...  \n",
       "130                  0.569286  \n",
       "131                  0.567143  \n",
       "132                  0.537143  \n",
       "133                  0.580357  \n",
       "134                  0.586071  \n",
       "\n",
       "[135 rows x 3 columns]"
      ]
     },
     "execution_count": 9,
     "metadata": {},
     "output_type": "execute_result"
    }
   ],
   "source": [
    "data = pd.read_csv(result_dir + '/nclasses.tsv', sep='\\t')\n",
    "data"
   ]
  },
  {
   "cell_type": "code",
   "execution_count": 10,
   "metadata": {},
   "outputs": [],
   "source": [
    "from matplotlib.ticker import MultipleLocator\n",
    "def plot_acc(xs, ys, labels=None, loc='upper right', alpha_on=None):\n",
    "    fig = plt.figure(figsize=(12,8))\n",
    "#     fig.yaxis.set_minor_locator()\n",
    "    if labels is None:\n",
    "        labels = [None for x in xs]\n",
    "    for x, y, label, mark in zip(xs, ys, labels, ['bx', 'g-', 'r*', '.mD']):\n",
    "        plt.plot(x[x==alpha_on], y[x==alpha_on], mark, alpha=0.1, label='')\n",
    "        plt.plot(x[x!=alpha_on], y[x!=alpha_on], mark, label=label)\n",
    "    ax1 = plt.gca()\n",
    "    plt.ylabel('accuracy', fontsize=16)\n",
    "    plt.xlabel('number of classes', fontsize=16)\n",
    "    plt.xlim((-0, 31))\n",
    "    plt.ylim((-0, 1))\n",
    "    ax1.xaxis.set_major_locator(MultipleLocator(5))\n",
    "    ax1.xaxis.set_minor_locator(MultipleLocator(1))\n",
    "    ax1.yaxis.set_major_locator(MultipleLocator(0.1))\n",
    "    ax1.yaxis.set_minor_locator(MultipleLocator(0.05))\n",
    "    plt.grid(linestyle='-', color='k', which='major')\n",
    "    plt.grid(linestyle='--', which='minor')\n",
    "    for tick in ax1.xaxis.get_major_ticks():\n",
    "        tick.label.set_fontsize(16) \n",
    "    for tick in ax1.yaxis.get_major_ticks():\n",
    "        tick.label.set_fontsize(16) \n",
    "    plt.legend(loc=loc, prop={'size': 16})\n",
    "#     plt.savefig('acc.png')"
   ]
  },
  {
   "cell_type": "code",
   "execution_count": 11,
   "metadata": {},
   "outputs": [
    {
     "data": {
      "image/png": "[encoded data removed]",
      "text/plain": [
       "<Figure size 864x576 with 1 Axes>"
      ]
     },
     "metadata": {},
     "output_type": "display_data"
    }
   ],
   "source": [
    "x = np.arange(2,30,0.01)\n",
    "y = 1/x\n",
    "plot_acc([data['n'], x], [data['val_categorical_accuracy'], y], ['models trained with many classes', 'random chance'])"
   ]
  }
 ],
 "metadata": {
  "kernelspec": {
   "display_name": "Python 3",
   "language": "python",
   "name": "python3"
  },
  "language_info": {
   "codemirror_mode": {
    "name": "ipython",
    "version": 3
   },
   "file_extension": ".py",
   "mimetype": "text/x-python",
   "name": "python",
   "nbconvert_exporter": "python",
   "pygments_lexer": "ipython3",
   "version": "3.6.6"
  }
 },
 "nbformat": 4,
 "nbformat_minor": 2
}
