{
 "cells": [
  {
   "cell_type": "markdown",
   "metadata": {},
   "source": [
    "# 4.2-a How does the number of classes affect accuracy?"
   ]
  },
  {
   "cell_type": "code",
   "execution_count": 1,
   "metadata": {},
   "outputs": [
    {
     "name": "stderr",
     "output_type": "stream",
     "text": [
      "/home/atila.alr/.local/lib/python3.6/site-packages/tensorflow/python/framework/dtypes.py:516: FutureWarning: Passing (type, 1) or '1type' as a synonym of type is deprecated; in a future version of numpy, it will be understood as (type, (1,)) / '(1,)type'.\n",
      "  _np_qint8 = np.dtype([(\"qint8\", np.int8, 1)])\n",
      "/home/atila.alr/.local/lib/python3.6/site-packages/tensorflow/python/framework/dtypes.py:517: FutureWarning: Passing (type, 1) or '1type' as a synonym of type is deprecated; in a future version of numpy, it will be understood as (type, (1,)) / '(1,)type'.\n",
      "  _np_quint8 = np.dtype([(\"quint8\", np.uint8, 1)])\n",
      "/home/atila.alr/.local/lib/python3.6/site-packages/tensorflow/python/framework/dtypes.py:518: FutureWarning: Passing (type, 1) or '1type' as a synonym of type is deprecated; in a future version of numpy, it will be understood as (type, (1,)) / '(1,)type'.\n",
      "  _np_qint16 = np.dtype([(\"qint16\", np.int16, 1)])\n",
      "/home/atila.alr/.local/lib/python3.6/site-packages/tensorflow/python/framework/dtypes.py:519: FutureWarning: Passing (type, 1) or '1type' as a synonym of type is deprecated; in a future version of numpy, it will be understood as (type, (1,)) / '(1,)type'.\n",
      "  _np_quint16 = np.dtype([(\"quint16\", np.uint16, 1)])\n",
      "/home/atila.alr/.local/lib/python3.6/site-packages/tensorflow/python/framework/dtypes.py:520: FutureWarning: Passing (type, 1) or '1type' as a synonym of type is deprecated; in a future version of numpy, it will be understood as (type, (1,)) / '(1,)type'.\n",
      "  _np_qint32 = np.dtype([(\"qint32\", np.int32, 1)])\n",
      "/home/atila.alr/.local/lib/python3.6/site-packages/tensorflow/python/framework/dtypes.py:525: FutureWarning: Passing (type, 1) or '1type' as a synonym of type is deprecated; in a future version of numpy, it will be understood as (type, (1,)) / '(1,)type'.\n",
      "  np_resource = np.dtype([(\"resource\", np.ubyte, 1)])\n",
      "/home/atila.alr/.local/lib/python3.6/site-packages/tensorboard/compat/tensorflow_stub/dtypes.py:541: FutureWarning: Passing (type, 1) or '1type' as a synonym of type is deprecated; in a future version of numpy, it will be understood as (type, (1,)) / '(1,)type'.\n",
      "  _np_qint8 = np.dtype([(\"qint8\", np.int8, 1)])\n",
      "/home/atila.alr/.local/lib/python3.6/site-packages/tensorboard/compat/tensorflow_stub/dtypes.py:542: FutureWarning: Passing (type, 1) or '1type' as a synonym of type is deprecated; in a future version of numpy, it will be understood as (type, (1,)) / '(1,)type'.\n",
      "  _np_quint8 = np.dtype([(\"quint8\", np.uint8, 1)])\n",
      "/home/atila.alr/.local/lib/python3.6/site-packages/tensorboard/compat/tensorflow_stub/dtypes.py:543: FutureWarning: Passing (type, 1) or '1type' as a synonym of type is deprecated; in a future version of numpy, it will be understood as (type, (1,)) / '(1,)type'.\n",
      "  _np_qint16 = np.dtype([(\"qint16\", np.int16, 1)])\n",
      "/home/atila.alr/.local/lib/python3.6/site-packages/tensorboard/compat/tensorflow_stub/dtypes.py:544: FutureWarning: Passing (type, 1) or '1type' as a synonym of type is deprecated; in a future version of numpy, it will be understood as (type, (1,)) / '(1,)type'.\n",
      "  _np_quint16 = np.dtype([(\"quint16\", np.uint16, 1)])\n",
      "/home/atila.alr/.local/lib/python3.6/site-packages/tensorboard/compat/tensorflow_stub/dtypes.py:545: FutureWarning: Passing (type, 1) or '1type' as a synonym of type is deprecated; in a future version of numpy, it will be understood as (type, (1,)) / '(1,)type'.\n",
      "  _np_qint32 = np.dtype([(\"qint32\", np.int32, 1)])\n",
      "/home/atila.alr/.local/lib/python3.6/site-packages/tensorboard/compat/tensorflow_stub/dtypes.py:550: FutureWarning: Passing (type, 1) or '1type' as a synonym of type is deprecated; in a future version of numpy, it will be understood as (type, (1,)) / '(1,)type'.\n",
      "  np_resource = np.dtype([(\"resource\", np.ubyte, 1)])\n"
     ]
    }
   ],
   "source": [
    "import os\n",
    "import sys\n",
    "import datetime\n",
    "import random\n",
    "import tensorflow as tf\n",
    "import numpy as np\n",
    "import pandas as pd\n",
    "import matplotlib.pyplot as plt\n",
    "from collections import OrderedDict\n",
    "\n",
    "import models\n",
    "import report\n",
    "from dataset import Dataset\n",
    "from report import Reporter\n",
    "from trainer import Trainer\n",
    "from batch_encoder import Dataset\n",
    "\n",
    "from tensorflow.keras.layers import Input, Conv1D, MaxPooling1D, LSTM, Dense, Activation, TimeDistributed, Flatten, Dot, Softmax, Lambda, RepeatVector, Multiply, Permute, Reshape, BatchNormalization"
   ]
  },
  {
   "cell_type": "code",
   "execution_count": 2,
   "metadata": {},
   "outputs": [
    {
     "data": {
      "text/plain": [
       "('1.14.0', '2.2.4-tf')"
      ]
     },
     "execution_count": 2,
     "metadata": {},
     "output_type": "execute_result"
    }
   ],
   "source": [
    "tf.__version__, tf.keras.__version__"
   ]
  },
  {
   "cell_type": "code",
   "execution_count": 3,
   "metadata": {},
   "outputs": [
    {
     "data": {
      "text/plain": [
       "(False, False)"
      ]
     },
     "execution_count": 3,
     "metadata": {},
     "output_type": "execute_result"
    }
   ],
   "source": [
    "tf.test.is_gpu_available(), tf.test.is_built_with_cuda()"
   ]
  },
  {
   "cell_type": "code",
   "execution_count": 4,
   "metadata": {},
   "outputs": [],
   "source": [
    "raw_dataset_folder='govdocs1/sample200'\n",
    "minimum=200\n",
    "maximum=200\n",
    "result_dir = 'results/4.2a-nclasses'"
   ]
  },
  {
   "cell_type": "code",
   "execution_count": 5,
   "metadata": {},
   "outputs": [],
   "source": [
    "rawset = Dataset.new_from_folders(raw_dataset_folder)\n",
    "rawset = rawset.filter(lambda x: rawset.category_from(x) not in ['text', 'unk'])\n",
    "rawset = rawset.filter_min_max(200, 200)"
   ]
  },
  {
   "cell_type": "code",
   "execution_count": 6,
   "metadata": {},
   "outputs": [],
   "source": [
    "def CM(classes, len_byte_vector):\n",
    "    last = l0 = Input(shape=(512,len_byte_vector))\n",
    "    last = Conv1D(classes, (32,), strides=1)(last)\n",
    "    last = MaxPooling1D(pool_size=481, strides=1)(last)\n",
    "    last = Flatten()(last)\n",
    "    last = Activation('softmax')(last)\n",
    "    name = sys._getframe().f_code.co_name\n",
    "    model = tf.keras.Model([l0], last, name=name)\n",
    "    model.compile(loss=tf.keras.losses.categorical_crossentropy,\n",
    "        optimizer=tf.keras.optimizers.Adam(),\n",
    "        metrics=['binary_accuracy', 'categorical_accuracy'])\n",
    "    return model"
   ]
  },
  {
   "cell_type": "code",
   "execution_count": 7,
   "metadata": {},
   "outputs": [],
   "source": [
    "def train_nclasses(rawset, reporter, iterations=1):\n",
    "    for it in range(iterations):\n",
    "        for n in range(2, len(rawset.categories)+1):\n",
    "            cats = random.sample(rawset.by_category().keys(), n)\n",
    "            print(n, cats)\n",
    "            myset = rawset.filter(lambda x: rawset.category_from(x) in cats)\n",
    "            myset.rebuild_categories()\n",
    "            tset, vset = myset.rnd_split_fraction_by_category(0.5)\n",
    "\n",
    "            model = CM(n, 256)\n",
    "            result = Trainer(\n",
    "                model,\n",
    "                xs_encoder='one_hot',\n",
    "                batch_size=100,\n",
    "                steps_per_epoch=n,\n",
    "                validation_steps=n*2,\n",
    "                patience=10,\n",
    "            ).train(tset, vset)\n",
    "            r.line(n=n,\n",
    "                cats=','.join(cats),\n",
    "                val_categorical_accuracy=result.history.history['val_categorical_accuracy'][-1],\n",
    "            )"
   ]
  },
  {
   "cell_type": "markdown",
   "metadata": {},
   "source": [
    "# Train models"
   ]
  },
  {
   "cell_type": "code",
   "execution_count": 8,
   "metadata": {},
   "outputs": [
    {
     "name": "stdout",
     "output_type": "stream",
     "text": [
      "2 ['kmz', 'xml']\n",
      "WARNING:tensorflow:From /home/atila.alr/.local/lib/python3.6/site-packages/tensorflow/python/ops/init_ops.py:1251: calling VarianceScaling.__init__ (from tensorflow.python.ops.init_ops) with dtype is deprecated and will be removed in a future version.\n",
      "Instructions for updating:\n",
      "Call initializer instance with the dtype argument instead of passing it to the constructor\n",
      "3 ['csv', 'gz', 'dbase3']\n",
      "4 ['html', 'pdf', 'kml', 'wp']\n",
      "5 ['hlp', 'jpg', 'gif', 'kmz', 'log']\n",
      "6 ['pps', 'wp', 'jpg', 'doc', 'xml', 'pptx']\n",
      "7 ['rtf', 'xls', 'txt', 'f', 'gz', 'log', 'doc']\n",
      "8 ['gif', 'swf', 'jpg', 'pdf', 'wp', 'html', 'log', 'txt']\n",
      "9 ['java', 'hlp', 'ppt', 'pdf', 'dbase3', 'pps', 'png', 'sql', 'kmz']\n",
      "10 ['swf', 'xls', 'pdf', 'xml', 'pps', 'dbase3', 'png', 'sql', 'kml', 'ps']\n",
      "11 ['png', 'kml', 'txt', 'dwf', 'sql', 'kmz', 'swf', 'csv', 'ppt', 'rtf', 'wp']\n",
      "12 ['kml', 'kmz', 'eps', 'html', 'f', 'jpg', 'pptx', 'xls', 'png', 'gif', 'csv', 'dwf']\n",
      "13 ['kml', 'gz', 'ps', 'java', 'wp', 'xml', 'eps', 'xls', 'csv', 'sql', 'f', 'pps', 'rtf']\n",
      "14 ['swf', 'kml', 'eps', 'csv', 'dbase3', 'f', 'java', 'gz', 'xls', 'hlp', 'rtf', 'doc', 'ppt', 'png']\n",
      "15 ['wp', 'hlp', 'swf', 'png', 'jpg', 'log', 'kmz', 'pdf', 'dwf', 'xls', 'xml', 'ps', 'dbase3', 'pps', 'sql']\n",
      "16 ['swf', 'gif', 'txt', 'java', 'jpg', 'hlp', 'dbase3', 'ps', 'kml', 'wp', 'png', 'dwf', 'kmz', 'doc', 'gz', 'f']\n",
      "17 ['dbase3', 'wp', 'rtf', 'java', 'f', 'kml', 'xls', 'ppt', 'ps', 'swf', 'kmz', 'png', 'pdf', 'log', 'csv', 'gz', 'doc']\n",
      "18 ['dbase3', 'java', 'pdf', 'ps', 'ppt', 'log', 'pps', 'txt', 'xls', 'gz', 'xml', 'f', 'rtf', 'png', 'pptx', 'html', 'kmz', 'doc']\n",
      "19 ['ppt', 'xls', 'sql', 'pptx', 'doc', 'log', 'gz', 'rtf', 'pps', 'swf', 'gif', 'hlp', 'f', 'txt', 'csv', 'png', 'html', 'dwf', 'pdf']\n",
      "20 ['wp', 'ps', 'rtf', 'dbase3', 'gz', 'eps', 'hlp', 'f', 'pptx', 'swf', 'csv', 'kmz', 'dwf', 'java', 'log', 'xml', 'png', 'pdf', 'kml', 'ppt']\n",
      "21 ['dwf', 'png', 'rtf', 'xls', 'pdf', 'java', 'html', 'swf', 'wp', 'csv', 'gz', 'pptx', 'sql', 'kml', 'xml', 'log', 'ppt', 'pps', 'eps', 'jpg', 'f']\n",
      "22 ['jpg', 'log', 'ps', 'txt', 'swf', 'ppt', 'png', 'pptx', 'sql', 'hlp', 'eps', 'gz', 'xls', 'html', 'kmz', 'doc', 'java', 'wp', 'gif', 'f', 'dwf', 'rtf']\n",
      "23 ['kmz', 'kml', 'xls', 'jpg', 'swf', 'png', 'rtf', 'dwf', 'dbase3', 'eps', 'f', 'xml', 'sql', 'csv', 'wp', 'html', 'ppt', 'log', 'hlp', 'gif', 'java', 'pdf', 'txt']\n",
      "24 ['csv', 'java', 'wp', 'gz', 'dwf', 'pptx', 'pdf', 'png', 'xls', 'kml', 'log', 'jpg', 'doc', 'hlp', 'html', 'eps', 'rtf', 'ppt', 'gif', 'ps', 'txt', 'f', 'swf', 'sql']\n",
      "25 ['txt', 'jpg', 'swf', 'f', 'png', 'hlp', 'xls', 'gif', 'dbase3', 'eps', 'pptx', 'kmz', 'rtf', 'html', 'ppt', 'ps', 'log', 'pps', 'pdf', 'wp', 'java', 'csv', 'doc', 'kml', 'gz']\n",
      "26 ['ppt', 'csv', 'dbase3', 'xml', 'dwf', 'png', 'pptx', 'log', 'swf', 'kmz', 'txt', 'kml', 'html', 'java', 'ps', 'gif', 'sql', 'jpg', 'f', 'doc', 'gz', 'pps', 'hlp', 'eps', 'pdf', 'xls']\n",
      "27 ['txt', 'pptx', 'log', 'csv', 'sql', 'hlp', 'java', 'jpg', 'gz', 'xml', 'dbase3', 'rtf', 'eps', 'ps', 'kmz', 'png', 'doc', 'html', 'pps', 'f', 'kml', 'wp', 'xls', 'gif', 'swf', 'pdf', 'dwf']\n",
      "28 ['hlp', 'java', 'xls', 'gz', 'ps', 'rtf', 'kmz', 'wp', 'dbase3', 'f', 'kml', 'jpg', 'sql', 'png', 'gif', 'swf', 'dwf', 'html', 'log', 'pps', 'xml', 'ppt', 'csv', 'pptx', 'eps', 'txt', 'doc', 'pdf']\n",
      "2 ['ps', 'rtf']\n",
      "3 ['eps', 'sql', 'dwf']\n",
      "4 ['java', 'ps', 'doc', 'pptx']\n",
      "5 ['kmz', 'wp', 'ppt', 'gif', 'pptx']\n",
      "6 ['kmz', 'rtf', 'dbase3', 'txt', 'gif', 'hlp']\n",
      "7 ['pps', 'doc', 'txt', 'dwf', 'swf', 'html', 'xls']\n",
      "8 ['png', 'dwf', 'java', 'pdf', 'csv', 'html', 'swf', 'xml']\n",
      "9 ['wp', 'doc', 'gz', 'xls', 'pdf', 'ppt', 'pps', 'log', 'csv']\n",
      "10 ['rtf', 'png', 'gz', 'kml', 'xml', 'pps', 'txt', 'hlp', 'wp', 'dwf']\n",
      "11 ['rtf', 'ppt', 'java', 'gif', 'sql', 'eps', 'pptx', 'ps', 'pps', 'txt', 'csv']\n",
      "12 ['eps', 'rtf', 'pps', 'xls', 'gz', 'txt', 'gif', 'csv', 'log', 'hlp', 'jpg', 'ppt']\n",
      "13 ['png', 'ppt', 'jpg', 'sql', 'swf', 'kml', 'pptx', 'html', 'pdf', 'hlp', 'dbase3', 'rtf', 'gif']\n",
      "14 ['log', 'java', 'hlp', 'xls', 'gz', 'eps', 'pps', 'pptx', 'xml', 'html', 'rtf', 'jpg', 'ps', 'ppt']\n",
      "15 ['png', 'hlp', 'log', 'wp', 'eps', 'gif', 'csv', 'doc', 'kmz', 'f', 'dwf', 'pdf', 'rtf', 'xls', 'java']\n",
      "16 ['wp', 'rtf', 'ppt', 'xml', 'txt', 'doc', 'dwf', 'pptx', 'csv', 'f', 'xls', 'hlp', 'jpg', 'kmz', 'png', 'ps']\n",
      "17 ['f', 'pptx', 'dbase3', 'sql', 'xls', 'java', 'csv', 'swf', 'kmz', 'dwf', 'pps', 'pdf', 'kml', 'hlp', 'ppt', 'png', 'html']\n",
      "18 ['wp', 'pps', 'pptx', 'kml', 'sql', 'txt', 'ppt', 'csv', 'gz', 'gif', 'rtf', 'kmz', 'dwf', 'png', 'xls', 'doc', 'swf', 'pdf']\n",
      "19 ['hlp', 'gz', 'pdf', 'wp', 'dbase3', 'html', 'swf', 'kmz', 'pps', 'f', 'java', 'xls', 'csv', 'txt', 'gif', 'log', 'pptx', 'xml', 'rtf']\n",
      "20 ['gz', 'dbase3', 'log', 'sql', 'pps', 'gif', 'eps', 'html', 'pdf', 'ppt', 'wp', 'csv', 'swf', 'kmz', 'f', 'xls', 'jpg', 'doc', 'java', 'dwf']\n",
      "21 ['txt', 'png', 'gz', 'hlp', 'swf', 'jpg', 'gif', 'csv', 'pps', 'f', 'pdf', 'kmz', 'rtf', 'eps', 'java', 'sql', 'dwf', 'wp', 'log', 'xml', 'html']\n",
      "22 ['f', 'pdf', 'html', 'pps', 'dwf', 'eps', 'txt', 'wp', 'java', 'sql', 'kmz', 'kml', 'csv', 'ppt', 'dbase3', 'gif', 'log', 'rtf', 'swf', 'jpg', 'hlp', 'png']\n",
      "23 ['log', 'hlp', 'ppt', 'xml', 'kml', 'csv', 'gif', 'jpg', 'png', 'pdf', 'f', 'dwf', 'java', 'ps', 'kmz', 'xls', 'eps', 'dbase3', 'gz', 'pps', 'wp', 'pptx', 'html']\n",
      "24 ['wp', 'png', 'ps', 'eps', 'swf', 'jpg', 'doc', 'gz', 'log', 'html', 'sql', 'f', 'kml', 'dbase3', 'kmz', 'rtf', 'pdf', 'gif', 'csv', 'hlp', 'ppt', 'dwf', 'xml', 'pptx']\n",
      "25 ['pdf', 'kmz', 'eps', 'f', 'xls', 'gz', 'dwf', 'html', 'txt', 'swf', 'dbase3', 'log', 'jpg', 'csv', 'hlp', 'xml', 'pps', 'doc', 'pptx', 'rtf', 'ppt', 'java', 'sql', 'ps', 'kml']\n",
      "26 ['gif', 'kml', 'html', 'jpg', 'eps', 'f', 'wp', 'sql', 'pptx', 'png', 'dwf', 'swf', 'ps', 'gz', 'log', 'rtf', 'doc', 'pps', 'xml', 'kmz', 'csv', 'xls', 'txt', 'hlp', 'pdf', 'ppt']\n",
      "27 ['dbase3', 'wp', 'csv', 'pps', 'html', 'ps', 'kml', 'jpg', 'xls', 'gz', 'pdf', 'pptx', 'f', 'java', 'eps', 'kmz', 'swf', 'rtf', 'doc', 'gif', 'dwf', 'hlp', 'log', 'sql', 'ppt', 'xml', 'png']\n",
      "28 ['doc', 'jpg', 'png', 'gz', 'csv', 'kml', 'dbase3', 'xml', 'dwf', 'xls', 'f', 'pdf', 'txt', 'hlp', 'rtf', 'gif', 'pptx', 'swf', 'html', 'kmz', 'pps', 'java', 'wp', 'eps', 'log', 'sql', 'ps', 'ppt']\n",
      "2 ['png', 'xls']\n",
      "3 ['txt', 'hlp', 'png']\n",
      "4 ['jpg', 'png', 'java', 'wp']\n",
      "5 ['java', 'wp', 'doc', 'gz', 'ps']\n",
      "6 ['doc', 'rtf', 'swf', 'pptx', 'xml', 'kmz']\n",
      "7 ['rtf', 'txt', 'java', 'xml', 'dwf', 'png', 'f']\n",
      "8 ['png', 'pdf', 'pps', 'hlp', 'ps', 'jpg', 'gz', 'txt']\n",
      "9 ['doc', 'xml', 'ppt', 'gif', 'wp', 'f', 'csv', 'pps', 'dwf']\n",
      "10 ['pdf', 'jpg', 'eps', 'xml', 'csv', 'log', 'wp', 'dwf', 'xls', 'gz']\n",
      "11 ['txt', 'jpg', 'eps', 'log', 'swf', 'pps', 'xls', 'f', 'gz', 'kml', 'dwf']\n",
      "12 ['dbase3', 'log', 'sql', 'kmz', 'pdf', 'f', 'png', 'xls', 'gif', 'gz', 'pptx', 'eps']\n",
      "13 ['pps', 'hlp', 'f', 'kml', 'eps', 'csv', 'txt', 'gz', 'pdf', 'ppt', 'wp', 'xml', 'log']\n",
      "14 ['doc', 'ps', 'xml', 'wp', 'xls', 'log', 'rtf', 'pptx', 'swf', 'sql', 'kml', 'gif', 'pps', 'html']\n",
      "15 ['rtf', 'java', 'wp', 'gz', 'txt', 'jpg', 'swf', 'xml', 'hlp', 'ppt', 'dwf', 'pdf', 'ps', 'kmz', 'gif']\n",
      "16 ['java', 'pdf', 'html', 'eps', 'xml', 'gz', 'f', 'kml', 'rtf', 'hlp', 'pps', 'ppt', 'csv', 'xls', 'sql', 'gif']\n",
      "17 ['pptx', 'dwf', 'kmz', 'ps', 'java', 'kml', 'gif', 'gz', 'pdf', 'eps', 'xls', 'log', 'pps', 'ppt', 'hlp', 'doc', 'rtf']\n",
      "18 ['ps', 'pptx', 'csv', 'dwf', 'eps', 'gif', 'pdf', 'xls', 'html', 'dbase3', 'xml', 'hlp', 'log', 'rtf', 'pps', 'swf', 'f', 'kmz']\n",
      "19 ['gif', 'html', 'pps', 'ps', 'wp', 'xml', 'gz', 'doc', 'xls', 'pptx', 'f', 'csv', 'dbase3', 'kml', 'dwf', 'ppt', 'pdf', 'swf', 'kmz']\n",
      "20 ['xml', 'jpg', 'ps', 'gif', 'xls', 'html', 'log', 'rtf', 'hlp', 'kml', 'pdf', 'png', 'dbase3', 'f', 'dwf', 'doc', 'pps', 'pptx', 'swf', 'java']\n",
      "21 ['java', 'gif', 'jpg', 'kml', 'xls', 'dbase3', 'swf', 'ps', 'dwf', 'wp', 'png', 'xml', 'pptx', 'sql', 'rtf', 'eps', 'log', 'txt', 'pdf', 'pps', 'ppt']\n",
      "22 ['kml', 'wp', 'hlp', 'ppt', 'sql', 'f', 'ps', 'doc', 'kmz', 'dwf', 'gz', 'txt', 'eps', 'rtf', 'png', 'java', 'gif', 'csv', 'xls', 'jpg', 'pps', 'html']\n",
      "23 ['jpg', 'kml', 'log', 'ps', 'swf', 'png', 'dbase3', 'eps', 'kmz', 'xml', 'pps', 'wp', 'f', 'dwf', 'txt', 'csv', 'pptx', 'xls', 'sql', 'doc', 'hlp', 'ppt', 'pdf']\n"
     ]
    },
    {
     "name": "stdout",
     "output_type": "stream",
     "text": [
      "24 ['csv', 'ps', 'pdf', 'gif', 'wp', 'hlp', 'sql', 'f', 'log', 'java', 'jpg', 'swf', 'gz', 'kmz', 'pptx', 'xls', 'xml', 'pps', 'doc', 'html', 'kml', 'ppt', 'eps', 'txt']\n",
      "25 ['gif', 'ps', 'dwf', 'csv', 'eps', 'log', 'sql', 'gz', 'doc', 'swf', 'kml', 'f', 'pps', 'xml', 'pdf', 'rtf', 'txt', 'jpg', 'xls', 'wp', 'java', 'dbase3', 'html', 'ppt', 'pptx']\n",
      "26 ['jpg', 'wp', 'ps', 'gif', 'kmz', 'pptx', 'sql', 'xml', 'java', 'gz', 'pps', 'hlp', 'dbase3', 'doc', 'html', 'ppt', 'xls', 'txt', 'pdf', 'log', 'f', 'rtf', 'dwf', 'csv', 'swf', 'eps']\n",
      "27 ['f', 'ppt', 'html', 'sql', 'xml', 'doc', 'log', 'ps', 'java', 'csv', 'gif', 'jpg', 'txt', 'kmz', 'rtf', 'png', 'dwf', 'swf', 'dbase3', 'wp', 'gz', 'eps', 'pptx', 'hlp', 'pps', 'kml', 'pdf']\n",
      "28 ['jpg', 'rtf', 'log', 'hlp', 'ppt', 'gz', 'sql', 'f', 'wp', 'java', 'txt', 'doc', 'pptx', 'xml', 'html', 'swf', 'csv', 'dbase3', 'xls', 'eps', 'kmz', 'ps', 'dwf', 'gif', 'pdf', 'kml', 'pps', 'png']\n",
      "2 ['html', 'gif']\n",
      "3 ['log', 'dwf', 'gz']\n",
      "4 ['kmz', 'dwf', 'pps', 'doc']\n",
      "5 ['kmz', 'png', 'wp', 'eps', 'csv']\n",
      "6 ['ppt', 'jpg', 'hlp', 'kml', 'rtf', 'html']\n",
      "7 ['csv', 'txt', 'sql', 'png', 'xls', 'ppt', 'wp']\n",
      "8 ['swf', 'wp', 'dbase3', 'log', 'png', 'hlp', 'kmz', 'gz']\n",
      "9 ['hlp', 'pdf', 'txt', 'wp', 'kmz', 'gif', 'dbase3', 'eps', 'gz']\n",
      "10 ['jpg', 'pps', 'kmz', 'rtf', 'sql', 'f', 'kml', 'csv', 'pptx', 'hlp']\n",
      "11 ['txt', 'pdf', 'xls', 'png', 'xml', 'jpg', 'f', 'gz', 'kmz', 'ppt', 'hlp']\n",
      "12 ['ppt', 'xls', 'png', 'gz', 'wp', 'xml', 'txt', 'f', 'ps', 'hlp', 'doc', 'eps']\n",
      "13 ['log', 'java', 'pptx', 'html', 'txt', 'xls', 'pps', 'eps', 'ps', 'rtf', 'dbase3', 'dwf', 'doc']\n",
      "14 ['sql', 'pptx', 'ppt', 'f', 'ps', 'xml', 'png', 'pdf', 'doc', 'dbase3', 'html', 'log', 'swf', 'gz']\n",
      "15 ['pdf', 'kmz', 'swf', 'eps', 'jpg', 'doc', 'kml', 'rtf', 'f', 'xml', 'dwf', 'pptx', 'gif', 'pps', 'hlp']\n",
      "16 ['sql', 'gif', 'rtf', 'csv', 'gz', 'xml', 'eps', 'html', 'swf', 'java', 'pptx', 'wp', 'jpg', 'txt', 'ppt', 'dwf']\n",
      "17 ['jpg', 'pps', 'dbase3', 'wp', 'java', 'sql', 'gz', 'swf', 'kml', 'log', 'pptx', 'f', 'csv', 'html', 'ppt', 'pdf', 'png']\n",
      "18 ['csv', 'hlp', 'gif', 'eps', 'ppt', 'doc', 'dwf', 'jpg', 'f', 'wp', 'html', 'png', 'rtf', 'pps', 'txt', 'swf', 'kml', 'pptx']\n",
      "19 ['gif', 'log', 'xls', 'ps', 'pdf', 'pptx', 'png', 'f', 'sql', 'csv', 'java', 'jpg', 'rtf', 'eps', 'gz', 'pps', 'dbase3', 'dwf', 'kml']\n",
      "20 ['swf', 'ppt', 'pdf', 'sql', 'kml', 'xls', 'doc', 'gz', 'jpg', 'log', 'pps', 'gif', 'dwf', 'java', 'dbase3', 'kmz', 'xml', 'eps', 'ps', 'csv']\n",
      "21 ['wp', 'ppt', 'jpg', 'pdf', 'java', 'dwf', 'html', 'rtf', 'kmz', 'swf', 'kml', 'dbase3', 'hlp', 'gz', 'gif', 'xml', 'png', 'csv', 'sql', 'pptx', 'pps']\n",
      "22 ['dwf', 'csv', 'gif', 'dbase3', 'pdf', 'jpg', 'kmz', 'doc', 'wp', 'xls', 'ppt', 'html', 'sql', 'pptx', 'swf', 'gz', 'kml', 'ps', 'java', 'f', 'hlp', 'pps']\n",
      "23 ['log', 'eps', 'txt', 'f', 'rtf', 'gif', 'wp', 'doc', 'csv', 'dbase3', 'sql', 'png', 'kml', 'pptx', 'gz', 'java', 'xls', 'swf', 'kmz', 'jpg', 'pdf', 'dwf', 'html']\n",
      "24 ['ppt', 'swf', 'txt', 'kmz', 'pps', 'dwf', 'kml', 'eps', 'csv', 'pdf', 'png', 'html', 'f', 'pptx', 'xml', 'xls', 'sql', 'doc', 'dbase3', 'java', 'hlp', 'ps', 'gif', 'rtf']\n",
      "25 ['jpg', 'gif', 'csv', 'pps', 'html', 'xml', 'xls', 'rtf', 'sql', 'kml', 'txt', 'f', 'dwf', 'doc', 'wp', 'log', 'swf', 'eps', 'hlp', 'dbase3', 'ps', 'kmz', 'ppt', 'java', 'pdf']\n",
      "26 ['png', 'doc', 'txt', 'jpg', 'java', 'f', 'sql', 'rtf', 'hlp', 'pps', 'ppt', 'pptx', 'dwf', 'log', 'gz', 'eps', 'csv', 'dbase3', 'xml', 'gif', 'xls', 'html', 'pdf', 'wp', 'kml', 'swf']\n",
      "27 ['java', 'kml', 'kmz', 'xml', 'log', 'ps', 'wp', 'xls', 'png', 'csv', 'pdf', 'gif', 'doc', 'dwf', 'eps', 'pps', 'rtf', 'jpg', 'swf', 'ppt', 'f', 'html', 'gz', 'pptx', 'dbase3', 'hlp', 'txt']\n",
      "28 ['pptx', 'gz', 'f', 'ppt', 'eps', 'doc', 'ps', 'xls', 'swf', 'rtf', 'wp', 'dbase3', 'pdf', 'txt', 'log', 'pps', 'jpg', 'java', 'hlp', 'dwf', 'xml', 'html', 'gif', 'csv', 'kml', 'png', 'kmz', 'sql']\n",
      "2 ['xml', 'hlp']\n",
      "3 ['java', 'log', 'dbase3']\n",
      "4 ['rtf', 'ps', 'kmz', 'sql']\n",
      "5 ['txt', 'xml', 'html', 'dbase3', 'png']\n",
      "6 ['png', 'log', 'swf', 'pptx', 'eps', 'wp']\n",
      "7 ['rtf', 'wp', 'dbase3', 'html', 'f', 'kmz', 'txt']\n",
      "8 ['jpg', 'hlp', 'gz', 'html', 'kmz', 'swf', 'sql', 'dbase3']\n",
      "9 ['wp', 'pps', 'f', 'hlp', 'txt', 'xls', 'gif', 'png', 'html']\n",
      "10 ['xls', 'sql', 'csv', 'rtf', 'hlp', 'ppt', 'java', 'xml', 'html', 'txt']\n",
      "11 ['swf', 'java', 'ppt', 'xls', 'hlp', 'pps', 'log', 'rtf', 'csv', 'kmz', 'html']\n",
      "12 ['dwf', 'java', 'kmz', 'pdf', 'ps', 'pptx', 'hlp', 'xml', 'html', 'log', 'wp', 'gz']\n",
      "13 ['doc', 'txt', 'f', 'jpg', 'kml', 'kmz', 'java', 'png', 'wp', 'swf', 'ps', 'log', 'pps']\n",
      "14 ['sql', 'pdf', 'pps', 'log', 'doc', 'html', 'java', 'swf', 'dbase3', 'kmz', 'ps', 'csv', 'txt', 'pptx']\n",
      "15 ['ppt', 'gz', 'kml', 'wp', 'kmz', 'csv', 'xml', 'f', 'html', 'txt', 'hlp', 'java', 'dwf', 'eps', 'jpg']\n",
      "16 ['html', 'pps', 'txt', 'gz', 'dwf', 'kmz', 'ppt', 'xml', 'kml', 'wp', 'hlp', 'xls', 'doc', 'eps', 'jpg', 'gif']\n",
      "17 ['sql', 'swf', 'rtf', 'txt', 'f', 'ps', 'gz', 'html', 'wp', 'jpg', 'csv', 'pps', 'kml', 'gif', 'kmz', 'xml', 'pdf']\n",
      "18 ['f', 'txt', 'java', 'sql', 'hlp', 'swf', 'gif', 'dwf', 'xls', 'wp', 'log', 'dbase3', 'pps', 'rtf', 'png', 'jpg', 'pdf', 'xml']\n",
      "19 ['wp', 'eps', 'pps', 'java', 'xls', 'txt', 'hlp', 'log', 'dwf', 'kmz', 'pdf', 'pptx', 'kml', 'sql', 'f', 'html', 'ps', 'rtf', 'dbase3']\n",
      "20 ['dbase3', 'java', 'html', 'rtf', 'dwf', 'xls', 'gif', 'pdf', 'png', 'ps', 'gz', 'kmz', 'doc', 'log', 'swf', 'sql', 'pptx', 'kml', 'hlp', 'txt']\n",
      "21 ['kml', 'kmz', 'f', 'eps', 'ppt', 'gif', 'rtf', 'xml', 'png', 'hlp', 'pptx', 'xls', 'pdf', 'java', 'wp', 'txt', 'csv', 'dwf', 'sql', 'pps', 'jpg']\n",
      "22 ['swf', 'rtf', 'jpg', 'xml', 'ppt', 'pps', 'pdf', 'java', 'gif', 'doc', 'f', 'html', 'kml', 'wp', 'dwf', 'kmz', 'xls', 'sql', 'pptx', 'png', 'ps', 'hlp']\n",
      "23 ['kml', 'swf', 'hlp', 'f', 'xls', 'dbase3', 'rtf', 'csv', 'pdf', 'wp', 'ps', 'html', 'dwf', 'gz', 'log', 'sql', 'doc', 'gif', 'txt', 'java', 'jpg', 'xml', 'eps']\n",
      "24 ['xml', 'dbase3', 'java', 'hlp', 'ppt', 'sql', 'png', 'pdf', 'ps', 'rtf', 'f', 'doc', 'gz', 'pps', 'kml', 'kmz', 'html', 'wp', 'dwf', 'xls', 'txt', 'pptx', 'eps', 'jpg']\n",
      "25 ['dbase3', 'gif', 'ps', 'pptx', 'hlp', 'kmz', 'f', 'csv', 'txt', 'log', 'wp', 'sql', 'rtf', 'kml', 'ppt', 'gz', 'xml', 'doc', 'jpg', 'dwf', 'pdf', 'java', 'pps', 'eps', 'html']\n",
      "26 ['kmz', 'sql', 'gz', 'doc', 'hlp', 'ps', 'html', 'swf', 'java', 'jpg', 'xls', 'pps', 'ppt', 'txt', 'csv', 'dbase3', 'dwf', 'png', 'log', 'rtf', 'kml', 'eps', 'pptx', 'f', 'xml', 'pdf']\n",
      "27 ['sql', 'xls', 'png', 'doc', 'xml', 'jpg', 'swf', 'hlp', 'log', 'pps', 'gz', 'dwf', 'kmz', 'java', 'txt', 'rtf', 'ppt', 'pptx', 'pdf', 'kml', 'ps', 'html', 'gif', 'f', 'dbase3', 'csv', 'wp']\n",
      "28 ['txt', 'rtf', 'pdf', 'ps', 'wp', 'pptx', 'gz', 'log', 'f', 'dbase3', 'hlp', 'csv', 'gif', 'java', 'ppt', 'pps', 'swf', 'dwf', 'doc', 'jpg', 'kmz', 'png', 'html', 'kml', 'xls', 'xml', 'eps', 'sql']\n"
     ]
    }
   ],
   "source": [
    "r = report.Reporter2(result_dir + '/nclasses.tsv')\n",
    "train_nclasses(rawset, r, 5)\n",
    "r.close()"
   ]
  },
  {
   "cell_type": "markdown",
   "metadata": {},
   "source": [
    "# Load data"
   ]
  },
  {
   "cell_type": "code",
   "execution_count": 9,
   "metadata": {},
   "outputs": [
    {
     "data": {
      "text/html": [
       "<div>\n",
       "<style scoped>\n",
       "    .dataframe tbody tr th:only-of-type {\n",
       "        vertical-align: middle;\n",
       "    }\n",
       "\n",
       "    .dataframe tbody tr th {\n",
       "        vertical-align: top;\n",
       "    }\n",
       "\n",
       "    .dataframe thead th {\n",
       "        text-align: right;\n",
       "    }\n",
       "</style>\n",
       "<table border=\"1\" class=\"dataframe\">\n",
       "  <thead>\n",
       "    <tr style=\"text-align: right;\">\n",
       "      <th></th>\n",
       "      <th>n</th>\n",
       "      <th>cats</th>\n",
       "      <th>val_categorical_accuracy</th>\n",
       "    </tr>\n",
       "  </thead>\n",
       "  <tbody>\n",
       "    <tr>\n",
       "      <td>0</td>\n",
       "      <td>2</td>\n",
       "      <td>kmz,xml</td>\n",
       "      <td>0.990000</td>\n",
       "    </tr>\n",
       "    <tr>\n",
       "      <td>1</td>\n",
       "      <td>3</td>\n",
       "      <td>csv,gz,dbase3</td>\n",
       "      <td>0.948333</td>\n",
       "    </tr>\n",
       "    <tr>\n",
       "      <td>2</td>\n",
       "      <td>4</td>\n",
       "      <td>html,pdf,kml,wp</td>\n",
       "      <td>0.888750</td>\n",
       "    </tr>\n",
       "    <tr>\n",
       "      <td>3</td>\n",
       "      <td>5</td>\n",
       "      <td>hlp,jpg,gif,kmz,log</td>\n",
       "      <td>0.718000</td>\n",
       "    </tr>\n",
       "    <tr>\n",
       "      <td>4</td>\n",
       "      <td>6</td>\n",
       "      <td>pps,wp,jpg,doc,xml,pptx</td>\n",
       "      <td>0.592500</td>\n",
       "    </tr>\n",
       "    <tr>\n",
       "      <td>...</td>\n",
       "      <td>...</td>\n",
       "      <td>...</td>\n",
       "      <td>...</td>\n",
       "    </tr>\n",
       "    <tr>\n",
       "      <td>130</td>\n",
       "      <td>24</td>\n",
       "      <td>xml,dbase3,java,hlp,ppt,sql,png,pdf,ps,rtf,f,d...</td>\n",
       "      <td>0.462708</td>\n",
       "    </tr>\n",
       "    <tr>\n",
       "      <td>131</td>\n",
       "      <td>25</td>\n",
       "      <td>dbase3,gif,ps,pptx,hlp,kmz,f,csv,txt,log,wp,sq...</td>\n",
       "      <td>0.471000</td>\n",
       "    </tr>\n",
       "    <tr>\n",
       "      <td>132</td>\n",
       "      <td>26</td>\n",
       "      <td>kmz,sql,gz,doc,hlp,ps,html,swf,java,jpg,xls,pp...</td>\n",
       "      <td>0.455192</td>\n",
       "    </tr>\n",
       "    <tr>\n",
       "      <td>133</td>\n",
       "      <td>27</td>\n",
       "      <td>sql,xls,png,doc,xml,jpg,swf,hlp,log,pps,gz,dwf...</td>\n",
       "      <td>0.472963</td>\n",
       "    </tr>\n",
       "    <tr>\n",
       "      <td>134</td>\n",
       "      <td>28</td>\n",
       "      <td>txt,rtf,pdf,ps,wp,pptx,gz,log,f,dbase3,hlp,csv...</td>\n",
       "      <td>0.431964</td>\n",
       "    </tr>\n",
       "  </tbody>\n",
       "</table>\n",
       "<p>135 rows × 3 columns</p>\n",
       "</div>"
      ],
      "text/plain": [
       "      n                                               cats  \\\n",
       "0     2                                            kmz,xml   \n",
       "1     3                                      csv,gz,dbase3   \n",
       "2     4                                    html,pdf,kml,wp   \n",
       "3     5                                hlp,jpg,gif,kmz,log   \n",
       "4     6                            pps,wp,jpg,doc,xml,pptx   \n",
       "..   ..                                                ...   \n",
       "130  24  xml,dbase3,java,hlp,ppt,sql,png,pdf,ps,rtf,f,d...   \n",
       "131  25  dbase3,gif,ps,pptx,hlp,kmz,f,csv,txt,log,wp,sq...   \n",
       "132  26  kmz,sql,gz,doc,hlp,ps,html,swf,java,jpg,xls,pp...   \n",
       "133  27  sql,xls,png,doc,xml,jpg,swf,hlp,log,pps,gz,dwf...   \n",
       "134  28  txt,rtf,pdf,ps,wp,pptx,gz,log,f,dbase3,hlp,csv...   \n",
       "\n",
       "     val_categorical_accuracy  \n",
       "0                    0.990000  \n",
       "1                    0.948333  \n",
       "2                    0.888750  \n",
       "3                    0.718000  \n",
       "4                    0.592500  \n",
       "..                        ...  \n",
       "130                  0.462708  \n",
       "131                  0.471000  \n",
       "132                  0.455192  \n",
       "133                  0.472963  \n",
       "134                  0.431964  \n",
       "\n",
       "[135 rows x 3 columns]"
      ]
     },
     "execution_count": 9,
     "metadata": {},
     "output_type": "execute_result"
    }
   ],
   "source": [
    "data = pd.read_csv(result_dir + '/nclasses.tsv', sep='\\t')\n",
    "data"
   ]
  },
  {
   "cell_type": "code",
   "execution_count": 10,
   "metadata": {},
   "outputs": [],
   "source": [
    "from matplotlib.ticker import MultipleLocator\n",
    "def plot_acc(xs, ys, labels=None, loc='upper right', alpha_on=None):\n",
    "    fig = plt.figure(figsize=(12,8))\n",
    "#     fig.yaxis.set_minor_locator()\n",
    "    if labels is None:\n",
    "        labels = [None for x in xs]\n",
    "    for x, y, label, mark in zip(xs, ys, labels, ['bx', 'g-', 'r*', '.mD']):\n",
    "        plt.plot(x[x==alpha_on], y[x==alpha_on], mark, alpha=0.1, label='')\n",
    "        plt.plot(x[x!=alpha_on], y[x!=alpha_on], mark, label=label)\n",
    "    ax1 = plt.gca()\n",
    "    plt.ylabel('accuracy', fontsize=16)\n",
    "    plt.xlabel('number of classes', fontsize=16)\n",
    "    plt.xlim((-0, 31))\n",
    "    plt.ylim((-0, 1))\n",
    "    ax1.xaxis.set_major_locator(MultipleLocator(5))\n",
    "    ax1.xaxis.set_minor_locator(MultipleLocator(1))\n",
    "    ax1.yaxis.set_major_locator(MultipleLocator(0.1))\n",
    "    ax1.yaxis.set_minor_locator(MultipleLocator(0.05))\n",
    "    plt.grid(linestyle='-', color='k', which='major')\n",
    "    plt.grid(linestyle='--', which='minor')\n",
    "    for tick in ax1.xaxis.get_major_ticks():\n",
    "        tick.label.set_fontsize(16) \n",
    "    for tick in ax1.yaxis.get_major_ticks():\n",
    "        tick.label.set_fontsize(16) \n",
    "    plt.legend(loc=loc, prop={'size': 16})\n",
    "#     plt.savefig('acc.png')"
   ]
  },
  {
   "cell_type": "code",
   "execution_count": 11,
   "metadata": {},
   "outputs": [
    {
     "data": {
      "image/png": "[encoded data removed]",
      "text/plain": [
       "<Figure size 864x576 with 1 Axes>"
      ]
     },
     "metadata": {},
     "output_type": "display_data"
    }
   ],
   "source": [
    "x = np.arange(2,30,0.01)\n",
    "y = 1/x\n",
    "plot_acc([data['n'], x], [data['val_categorical_accuracy'], y], ['models trained with many classes', 'random chance'])"
   ]
  }
 ],
 "metadata": {
  "kernelspec": {
   "display_name": "Python 3",
   "language": "python",
   "name": "python3"
  },
  "language_info": {
   "codemirror_mode": {
    "name": "ipython",
    "version": 3
   },
   "file_extension": ".py",
   "mimetype": "text/x-python",
   "name": "python",
   "nbconvert_exporter": "python",
   "pygments_lexer": "ipython3",
   "version": "3.6.6"
  }
 },
 "nbformat": 4,
 "nbformat_minor": 2
}
