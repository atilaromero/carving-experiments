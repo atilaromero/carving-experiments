{
 "cells": [
  {
   "cell_type": "markdown",
   "metadata": {},
   "source": [
    "# 4.2b - Compare all pairs of classes. How easy is to distinguish between them?"
   ]
  },
  {
   "cell_type": "code",
   "execution_count": 1,
   "metadata": {},
   "outputs": [
    {
     "name": "stderr",
     "output_type": "stream",
     "text": [
      "/home/atila.alr/.local/lib/python3.6/site-packages/tensorflow/python/framework/dtypes.py:516: FutureWarning: Passing (type, 1) or '1type' as a synonym of type is deprecated; in a future version of numpy, it will be understood as (type, (1,)) / '(1,)type'.\n",
      "  _np_qint8 = np.dtype([(\"qint8\", np.int8, 1)])\n",
      "/home/atila.alr/.local/lib/python3.6/site-packages/tensorflow/python/framework/dtypes.py:517: FutureWarning: Passing (type, 1) or '1type' as a synonym of type is deprecated; in a future version of numpy, it will be understood as (type, (1,)) / '(1,)type'.\n",
      "  _np_quint8 = np.dtype([(\"quint8\", np.uint8, 1)])\n",
      "/home/atila.alr/.local/lib/python3.6/site-packages/tensorflow/python/framework/dtypes.py:518: FutureWarning: Passing (type, 1) or '1type' as a synonym of type is deprecated; in a future version of numpy, it will be understood as (type, (1,)) / '(1,)type'.\n",
      "  _np_qint16 = np.dtype([(\"qint16\", np.int16, 1)])\n",
      "/home/atila.alr/.local/lib/python3.6/site-packages/tensorflow/python/framework/dtypes.py:519: FutureWarning: Passing (type, 1) or '1type' as a synonym of type is deprecated; in a future version of numpy, it will be understood as (type, (1,)) / '(1,)type'.\n",
      "  _np_quint16 = np.dtype([(\"quint16\", np.uint16, 1)])\n",
      "/home/atila.alr/.local/lib/python3.6/site-packages/tensorflow/python/framework/dtypes.py:520: FutureWarning: Passing (type, 1) or '1type' as a synonym of type is deprecated; in a future version of numpy, it will be understood as (type, (1,)) / '(1,)type'.\n",
      "  _np_qint32 = np.dtype([(\"qint32\", np.int32, 1)])\n",
      "/home/atila.alr/.local/lib/python3.6/site-packages/tensorflow/python/framework/dtypes.py:525: FutureWarning: Passing (type, 1) or '1type' as a synonym of type is deprecated; in a future version of numpy, it will be understood as (type, (1,)) / '(1,)type'.\n",
      "  np_resource = np.dtype([(\"resource\", np.ubyte, 1)])\n",
      "/home/atila.alr/.local/lib/python3.6/site-packages/tensorboard/compat/tensorflow_stub/dtypes.py:541: FutureWarning: Passing (type, 1) or '1type' as a synonym of type is deprecated; in a future version of numpy, it will be understood as (type, (1,)) / '(1,)type'.\n",
      "  _np_qint8 = np.dtype([(\"qint8\", np.int8, 1)])\n",
      "/home/atila.alr/.local/lib/python3.6/site-packages/tensorboard/compat/tensorflow_stub/dtypes.py:542: FutureWarning: Passing (type, 1) or '1type' as a synonym of type is deprecated; in a future version of numpy, it will be understood as (type, (1,)) / '(1,)type'.\n",
      "  _np_quint8 = np.dtype([(\"quint8\", np.uint8, 1)])\n",
      "/home/atila.alr/.local/lib/python3.6/site-packages/tensorboard/compat/tensorflow_stub/dtypes.py:543: FutureWarning: Passing (type, 1) or '1type' as a synonym of type is deprecated; in a future version of numpy, it will be understood as (type, (1,)) / '(1,)type'.\n",
      "  _np_qint16 = np.dtype([(\"qint16\", np.int16, 1)])\n",
      "/home/atila.alr/.local/lib/python3.6/site-packages/tensorboard/compat/tensorflow_stub/dtypes.py:544: FutureWarning: Passing (type, 1) or '1type' as a synonym of type is deprecated; in a future version of numpy, it will be understood as (type, (1,)) / '(1,)type'.\n",
      "  _np_quint16 = np.dtype([(\"quint16\", np.uint16, 1)])\n",
      "/home/atila.alr/.local/lib/python3.6/site-packages/tensorboard/compat/tensorflow_stub/dtypes.py:545: FutureWarning: Passing (type, 1) or '1type' as a synonym of type is deprecated; in a future version of numpy, it will be understood as (type, (1,)) / '(1,)type'.\n",
      "  _np_qint32 = np.dtype([(\"qint32\", np.int32, 1)])\n",
      "/home/atila.alr/.local/lib/python3.6/site-packages/tensorboard/compat/tensorflow_stub/dtypes.py:550: FutureWarning: Passing (type, 1) or '1type' as a synonym of type is deprecated; in a future version of numpy, it will be understood as (type, (1,)) / '(1,)type'.\n",
      "  np_resource = np.dtype([(\"resource\", np.ubyte, 1)])\n"
     ]
    }
   ],
   "source": [
    "import os\n",
    "import sys\n",
    "import datetime\n",
    "import tensorflow\n",
    "import numpy as np\n",
    "import pandas as pd\n",
    "import matplotlib.pyplot as plt\n",
    "from collections import OrderedDict\n",
    "\n",
    "import models\n",
    "import report\n",
    "import block_sampler\n",
    "import batch_encoder\n",
    "from dataset import Dataset\n",
    "from report import Reporter\n",
    "from trainer import Trainer\n",
    "from batch_encoder import Dataset\n",
    "from block_sampler import count_sectors, BlockSamplerByCategory, RandomSampler\n",
    "from batch_encoder import xs_encoder_8bits_11, BatchEncoder\n",
    "from filter_random import gen_rndchk_models, evaluate_rnd_model, filter_dataset\n",
    "\n",
    "import tensorflow as tf\n",
    "from tensorflow.keras.layers import Input, Conv1D, MaxPooling1D, LSTM, Dense, Activation, TimeDistributed, Flatten, Dot, Softmax, Lambda, RepeatVector, Multiply, Permute, Reshape, BatchNormalization"
   ]
  },
  {
   "cell_type": "code",
   "execution_count": 2,
   "metadata": {},
   "outputs": [],
   "source": [
    "raw_dataset_folder='govdocs1/sample200'\n",
    "minimum=200\n",
    "maximum=200\n",
    "result_dir = 'results/4.2b-pairs'\n",
    "os.makedirs(result_dir, exist_ok=True)"
   ]
  },
  {
   "cell_type": "code",
   "execution_count": 3,
   "metadata": {},
   "outputs": [],
   "source": [
    "rawset = Dataset.new_from_folders(raw_dataset_folder).filter_min_max(minimum, maximum)\n",
    "rawset = rawset.filter(lambda x: rawset.category_from(x) not in ['text', 'unk'])\n",
    "rawset.rebuild_categories()"
   ]
  },
  {
   "cell_type": "code",
   "execution_count": 4,
   "metadata": {},
   "outputs": [],
   "source": [
    "def CM(classes, len_byte_vector):\n",
    "    last = l0 = Input(shape=(512,len_byte_vector))\n",
    "    last = Conv1D(classes, (32,), strides=1)(last)\n",
    "    last = MaxPooling1D(pool_size=481, strides=1)(last)\n",
    "    last = Flatten()(last)\n",
    "    last = Activation('softmax')(last)\n",
    "    name = sys._getframe().f_code.co_name\n",
    "    model = tf.keras.Model([l0], last, name=name)\n",
    "    model.compile(loss=tf.keras.losses.categorical_crossentropy,\n",
    "        optimizer=tf.keras.optimizers.Adam(),\n",
    "        metrics=['binary_accuracy', 'categorical_accuracy'])\n",
    "    return model"
   ]
  },
  {
   "cell_type": "markdown",
   "metadata": {},
   "source": [
    "# Create models"
   ]
  },
  {
   "cell_type": "code",
   "execution_count": 5,
   "metadata": {},
   "outputs": [],
   "source": [
    "cats = rawset.categories\n",
    "tsets, vsets = rawset.rnd_split_fraction_by_category(0.5)\n",
    "tsets = tsets.by_category()\n",
    "vsets = vsets.by_category()"
   ]
  },
  {
   "cell_type": "code",
   "execution_count": null,
   "metadata": {},
   "outputs": [
    {
     "name": "stdout",
     "output_type": "stream",
     "text": [
      "csv dbase3\n",
      "WARNING:tensorflow:From /home/atila.alr/.local/lib/python3.6/site-packages/tensorflow/python/ops/init_ops.py:1251: calling VarianceScaling.__init__ (from tensorflow.python.ops.init_ops) with dtype is deprecated and will be removed in a future version.\n",
      "Instructions for updating:\n",
      "Call initializer instance with the dtype argument instead of passing it to the constructor\n",
      "1040.7059528827667 0.99785715\n",
      "csv doc\n",
      "1807.5884442329407 0.9892857\n",
      "csv dwf\n",
      "463.4997503757477 0.99857146\n",
      "csv eps\n",
      "1096.6623351573944 0.9967857\n",
      "csv f\n",
      "1840.1324837207794 0.97321427\n",
      "csv gif\n",
      "530.7885355949402 0.99857146\n",
      "csv gz\n",
      "544.7575821876526 1.0\n",
      "csv hlp\n",
      "1321.7435710430145 0.98285717\n",
      "csv html\n",
      "1095.6041548252106 0.9753571\n",
      "csv java\n",
      "1280.3371996879578 0.9917857\n",
      "csv jpg\n",
      "1003.9277517795563 0.99535716\n",
      "csv kml\n",
      "777.9098374843597 0.97321427\n",
      "csv kmz\n",
      "570.4467887878418 0.9992857\n",
      "csv log\n",
      "1655.3700983524323 0.9767857\n",
      "csv pdf\n",
      "1348.151804447174 0.99392855\n",
      "csv png\n",
      "656.4528510570526 0.99892855\n",
      "csv pps\n",
      "825.3880190849304 0.99785715\n",
      "csv ppt\n",
      "1302.834608078003 0.99285716\n",
      "csv pptx\n",
      "623.9143452644348 0.9982143\n",
      "csv ps\n",
      "1777.547687292099 0.99535716\n",
      "csv rtf\n",
      "1453.8349051475525 0.98785716\n",
      "csv sql\n",
      "1965.56968832016 0.99142855\n",
      "csv swf\n",
      "1170.3168585300446 0.9992857\n",
      "csv txt\n",
      "1146.039677143097 0.94142854\n",
      "csv wp\n",
      "1399.378333568573 0.98392856\n",
      "csv xls\n",
      "2954.9266352653503 0.9835714\n",
      "csv xml\n",
      "817.6714708805084 0.98\n",
      "dbase3 doc\n",
      "2120.439291000366 0.9925\n",
      "dbase3 dwf\n",
      "584.5298399925232 0.99964285\n",
      "dbase3 eps\n",
      "1342.2319085597992 0.99642855\n",
      "dbase3 f\n",
      "1545.5729370117188 0.9975\n",
      "dbase3 gif\n",
      "576.4187545776367 1.0\n",
      "dbase3 gz\n",
      "539.2190232276917 0.99964285\n",
      "dbase3 hlp\n",
      "1357.4073960781097 0.9957143\n",
      "dbase3 html\n",
      "1584.2762279510498 0.995\n",
      "dbase3 java\n",
      "833.2311131954193 0.9967857\n",
      "dbase3 jpg\n",
      "1102.7696299552917 0.9967857\n",
      "dbase3 kml\n",
      "1596.7563302516937 0.99035716\n",
      "dbase3 kmz\n",
      "494.6679108142853 0.99892855\n",
      "dbase3 log\n",
      "1761.4707336425781 0.9767857\n",
      "dbase3 pdf\n",
      "1142.533626317978 1.0\n",
      "dbase3 png\n",
      "629.8155751228333 0.99857146\n",
      "dbase3 pps\n",
      "639.6857748031616 0.99714285\n",
      "dbase3 ppt\n",
      "907.9441676139832 0.99392855\n",
      "dbase3 pptx\n",
      "941.105345249176 0.99642855\n",
      "dbase3 ps\n",
      "1476.594556093216 0.9982143\n",
      "dbase3 rtf\n",
      "1191.5907723903656 0.99857146\n",
      "dbase3 sql\n",
      "1838.51917552948 0.9875\n",
      "dbase3 swf\n",
      "599.333425283432 1.0\n",
      "dbase3 txt\n",
      "2091.3329906463623 0.9935714\n",
      "dbase3 wp\n",
      "1780.8304357528687 0.99464285\n",
      "dbase3 xls\n",
      "1744.5344166755676 0.99285716\n",
      "dbase3 xml\n",
      "1012.8504266738892 0.98464286\n",
      "doc dwf\n",
      "2565.5360929965973 0.93964285\n",
      "doc eps\n",
      "1663.0879752635956 0.9792857\n",
      "doc f\n",
      "1900.3474624156952 0.9703571\n",
      "doc gif\n",
      "2373.658967733383 0.9064286\n",
      "doc gz\n",
      "583.8939855098724 0.9332143\n",
      "doc hlp\n",
      "3284.298633337021 0.99464285\n",
      "doc html\n",
      "1384.5129477977753 0.98142856\n",
      "doc java\n",
      "1877.514051914215 0.99285716\n",
      "doc jpg\n",
      "638.8969655036926 0.91821426\n",
      "doc kml\n",
      "1348.2558929920197 0.9842857\n",
      "doc kmz\n",
      "2155.864467859268 0.92285717\n",
      "doc log\n",
      "1879.2317061424255 0.9760714\n",
      "doc pdf\n",
      "1352.0917041301727 0.92535716\n",
      "doc png\n",
      "1332.9953043460846 0.89928573\n",
      "doc pps\n",
      "1593.799639225006 0.88535714\n",
      "doc ppt\n",
      "1540.3176128864288 0.85142857\n",
      "doc pptx\n",
      "1582.597912311554 0.9257143\n",
      "doc ps\n",
      "1024.1758244037628 0.97964287\n",
      "doc rtf\n",
      "2022.2518181800842 0.98714286\n",
      "doc sql\n",
      "1570.2542581558228 0.9671429\n",
      "doc swf\n",
      "2293.429054260254 0.89464283\n",
      "doc txt\n",
      "2742.0917060375214 0.9785714\n",
      "doc wp\n",
      "2570.830169916153 0.96107143\n",
      "doc xls\n",
      "2516.978975057602 0.85785717\n",
      "doc xml\n",
      "1815.5271711349487 0.9746429\n",
      "dwf eps\n",
      "1226.316257238388 0.9671429\n",
      "dwf f\n",
      "673.9176530838013 0.99392855\n",
      "dwf gif\n",
      "1684.254498243332 0.68142855\n",
      "dwf gz\n",
      "2270.1865611076355 0.57535714\n",
      "dwf hlp\n",
      "671.5277750492096 0.99714285\n",
      "dwf html\n",
      "758.1035170555115 1.0\n",
      "dwf java\n",
      "819.4057602882385 0.9992857\n",
      "dwf jpg\n",
      "2585.9511682987213 0.9128571\n",
      "dwf kml\n",
      "869.449919462204 1.0\n",
      "dwf kmz\n",
      "1269.4015443325043 0.7082143\n",
      "dwf log\n",
      "782.5064969062805 0.99964285\n",
      "dwf pdf\n",
      "1738.124834060669 0.71428573\n",
      "dwf png\n",
      "2212.567901611328 0.5996429\n",
      "dwf pps\n",
      "2015.973704814911 0.7207143\n",
      "dwf ppt\n",
      "3912.752115726471 0.7292857\n",
      "dwf pptx\n",
      "1526.719098329544 0.6742857\n",
      "dwf ps\n",
      "1246.7970502376556 0.9892857\n",
      "dwf rtf\n",
      "1196.7565248012543 0.9982143\n",
      "dwf sql\n",
      "1137.4005227088928 1.0\n",
      "dwf swf\n",
      "1431.2721998691559 0.6317857\n",
      "dwf txt\n",
      "652.5193681716919 0.99464285\n",
      "dwf wp\n",
      "1053.3153748512268 0.9842857\n",
      "dwf xls\n",
      "1602.6065864562988 0.9810714\n",
      "dwf xml\n",
      "703.3377656936646 0.9982143\n",
      "eps f\n",
      "1746.0500209331512 0.97642857\n",
      "eps gif\n",
      "558.140655040741 0.9785714\n",
      "eps gz\n",
      "577.6271810531616 0.9792857\n",
      "eps hlp\n",
      "1395.8483726978302 0.99214286\n",
      "eps html\n",
      "3674.8693811893463 0.98\n",
      "eps java\n",
      "2965.643754720688 0.99464285\n",
      "eps jpg\n",
      "1900.4820890426636 0.9767857\n",
      "eps kml\n"
     ]
    }
   ],
   "source": [
    "if os.path.exists(result_dir + \"/2classes.tsv\"):\n",
    "    os.remove(result_dir + \"/2classes.tsv\")\n",
    "r = report.Reporter2(result_dir + '/2classes.tsv')\n",
    "for i in range(len(cats)):\n",
    "    for j in range(i+1, len(cats)):\n",
    "        print(cats[i], cats[j])\n",
    "        mycats = [cats[i], cats[j]]\n",
    "        myset = rawset.filter(lambda x: rawset.category_from(x) in mycats)\n",
    "        myset.rebuild_categories()\n",
    "        tset, vset = myset.rnd_split_fraction_by_category(0.5)\n",
    "\n",
    "        model = CM(2, 256)\n",
    "        result = Trainer(\n",
    "            model,\n",
    "            xs_encoder='one_hot',\n",
    "            batch_size=100,\n",
    "            steps_per_epoch=28,\n",
    "            validation_steps=28,\n",
    "            patience=10,\n",
    "        ).train(tset, vset)\n",
    "        h5_path = os.path.join(result_dir, '%s_%s.h5' % (cats[i], cats[j]))\n",
    "        model.save(h5_path)\n",
    "        print(result.elapsed, result.history.history['val_categorical_accuracy'][-1])\n",
    "        r.line(cat1=cats[i],\n",
    "               cat2=cats[j],\n",
    "               elapsed=result.elapsed,\n",
    "               **report.report_epochs(**result._asdict()),\n",
    "               **report.report_metrics(**result._asdict()),\n",
    "              )\n",
    "r.close()"
   ]
  },
  {
   "cell_type": "markdown",
   "metadata": {},
   "source": [
    "# Load results"
   ]
  },
  {
   "cell_type": "code",
   "execution_count": null,
   "metadata": {},
   "outputs": [],
   "source": [
    "data = pd.read_csv(result_dir + '/2classes.tsv', sep='\\t')\n",
    "data"
   ]
  },
  {
   "cell_type": "code",
   "execution_count": null,
   "metadata": {},
   "outputs": [],
   "source": [
    "data = data.sort_values(['val_categorical_accuracy'])\n",
    "data[data['val_categorical_accuracy'] < 0.7]"
   ]
  },
  {
   "cell_type": "code",
   "execution_count": null,
   "metadata": {},
   "outputs": [],
   "source": [
    "data2 = data.apply(\n",
    "    lambda x: pd.Series(\n",
    "        [\n",
    "            rawset.cat_to_ix[x.cat1],\n",
    "            rawset.cat_to_ix[x.cat2], \n",
    "            x.val_categorical_accuracy\n",
    "        ], index=['cat1', 'cat2', 'val_acc'])\n",
    "    , axis=1)\n",
    "data2"
   ]
  },
  {
   "cell_type": "code",
   "execution_count": null,
   "metadata": {},
   "outputs": [],
   "source": [
    "cat_acc = {}\n",
    "for i, d in data.iterrows():\n",
    "    cat1 = d['cat1']\n",
    "    cat2 = d['cat2']\n",
    "    cat_acc[cat1] = cat_acc.get(cat1, list())\n",
    "    cat_acc[cat2] = cat_acc.get(cat2, list())\n",
    "    cat_acc[cat1].append(d['val_categorical_accuracy'])\n",
    "    cat_acc[cat2].append(d['val_categorical_accuracy'])    "
   ]
  },
  {
   "cell_type": "code",
   "execution_count": null,
   "metadata": {},
   "outputs": [],
   "source": [
    "from matplotlib.ticker import MultipleLocator\n",
    "loc='upper right'\n",
    "fig = plt.figure(figsize=(12,8))\n",
    "for k, v in cat_acc.items():\n",
    "    plt.plot(*zip(*[(k, x) for x in v]), 'x')\n",
    "plt.ylabel('accuracy', fontsize=16)\n",
    "plt.xlabel('classes', fontsize=16)\n",
    "plt.xlim((-1, 31))\n",
    "plt.ylim((-0, 1))\n",
    "ax1 = plt.gca()\n",
    "# ax1.xaxis.set_major_locator(MultipleLocator(5))\n",
    "ax1.xaxis.set_minor_locator(MultipleLocator(1))\n",
    "ax1.yaxis.set_major_locator(MultipleLocator(0.1))\n",
    "ax1.yaxis.set_minor_locator(MultipleLocator(0.05))\n",
    "plt.grid(linestyle='-', color='k', which='major')\n",
    "plt.grid(linestyle='--', which='minor')\n",
    "for tick in ax1.xaxis.get_major_ticks():\n",
    "    tick.label.set_fontsize(16) \n",
    "for tick in ax1.yaxis.get_major_ticks():\n",
    "    tick.label.set_fontsize(16) \n",
    "plt.legend(loc=loc, prop={'size': 16})\n",
    "plt.xticks(rotation=90)\n",
    "#     plt.savefig('acc.png')\n",
    "plt.show()    "
   ]
  },
  {
   "cell_type": "code",
   "execution_count": null,
   "metadata": {},
   "outputs": [],
   "source": [
    "data.min()"
   ]
  },
  {
   "cell_type": "code",
   "execution_count": null,
   "metadata": {},
   "outputs": [],
   "source": [
    "with open(result_dir + '/nclasses.tsv', 'w') as f:\n",
    "    f.write('n\\tcats\\tval_categorical_accuracy\\n')\n",
    "    for i, x in data.iterrows():\n",
    "        s = '2\\t{}\\t{}\\n'.format(x.cat1+','+x.cat2,x.val_categorical_accuracy)\n",
    "        f.write(s)"
   ]
  },
  {
   "cell_type": "markdown",
   "metadata": {},
   "source": [
    "# Add pairs of classes to graph 4.2a"
   ]
  },
  {
   "cell_type": "code",
   "execution_count": null,
   "metadata": {},
   "outputs": [],
   "source": [
    "from matplotlib.ticker import MultipleLocator\n",
    "def plot_acc(xs, ys, labels=None, loc='upper right', alpha_on=None):\n",
    "    fig = plt.figure(figsize=(12,8))\n",
    "#     fig.yaxis.set_minor_locator()\n",
    "    if labels is None:\n",
    "        labels = [None for x in xs]\n",
    "    for x, y, label, mark in zip(xs, ys, labels, ['bx', 'g-', 'r*', '.mD']):\n",
    "        plt.plot(x[x==alpha_on], y[x==alpha_on], mark, alpha=0.1, label='')\n",
    "        plt.plot(x[x!=alpha_on], y[x!=alpha_on], mark, label=label)\n",
    "    ax1 = plt.gca()\n",
    "    plt.ylabel('accuracy', fontsize=16)\n",
    "    plt.xlabel('number of classes', fontsize=16)\n",
    "    plt.xlim((-0, 31))\n",
    "    plt.ylim((-0, 1))\n",
    "    ax1.xaxis.set_major_locator(MultipleLocator(5))\n",
    "    ax1.xaxis.set_minor_locator(MultipleLocator(1))\n",
    "    ax1.yaxis.set_major_locator(MultipleLocator(0.1))\n",
    "    ax1.yaxis.set_minor_locator(MultipleLocator(0.05))\n",
    "    plt.grid(linestyle='-', color='k', which='major')\n",
    "    plt.grid(linestyle='--', which='minor')\n",
    "    for tick in ax1.xaxis.get_major_ticks():\n",
    "        tick.label.set_fontsize(16) \n",
    "    for tick in ax1.yaxis.get_major_ticks():\n",
    "        tick.label.set_fontsize(16) \n",
    "    plt.legend(loc=loc, prop={'size': 16})\n",
    "#     plt.savefig('acc.png')"
   ]
  },
  {
   "cell_type": "code",
   "execution_count": null,
   "metadata": {},
   "outputs": [],
   "source": [
    "data42a = pd.read_csv('results/4.2a-nclasses/nclasses.tsv', sep='\\t')\n",
    "data42b = pd.read_csv('results/4.2b-pairs/nclasses.tsv', sep='\\t')\n",
    "mdata = pd.concat([data42a, data42b])"
   ]
  },
  {
   "cell_type": "code",
   "execution_count": null,
   "metadata": {},
   "outputs": [],
   "source": [
    "x = np.arange(2,30,0.01)\n",
    "y = 1/x\n",
    "plot_acc([data42a['n'], x], [data42a['val_categorical_accuracy'], y], ['models trained with many classes', 'random chance'])\n",
    "plt.plot(data42b['n'], data42b['val_categorical_accuracy'], 'r+', alpha=0.2, label='models trained with 2 classes')\n",
    "plt.legend(loc='upper right', prop={'size': 16})"
   ]
  },
  {
   "cell_type": "markdown",
   "metadata": {},
   "source": [
    "# PCA"
   ]
  },
  {
   "cell_type": "code",
   "execution_count": null,
   "metadata": {},
   "outputs": [],
   "source": [
    "from sklearn.decomposition import PCA"
   ]
  },
  {
   "cell_type": "code",
   "execution_count": null,
   "metadata": {},
   "outputs": [],
   "source": [
    "pca = PCA(n_components=2)"
   ]
  },
  {
   "cell_type": "code",
   "execution_count": null,
   "metadata": {},
   "outputs": [],
   "source": [
    "data5 = np.ones((28,28))*0.5\n",
    "\n",
    "for idx, row in data2.iterrows():\n",
    "    i = int(row.cat1)\n",
    "    j = int(row.cat2)\n",
    "    data5[i,j] = row.val_acc\n",
    "    data5[j,i] = row.val_acc\n",
    "\n",
    "data5 = pd.DataFrame(data5)\n",
    "data5"
   ]
  },
  {
   "cell_type": "code",
   "execution_count": null,
   "metadata": {},
   "outputs": [],
   "source": [
    "data6 = pca.fit_transform(data5)"
   ]
  },
  {
   "cell_type": "code",
   "execution_count": null,
   "metadata": {},
   "outputs": [],
   "source": [
    "fig, ax = plt.subplots(figsize=(12,8))\n",
    "ax.plot(data6[:,0], data6[:,1], 'o')\n",
    "\n",
    "for i in range(28):\n",
    "    t = ax.annotate(rawset.ix_to_cat[i], (data6[i,0]+0.01, data6[i,1]+0.01),fontsize=15)\n",
    "    t.set_rotation(30)"
   ]
  },
  {
   "cell_type": "code",
   "execution_count": null,
   "metadata": {},
   "outputs": [],
   "source": [
    "data6[:,0]>0.4"
   ]
  },
  {
   "cell_type": "code",
   "execution_count": null,
   "metadata": {},
   "outputs": [],
   "source": [
    "data7 = data6[data6[:,0]>0.4]\n",
    "fig, ax = plt.subplots(figsize=(12,8))\n",
    "ax.plot(data7[:,0], data7[:,1], 'o')\n",
    "for i in range(len(data6)):\n",
    "    if data6[i,0] < 0.4:\n",
    "        continue\n",
    "    t = ax.annotate(rawset.ix_to_cat[i], (data6[i,0]+0.0, data6[i,1]+0.0),fontsize=15)\n",
    "    t.set_rotation(30)"
   ]
  },
  {
   "cell_type": "markdown",
   "metadata": {},
   "source": [
    "# Multi-dimensional scaling"
   ]
  },
  {
   "cell_type": "code",
   "execution_count": null,
   "metadata": {},
   "outputs": [],
   "source": [
    "data5 = np.ones((28,28))*0.5\n",
    "\n",
    "for idx, row in data2.iterrows():\n",
    "    i = int(row.cat1)\n",
    "    j = int(row.cat2)\n",
    "    data5[i,j] = row.val_acc\n",
    "    data5[j,i] = row.val_acc\n",
    "\n",
    "data5 = pd.DataFrame(data5)\n",
    "data5"
   ]
  },
  {
   "cell_type": "code",
   "execution_count": null,
   "metadata": {},
   "outputs": [],
   "source": [
    "from sklearn.manifold import MDS"
   ]
  },
  {
   "cell_type": "code",
   "execution_count": null,
   "metadata": {},
   "outputs": [],
   "source": [
    "mds = MDS(n_components=2,max_iter=3000, eps=1e-9,\n",
    "          n_jobs=1)"
   ]
  },
  {
   "cell_type": "code",
   "execution_count": null,
   "metadata": {},
   "outputs": [],
   "source": [
    "data7 = mds.fit_transform(data5)"
   ]
  },
  {
   "cell_type": "code",
   "execution_count": null,
   "metadata": {},
   "outputs": [],
   "source": [
    "fig, ax = plt.subplots(figsize=(12,8))\n",
    "ax.plot(data7[:,0], data7[:,1], 'o')\n",
    "for i in range(28):\n",
    "    ax.annotate(rawset.ix_to_cat[i], (data7[i,0]+0.02, data7[i,1]))"
   ]
  },
  {
   "cell_type": "code",
   "execution_count": null,
   "metadata": {},
   "outputs": [],
   "source": []
  }
 ],
 "metadata": {
  "kernelspec": {
   "display_name": "Python 3",
   "language": "python",
   "name": "python3"
  },
  "language_info": {
   "codemirror_mode": {
    "name": "ipython",
    "version": 3
   },
   "file_extension": ".py",
   "mimetype": "text/x-python",
   "name": "python",
   "nbconvert_exporter": "python",
   "pygments_lexer": "ipython3",
   "version": "3.6.6"
  }
 },
 "nbformat": 4,
 "nbformat_minor": 2
}
