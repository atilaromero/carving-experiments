{
 "cells": [
  {
   "cell_type": "markdown",
   "metadata": {},
   "source": [
    "# 4.3 - Train a model for each dataset category, comparing it to random data"
   ]
  },
  {
   "cell_type": "code",
   "execution_count": 20,
   "metadata": {},
   "outputs": [],
   "source": [
    "import os\n",
    "import sys\n",
    "import datetime\n",
    "import tensorflow as tf\n",
    "import numpy as np\n",
    "import pandas as pd\n",
    "import matplotlib.pyplot as plt\n",
    "from collections import OrderedDict\n",
    "\n",
    "import models\n",
    "import report\n",
    "import block_sampler\n",
    "import batch_encoder\n",
    "from dataset import Dataset\n",
    "from report import Reporter2\n",
    "from trainer import Trainer, TrainResults\n",
    "from batch_encoder import Dataset, one_hot\n",
    "from block_sampler import count_sectors, BlockSamplerByFile, RandomSampler\n",
    "from batch_encoder import xs_encoder_8bits_11, BatchEncoder, xs_encoder_one_hot\n",
    "from filter_random import gen_rndchk_models, evaluate_rnd_model, filter_dataset\n",
    "\n",
    "from tensorflow.keras.layers import Input, Conv1D, MaxPooling1D, LSTM, Dense, Activation, TimeDistributed, Flatten, Dot, Softmax, Lambda, RepeatVector, Multiply, Permute, Reshape, BatchNormalization"
   ]
  },
  {
   "cell_type": "code",
   "execution_count": 2,
   "metadata": {},
   "outputs": [],
   "source": [
    "raw_dataset_folder='sample200'\n",
    "minimum=200\n",
    "maximum=200\n",
    "result_dir = 'results/4.3-randomness'\n",
    "os.makedirs(result_dir, exist_ok=True)"
   ]
  },
  {
   "cell_type": "code",
   "execution_count": 3,
   "metadata": {},
   "outputs": [],
   "source": [
    "rawset = Dataset.new_from_folders(raw_dataset_folder).filter_min_max(minimum, maximum)\n",
    "rawset = rawset.filter(lambda x: rawset.category_from(x) not in ['text', 'unk'])\n",
    "rawset.rebuild_categories()\n",
    "rawtset, rawvset = rawset.rnd_split_fraction_by_category(0.5)"
   ]
  },
  {
   "cell_type": "code",
   "execution_count": 4,
   "metadata": {},
   "outputs": [],
   "source": [
    "class CatSampler:\n",
    "    def __init__(self, model, blksampler, cat):\n",
    "        self.model = model\n",
    "        self.blksampler = blksampler\n",
    "        self.dataset = blksampler.dataset\n",
    "        self.cat = cat\n",
    "\n",
    "    def __iter__(self):\n",
    "        fails=0\n",
    "        tbenc = iter(BatchEncoder(self.blksampler, 100,\n",
    "                                  xs_encoder='one_hot'))\n",
    "        while True:\n",
    "            blks = next(tbenc)[0]\n",
    "            predict = self.model.predict(blks)\n",
    "            predict = np.argmax(predict, axis=-1)\n",
    "            blks = [x for x,y in zip(blks, predict) if y == self.cat]\n",
    "            if len(blks) == 0:\n",
    "                fails += 1\n",
    "                if fails > 1000:\n",
    "                    raise Exception(\"all blocks seems to be the wrong kind\")\n",
    "                continue\n",
    "            fails=0\n",
    "            for blk in blks:\n",
    "                yield block_sampler.BlockInstance(np.argmax(blk, axis=-1), self.blksampler.dataset.categories[self.cat])\n"
   ]
  },
  {
   "cell_type": "code",
   "execution_count": 5,
   "metadata": {},
   "outputs": [],
   "source": [
    "class ThrSampler:\n",
    "    def __init__(self, model, blksampler, threshold, cat):\n",
    "        self.model = model\n",
    "        self.blksampler = blksampler\n",
    "        self.dataset = blksampler.dataset\n",
    "        self.threshold = threshold\n",
    "        self.cat = cat\n",
    "\n",
    "    def __iter__(self):\n",
    "        fails=0\n",
    "        tbenc = iter(BatchEncoder(self.blksampler, 100,\n",
    "                                  xs_encoder='one_hot'))\n",
    "        while True:\n",
    "            blks = next(tbenc)[0]\n",
    "            predict = self.model.predict(blks)\n",
    "            predict = predict[:,0]-predict[:,1]\n",
    "            blks = [x for x,y in zip(blks, predict) if y > self.threshold]\n",
    "            if len(blks) == 0:\n",
    "                fails += 1\n",
    "                if fails > 1000:\n",
    "                    raise Exception(\"all blocks seems to be the wrong kind\")\n",
    "                continue\n",
    "            fails=0\n",
    "            for blk in blks:\n",
    "                yield block_sampler.BlockInstance(np.argmax(blk, axis=-1), self.cat)\n"
   ]
  },
  {
   "cell_type": "code",
   "execution_count": 9,
   "metadata": {},
   "outputs": [],
   "source": [
    "steps_per_epoch=28\n",
    "patience=10"
   ]
  },
  {
   "cell_type": "code",
   "execution_count": 10,
   "metadata": {},
   "outputs": [],
   "source": [
    "import models\n",
    "from block_sampler import BlockSamplerByCategory\n",
    "from batch_encoder import BatchEncoder\n",
    "from collections import namedtuple\n",
    "import callbacks\n",
    "from tensorflow.keras.callbacks import EarlyStopping, LambdaCallback\n",
    "\n",
    "TrainResults = namedtuple(\n",
    "    'TrainResults', ['model', 'history', 'metrics', 'elapsed'])\n",
    "\n",
    "class RandomTrainer:\n",
    "    def __init__(self,\n",
    "                 model,\n",
    "                 xs_encoder='one_hot',\n",
    "                 validation_steps=steps_per_epoch,\n",
    "                 steps_per_epoch=steps_per_epoch,\n",
    "                 epochs=10000000,\n",
    "                 max_seconds=None,\n",
    "                 batch_size=100,\n",
    "                 min_delta=1e-03,\n",
    "                 patience=patience):\n",
    "        self.model = model\n",
    "        self.xs_encoder = xs_encoder\n",
    "        self.validation_steps = validation_steps\n",
    "        self.steps_per_epoch = steps_per_epoch\n",
    "        self.epochs = epochs\n",
    "        self.max_seconds = max_seconds\n",
    "        self.batch_size = batch_size\n",
    "        self.min_delta = min_delta\n",
    "        self.patience = patience\n",
    "\n",
    "    def train(self, tset, vset, previous_model=None, previous_model2=None):\n",
    "        tsampler = BlockSamplerByFile(tset)\n",
    "        if previous_model:\n",
    "            tsampler = CatSampler(previous_model, tsampler, 0)\n",
    "        if previous_model2:\n",
    "            tsampler = CatSampler(previous_model2, tsampler, 0)\n",
    "        trsampler = RandomSampler(tsampler, rnd_cat='zzz', not_rnd_cat=tset.categories[0])\n",
    "        tbenc = BatchEncoder(trsampler, self.batch_size,\n",
    "                             xs_encoder=self.xs_encoder)\n",
    "\n",
    "        vsampler = BlockSamplerByFile(vset)\n",
    "        if previous_model:\n",
    "            vsampler = CatSampler(previous_model, vsampler, 0)\n",
    "        if previous_model2:\n",
    "            vsampler = CatSampler(previous_model2, vsampler, 0)\n",
    "        vrsampler = RandomSampler(vsampler, rnd_cat='zzz', not_rnd_cat=vset.categories[0])\n",
    "        vbenc = BatchEncoder(vrsampler, self.batch_size,\n",
    "                             xs_encoder=self.xs_encoder)\n",
    "\n",
    "        return self._train(tbenc,vbenc)\n",
    "\n",
    "    def _train(self, tbenc, vbenc):\n",
    "        model = self.model\n",
    "\n",
    "        timeIt = callbacks.TimeIt()\n",
    "\n",
    "        history = model.fit_generator(iter(tbenc),\n",
    "                                      validation_data=iter(vbenc),\n",
    "                                      validation_steps=self.validation_steps,\n",
    "                                      steps_per_epoch=self.steps_per_epoch,\n",
    "                                      epochs=self.epochs,\n",
    "                                      verbose=0,\n",
    "                                      callbacks=[\n",
    "            timeIt,\n",
    "            # callbacks.SaveModel(os.path.join(result_dir, model.name + '.h5')),\n",
    "#             callbacks.TimeLimit(self.max_seconds),\n",
    "            EarlyStopping(monitor='val_categorical_accuracy',\n",
    "                          min_delta=self.min_delta, patience=self.patience),\n",
    "            # TensorBoard(\n",
    "            #     log_dir=os.path.join(log_dir, model.name),\n",
    "            #     # update_freq=3100,\n",
    "            # ),\n",
    "#             LambdaCallback(on_epoch_end = lambda epoch, logs: print(logs['val_categorical_accuracy'])),\n",
    "        ],\n",
    "            use_multiprocessing=False,\n",
    "            workers=0,\n",
    "        )\n",
    "        return TrainResults(\n",
    "            model=model,\n",
    "            history=history,\n",
    "            metrics=['val_binary_accuracy', 'val_categorical_accuracy'],\n",
    "            elapsed=timeIt.elapsed,\n",
    "        )"
   ]
  },
  {
   "cell_type": "markdown",
   "metadata": {},
   "source": [
    "# Train until 98%"
   ]
  },
  {
   "cell_type": "code",
   "execution_count": null,
   "metadata": {},
   "outputs": [],
   "source": [
    "def CLD(classes, len_byte_vector):\n",
    "    last = l0 = Input(shape=(512,len_byte_vector))\n",
    "    last = Conv1D(256, (16,), strides=16)(last)\n",
    "    last = LSTM(128)(last)\n",
    "    last = Dense(classes)(last)\n",
    "    last = Activation('softmax')(last)\n",
    "    name = sys._getframe().f_code.co_name\n",
    "    model = tf.keras.Model([l0], last, name=name)\n",
    "    model.compile(loss=tf.keras.losses.categorical_crossentropy,\n",
    "        optimizer=tf.keras.optimizers.Adam(),\n",
    "        metrics=['binary_accuracy', 'categorical_accuracy'])\n",
    "    return model"
   ]
  },
  {
   "cell_type": "code",
   "execution_count": 13,
   "metadata": {
    "scrolled": false
   },
   "outputs": [
    {
     "name": "stdout",
     "output_type": "stream",
     "text": [
      "dwf\n",
      "val_acc = 0.7207143\n",
      "dwf\n",
      "val_acc = 0.895\n",
      "dwf\n",
      "val_acc = 0.9439286\n",
      "dwf\n",
      "val_acc = 0.9667857\n",
      "dwf\n",
      "val_acc = 0.98285717\n"
     ]
    }
   ],
   "source": [
    "by_categoryT = rawtset.by_category()\n",
    "by_categoryV = rawvset.by_category()\n",
    "cat='dwf'\n",
    "threshold = 0\n",
    "batch_size = 100\n",
    "model_pass={}\n",
    "for npass in [1, 2, 3, 4, 5]:\n",
    "    tset = by_categoryT[cat]\n",
    "    vset = by_categoryV[cat]\n",
    "    tset.rebuild_categories(categories=[cat, 'zzz'])\n",
    "    vset.rebuild_categories(categories=[cat, 'zzz'])\n",
    "    model = CLD(2, 256)\n",
    "    print(cat)\n",
    "    tsampler = BlockSamplerByFile(tset)\n",
    "    for n in range(1, npass):\n",
    "        previous_model = model_pass[n]\n",
    "        tsampler = ThrSampler(previous_model, tsampler, threshold, cat)\n",
    "    tsampler = RandomSampler(tsampler, rnd_cat='zzz', not_rnd_cat=cat)\n",
    "    tbenc = BatchEncoder(tsampler, batch_size,\n",
    "                         xs_encoder='one_hot')\n",
    "\n",
    "    vsampler = BlockSamplerByFile(vset)\n",
    "    for n in range(1, npass):\n",
    "        previous_model = model_pass[n]\n",
    "        vsampler = ThrSampler(previous_model, vsampler, threshold, cat)\n",
    "    vsampler = RandomSampler(vsampler, rnd_cat='zzz', not_rnd_cat=vset.categories[0])\n",
    "    vbenc = BatchEncoder(vsampler, batch_size,\n",
    "                         xs_encoder='one_hot')\n",
    "\n",
    "    result = RandomTrainer(\n",
    "        model,\n",
    "        batch_size=100,\n",
    "        steps_per_epoch=steps_per_epoch,\n",
    "        validation_steps=steps_per_epoch,\n",
    "        patience=patience,\n",
    "    )._train(tbenc,vbenc)\n",
    "    val_acc = result.history.history['val_categorical_accuracy'][-1]\n",
    "    print('val_acc =', val_acc)\n",
    "    model_pass[npass]=model\n",
    "    if val_acc > 0.98:\n",
    "        break"
   ]
  },
  {
   "cell_type": "code",
   "execution_count": 21,
   "metadata": {},
   "outputs": [],
   "source": [
    "def CM(classes, len_byte_vector):\n",
    "    last = l0 = Input(shape=(512,len_byte_vector))\n",
    "    last = Conv1D(classes, (32,), strides=1)(last)\n",
    "    last = MaxPooling1D(pool_size=481, strides=1)(last)\n",
    "    last = Flatten()(last)\n",
    "    last = Activation('softmax')(last)\n",
    "    name = sys._getframe().f_code.co_name\n",
    "    model = tf.keras.Model([l0], last, name=name)\n",
    "    model.compile(loss=tf.keras.losses.categorical_crossentropy,\n",
    "        optimizer=tf.keras.optimizers.Adam(),\n",
    "        metrics=['binary_accuracy', 'categorical_accuracy'])\n",
    "    return model"
   ]
  },
  {
   "cell_type": "code",
   "execution_count": 27,
   "metadata": {
    "scrolled": false
   },
   "outputs": [
    {
     "name": "stdout",
     "output_type": "stream",
     "text": [
      "dwf\n",
      "val_acc = 0.5642857\n",
      "dwf\n",
      "val_acc = 0.99964285\n"
     ]
    }
   ],
   "source": [
    "by_categoryT = rawtset.by_category()\n",
    "by_categoryV = rawvset.by_category()\n",
    "cat='dwf'\n",
    "threshold = 0.5\n",
    "batch_size = 100\n",
    "model_pass={}\n",
    "for npass in [1, 2, 3, 4, 5]:\n",
    "    tset = by_categoryT[cat]\n",
    "    vset = by_categoryV[cat]\n",
    "    tset.rebuild_categories(categories=[cat, 'zzz'])\n",
    "    vset.rebuild_categories(categories=[cat, 'zzz'])\n",
    "    model = CM(2, 256)\n",
    "    print(cat)\n",
    "    tsampler = BlockSamplerByFile(tset)\n",
    "    for n in range(1, npass):\n",
    "        previous_model = model_pass[n]\n",
    "        tsampler = ThrSampler(previous_model, tsampler, threshold, cat)\n",
    "    tsampler = RandomSampler(tsampler, rnd_cat='zzz', not_rnd_cat=cat)\n",
    "    tbenc = BatchEncoder(tsampler, batch_size,\n",
    "                         xs_encoder='one_hot')\n",
    "\n",
    "    vsampler = BlockSamplerByFile(vset)\n",
    "    for n in range(1, npass):\n",
    "        previous_model = model_pass[n]\n",
    "        vsampler = ThrSampler(previous_model, vsampler, threshold, cat)\n",
    "    vsampler = RandomSampler(vsampler, rnd_cat='zzz', not_rnd_cat=vset.categories[0])\n",
    "    vbenc = BatchEncoder(vsampler, batch_size,\n",
    "                         xs_encoder='one_hot')\n",
    "\n",
    "    result = RandomTrainer(\n",
    "        model,\n",
    "        batch_size=100,\n",
    "        steps_per_epoch=steps_per_epoch,\n",
    "        validation_steps=steps_per_epoch,\n",
    "        patience=patience,\n",
    "    )._train(tbenc,vbenc)\n",
    "    val_acc = result.history.history['val_categorical_accuracy'][-1]\n",
    "    print('val_acc =', val_acc)\n",
    "    model_pass[npass]=model\n",
    "    if val_acc > 0.98:\n",
    "        break    "
   ]
  },
  {
   "cell_type": "code",
   "execution_count": 23,
   "metadata": {},
   "outputs": [],
   "source": [
    "def CCM(classes, len_byte_vector):\n",
    "    last = l0 = Input(shape=(512,len_byte_vector))\n",
    "    last = Conv1D(classes, (32,), strides=1)(last)\n",
    "    last = Conv1D(classes, (2,), strides=2)(last)\n",
    "    last = MaxPooling1D(pool_size=240, strides=1)(last)\n",
    "    last = Flatten()(last)\n",
    "    last = Activation('softmax')(last)\n",
    "    name = sys._getframe().f_code.co_name\n",
    "    model = tf.keras.Model([l0], last, name=name)\n",
    "    model.compile(loss=tf.keras.losses.categorical_crossentropy,\n",
    "        optimizer=tf.keras.optimizers.Adam(),\n",
    "        metrics=['binary_accuracy', 'categorical_accuracy'])\n",
    "    return model"
   ]
  },
  {
   "cell_type": "code",
   "execution_count": 24,
   "metadata": {
    "scrolled": false
   },
   "outputs": [
    {
     "name": "stdout",
     "output_type": "stream",
     "text": [
      "dwf\n",
      "val_acc = 0.7146429\n",
      "dwf\n",
      "val_acc = 0.88464284\n",
      "dwf\n"
     ]
    },
    {
     "ename": "KeyboardInterrupt",
     "evalue": "",
     "output_type": "error",
     "traceback": [
      "\u001b[0;31m---------------------------------------------------------------------------\u001b[0m",
      "\u001b[0;31mKeyboardInterrupt\u001b[0m                         Traceback (most recent call last)",
      "\u001b[0;32m<ipython-input-24-24879c2cd28d>\u001b[0m in \u001b[0;36m<module>\u001b[0;34m\u001b[0m\n\u001b[1;32m     35\u001b[0m         \u001b[0mvalidation_steps\u001b[0m\u001b[0;34m=\u001b[0m\u001b[0msteps_per_epoch\u001b[0m\u001b[0;34m,\u001b[0m\u001b[0;34m\u001b[0m\u001b[0;34m\u001b[0m\u001b[0m\n\u001b[1;32m     36\u001b[0m         \u001b[0mpatience\u001b[0m\u001b[0;34m=\u001b[0m\u001b[0mpatience\u001b[0m\u001b[0;34m,\u001b[0m\u001b[0;34m\u001b[0m\u001b[0;34m\u001b[0m\u001b[0m\n\u001b[0;32m---> 37\u001b[0;31m     )._train(tbenc,vbenc)\n\u001b[0m\u001b[1;32m     38\u001b[0m     \u001b[0mval_acc\u001b[0m \u001b[0;34m=\u001b[0m \u001b[0mresult\u001b[0m\u001b[0;34m.\u001b[0m\u001b[0mhistory\u001b[0m\u001b[0;34m.\u001b[0m\u001b[0mhistory\u001b[0m\u001b[0;34m[\u001b[0m\u001b[0;34m'val_categorical_accuracy'\u001b[0m\u001b[0;34m]\u001b[0m\u001b[0;34m[\u001b[0m\u001b[0;34m-\u001b[0m\u001b[0;36m1\u001b[0m\u001b[0;34m]\u001b[0m\u001b[0;34m\u001b[0m\u001b[0;34m\u001b[0m\u001b[0m\n\u001b[1;32m     39\u001b[0m     \u001b[0mprint\u001b[0m\u001b[0;34m(\u001b[0m\u001b[0;34m'val_acc ='\u001b[0m\u001b[0;34m,\u001b[0m \u001b[0mval_acc\u001b[0m\u001b[0;34m)\u001b[0m\u001b[0;34m\u001b[0m\u001b[0;34m\u001b[0m\u001b[0m\n",
      "\u001b[0;32m<ipython-input-10-ee34ad4c0e71>\u001b[0m in \u001b[0;36m_train\u001b[0;34m(self, tbenc, vbenc)\u001b[0m\n\u001b[1;32m     75\u001b[0m         ],\n\u001b[1;32m     76\u001b[0m             \u001b[0muse_multiprocessing\u001b[0m\u001b[0;34m=\u001b[0m\u001b[0;32mFalse\u001b[0m\u001b[0;34m,\u001b[0m\u001b[0;34m\u001b[0m\u001b[0;34m\u001b[0m\u001b[0m\n\u001b[0;32m---> 77\u001b[0;31m             \u001b[0mworkers\u001b[0m\u001b[0;34m=\u001b[0m\u001b[0;36m0\u001b[0m\u001b[0;34m,\u001b[0m\u001b[0;34m\u001b[0m\u001b[0;34m\u001b[0m\u001b[0m\n\u001b[0m\u001b[1;32m     78\u001b[0m         )\n\u001b[1;32m     79\u001b[0m         return TrainResults(\n",
      "\u001b[0;32m~/.local/lib/python3.7/site-packages/tensorflow/python/keras/engine/training.py\u001b[0m in \u001b[0;36mfit_generator\u001b[0;34m(self, generator, steps_per_epoch, epochs, verbose, callbacks, validation_data, validation_steps, validation_freq, class_weight, max_queue_size, workers, use_multiprocessing, shuffle, initial_epoch)\u001b[0m\n\u001b[1;32m   1431\u001b[0m         \u001b[0mshuffle\u001b[0m\u001b[0;34m=\u001b[0m\u001b[0mshuffle\u001b[0m\u001b[0;34m,\u001b[0m\u001b[0;34m\u001b[0m\u001b[0;34m\u001b[0m\u001b[0m\n\u001b[1;32m   1432\u001b[0m         \u001b[0minitial_epoch\u001b[0m\u001b[0;34m=\u001b[0m\u001b[0minitial_epoch\u001b[0m\u001b[0;34m,\u001b[0m\u001b[0;34m\u001b[0m\u001b[0;34m\u001b[0m\u001b[0m\n\u001b[0;32m-> 1433\u001b[0;31m         steps_name='steps_per_epoch')\n\u001b[0m\u001b[1;32m   1434\u001b[0m \u001b[0;34m\u001b[0m\u001b[0m\n\u001b[1;32m   1435\u001b[0m   def evaluate_generator(self,\n",
      "\u001b[0;32m~/.local/lib/python3.7/site-packages/tensorflow/python/keras/engine/training_generator.py\u001b[0m in \u001b[0;36mmodel_iteration\u001b[0;34m(model, data, steps_per_epoch, epochs, verbose, callbacks, validation_data, validation_steps, validation_freq, class_weight, max_queue_size, workers, use_multiprocessing, shuffle, initial_epoch, mode, batch_size, steps_name, **kwargs)\u001b[0m\n\u001b[1;32m    320\u001b[0m           \u001b[0mverbose\u001b[0m\u001b[0;34m=\u001b[0m\u001b[0;36m0\u001b[0m\u001b[0;34m,\u001b[0m\u001b[0;34m\u001b[0m\u001b[0;34m\u001b[0m\u001b[0m\n\u001b[1;32m    321\u001b[0m           \u001b[0mmode\u001b[0m\u001b[0;34m=\u001b[0m\u001b[0mModeKeys\u001b[0m\u001b[0;34m.\u001b[0m\u001b[0mTEST\u001b[0m\u001b[0;34m,\u001b[0m\u001b[0;34m\u001b[0m\u001b[0;34m\u001b[0m\u001b[0m\n\u001b[0;32m--> 322\u001b[0;31m           steps_name='validation_steps')\n\u001b[0m\u001b[1;32m    323\u001b[0m \u001b[0;34m\u001b[0m\u001b[0m\n\u001b[1;32m    324\u001b[0m       \u001b[0;32mif\u001b[0m \u001b[0;32mnot\u001b[0m \u001b[0misinstance\u001b[0m\u001b[0;34m(\u001b[0m\u001b[0mval_results\u001b[0m\u001b[0;34m,\u001b[0m \u001b[0mlist\u001b[0m\u001b[0;34m)\u001b[0m\u001b[0;34m:\u001b[0m\u001b[0;34m\u001b[0m\u001b[0;34m\u001b[0m\u001b[0m\n",
      "\u001b[0;32m~/.local/lib/python3.7/site-packages/tensorflow/python/keras/engine/training_generator.py\u001b[0m in \u001b[0;36mmodel_iteration\u001b[0;34m(model, data, steps_per_epoch, epochs, verbose, callbacks, validation_data, validation_steps, validation_freq, class_weight, max_queue_size, workers, use_multiprocessing, shuffle, initial_epoch, mode, batch_size, steps_name, **kwargs)\u001b[0m\n\u001b[1;32m    262\u001b[0m \u001b[0;34m\u001b[0m\u001b[0m\n\u001b[1;32m    263\u001b[0m       \u001b[0mis_deferred\u001b[0m \u001b[0;34m=\u001b[0m \u001b[0;32mnot\u001b[0m \u001b[0mmodel\u001b[0m\u001b[0;34m.\u001b[0m\u001b[0m_is_compiled\u001b[0m\u001b[0;34m\u001b[0m\u001b[0;34m\u001b[0m\u001b[0m\n\u001b[0;32m--> 264\u001b[0;31m       \u001b[0mbatch_outs\u001b[0m \u001b[0;34m=\u001b[0m \u001b[0mbatch_function\u001b[0m\u001b[0;34m(\u001b[0m\u001b[0;34m*\u001b[0m\u001b[0mbatch_data\u001b[0m\u001b[0;34m)\u001b[0m\u001b[0;34m\u001b[0m\u001b[0;34m\u001b[0m\u001b[0m\n\u001b[0m\u001b[1;32m    265\u001b[0m       \u001b[0;32mif\u001b[0m \u001b[0;32mnot\u001b[0m \u001b[0misinstance\u001b[0m\u001b[0;34m(\u001b[0m\u001b[0mbatch_outs\u001b[0m\u001b[0;34m,\u001b[0m \u001b[0mlist\u001b[0m\u001b[0;34m)\u001b[0m\u001b[0;34m:\u001b[0m\u001b[0;34m\u001b[0m\u001b[0;34m\u001b[0m\u001b[0m\n\u001b[1;32m    266\u001b[0m         \u001b[0mbatch_outs\u001b[0m \u001b[0;34m=\u001b[0m \u001b[0;34m[\u001b[0m\u001b[0mbatch_outs\u001b[0m\u001b[0;34m]\u001b[0m\u001b[0;34m\u001b[0m\u001b[0;34m\u001b[0m\u001b[0m\n",
      "\u001b[0;32m~/.local/lib/python3.7/site-packages/tensorflow/python/keras/engine/training.py\u001b[0m in \u001b[0;36mtest_on_batch\u001b[0;34m(self, x, y, sample_weight, reset_metrics)\u001b[0m\n\u001b[1;32m   1245\u001b[0m       \u001b[0mself\u001b[0m\u001b[0;34m.\u001b[0m\u001b[0m_update_sample_weight_modes\u001b[0m\u001b[0;34m(\u001b[0m\u001b[0msample_weights\u001b[0m\u001b[0;34m=\u001b[0m\u001b[0msample_weights\u001b[0m\u001b[0;34m)\u001b[0m\u001b[0;34m\u001b[0m\u001b[0;34m\u001b[0m\u001b[0m\n\u001b[1;32m   1246\u001b[0m       \u001b[0mself\u001b[0m\u001b[0;34m.\u001b[0m\u001b[0m_make_test_function\u001b[0m\u001b[0;34m(\u001b[0m\u001b[0;34m)\u001b[0m\u001b[0;34m\u001b[0m\u001b[0;34m\u001b[0m\u001b[0m\n\u001b[0;32m-> 1247\u001b[0;31m       \u001b[0moutputs\u001b[0m \u001b[0;34m=\u001b[0m \u001b[0mself\u001b[0m\u001b[0;34m.\u001b[0m\u001b[0mtest_function\u001b[0m\u001b[0;34m(\u001b[0m\u001b[0minputs\u001b[0m\u001b[0;34m)\u001b[0m  \u001b[0;31m# pylint: disable=not-callable\u001b[0m\u001b[0;34m\u001b[0m\u001b[0;34m\u001b[0m\u001b[0m\n\u001b[0m\u001b[1;32m   1248\u001b[0m \u001b[0;34m\u001b[0m\u001b[0m\n\u001b[1;32m   1249\u001b[0m     \u001b[0;32mif\u001b[0m \u001b[0mreset_metrics\u001b[0m\u001b[0;34m:\u001b[0m\u001b[0;34m\u001b[0m\u001b[0;34m\u001b[0m\u001b[0m\n",
      "\u001b[0;31mKeyboardInterrupt\u001b[0m: "
     ]
    }
   ],
   "source": [
    "by_categoryT = rawtset.by_category()\n",
    "by_categoryV = rawvset.by_category()\n",
    "cat='dwf'\n",
    "threshold = 0\n",
    "batch_size = 100\n",
    "model_pass={}\n",
    "for npass in [1, 2, 3, 4, 5]:\n",
    "    tset = by_categoryT[cat]\n",
    "    vset = by_categoryV[cat]\n",
    "    tset.rebuild_categories(categories=[cat, 'zzz'])\n",
    "    vset.rebuild_categories(categories=[cat, 'zzz'])\n",
    "    model = models.C256_16_16_L128_D(\n",
    "        2, 256, 'softmax', 'categorical_crossentropy')\n",
    "    print(cat)\n",
    "    tsampler = BlockSamplerByFile(tset)\n",
    "    for n in range(1, npass):\n",
    "        previous_model = model_pass[n]\n",
    "        tsampler = ThrSampler(previous_model, tsampler, threshold, cat)\n",
    "    tsampler = RandomSampler(tsampler, rnd_cat='zzz', not_rnd_cat=cat)\n",
    "    tbenc = BatchEncoder(tsampler, batch_size,\n",
    "                         xs_encoder='one_hot')\n",
    "\n",
    "    vsampler = BlockSamplerByFile(vset)\n",
    "    for n in range(1, npass):\n",
    "        previous_model = model_pass[n]\n",
    "        vsampler = ThrSampler(previous_model, vsampler, threshold, cat)\n",
    "    vsampler = RandomSampler(vsampler, rnd_cat='zzz', not_rnd_cat=vset.categories[0])\n",
    "    vbenc = BatchEncoder(vsampler, batch_size,\n",
    "                         xs_encoder='one_hot')\n",
    "\n",
    "    result = RandomTrainer(\n",
    "        model,\n",
    "        batch_size=100,\n",
    "        steps_per_epoch=steps_per_epoch,\n",
    "        validation_steps=steps_per_epoch,\n",
    "        patience=patience,\n",
    "    )._train(tbenc,vbenc)\n",
    "    val_acc = result.history.history['val_categorical_accuracy'][-1]\n",
    "    print('val_acc =', val_acc)\n",
    "    model_pass[npass]=model\n",
    "    if val_acc > 0.98:\n",
    "        break"
   ]
  },
  {
   "cell_type": "markdown",
   "metadata": {},
   "source": [
    "# Train pass1 models"
   ]
  },
  {
   "cell_type": "code",
   "execution_count": null,
   "metadata": {
    "scrolled": false
   },
   "outputs": [],
   "source": [
    "r = Reporter2(result_dir + \"/pass1.tsv\")\n",
    "by_categoryT = rawtset.by_category()\n",
    "by_categoryV = rawvset.by_category()\n",
    "for cat in ['dwf']:#by_categoryT.keys():\n",
    "    tset = by_categoryT[cat]\n",
    "    vset = by_categoryV[cat]\n",
    "    tset.rebuild_categories(categories=[cat, 'zzz'])\n",
    "    vset.rebuild_categories(categories=[cat, 'zzz'])\n",
    "    model = models.C256_16_16_L128_D(\n",
    "        2, 256, 'softmax', 'categorical_crossentropy')\n",
    "    print(cat)\n",
    "    result = RandomTrainer(\n",
    "        model,\n",
    "        batch_size=100,\n",
    "        steps_per_epoch=28,\n",
    "        validation_steps=28,\n",
    "        patience=10,\n",
    "    ).train(tset, vset)\n",
    "    val_acc = result.history.history['val_categorical_accuracy'][-1]\n",
    "    print('val_acc =', val_acc)\n",
    "    r.line(category=cat,\n",
    "           val_acc=val_acc,\n",
    "           **report.report_elapsed(**result._asdict()),\n",
    "           **report.report_epochs(**result._asdict()),\n",
    "          )\n",
    "    h5_path = os.path.join(result_dir, '%s_pass1.h5' % cat)\n",
    "    tf.keras.Model.save(model, h5_path)\n",
    "r.close()"
   ]
  },
  {
   "cell_type": "markdown",
   "metadata": {},
   "source": [
    "# Load data"
   ]
  },
  {
   "cell_type": "code",
   "execution_count": 7,
   "metadata": {},
   "outputs": [
    {
     "data": {
      "text/html": [
       "<div>\n",
       "<style scoped>\n",
       "    .dataframe tbody tr th:only-of-type {\n",
       "        vertical-align: middle;\n",
       "    }\n",
       "\n",
       "    .dataframe tbody tr th {\n",
       "        vertical-align: top;\n",
       "    }\n",
       "\n",
       "    .dataframe thead th {\n",
       "        text-align: right;\n",
       "    }\n",
       "</style>\n",
       "<table border=\"1\" class=\"dataframe\">\n",
       "  <thead>\n",
       "    <tr style=\"text-align: right;\">\n",
       "      <th></th>\n",
       "      <th>category</th>\n",
       "      <th>val_acc</th>\n",
       "      <th>Time</th>\n",
       "      <th>Epochs</th>\n",
       "    </tr>\n",
       "  </thead>\n",
       "  <tbody>\n",
       "    <tr>\n",
       "      <td>8</td>\n",
       "      <td>dwf</td>\n",
       "      <td>0.709643</td>\n",
       "      <td>6m53s</td>\n",
       "      <td>28</td>\n",
       "    </tr>\n",
       "    <tr>\n",
       "      <td>18</td>\n",
       "      <td>gz</td>\n",
       "      <td>0.753571</td>\n",
       "      <td>8m14s</td>\n",
       "      <td>33</td>\n",
       "    </tr>\n",
       "    <tr>\n",
       "      <td>22</td>\n",
       "      <td>swf</td>\n",
       "      <td>0.770000</td>\n",
       "      <td>9m24s</td>\n",
       "      <td>41</td>\n",
       "    </tr>\n",
       "    <tr>\n",
       "      <td>12</td>\n",
       "      <td>kmz</td>\n",
       "      <td>0.781786</td>\n",
       "      <td>11m06s</td>\n",
       "      <td>45</td>\n",
       "    </tr>\n",
       "    <tr>\n",
       "      <td>27</td>\n",
       "      <td>pdf</td>\n",
       "      <td>0.818929</td>\n",
       "      <td>14m03s</td>\n",
       "      <td>62</td>\n",
       "    </tr>\n",
       "    <tr>\n",
       "      <td>24</td>\n",
       "      <td>png</td>\n",
       "      <td>0.825000</td>\n",
       "      <td>14m22s</td>\n",
       "      <td>64</td>\n",
       "    </tr>\n",
       "    <tr>\n",
       "      <td>17</td>\n",
       "      <td>pps</td>\n",
       "      <td>0.862500</td>\n",
       "      <td>16m06s</td>\n",
       "      <td>57</td>\n",
       "    </tr>\n",
       "    <tr>\n",
       "      <td>21</td>\n",
       "      <td>gif</td>\n",
       "      <td>0.868214</td>\n",
       "      <td>8m36s</td>\n",
       "      <td>35</td>\n",
       "    </tr>\n",
       "    <tr>\n",
       "      <td>0</td>\n",
       "      <td>pptx</td>\n",
       "      <td>0.871071</td>\n",
       "      <td>18m33s</td>\n",
       "      <td>68</td>\n",
       "    </tr>\n",
       "    <tr>\n",
       "      <td>16</td>\n",
       "      <td>ppt</td>\n",
       "      <td>0.898214</td>\n",
       "      <td>19m39s</td>\n",
       "      <td>67</td>\n",
       "    </tr>\n",
       "    <tr>\n",
       "      <td>19</td>\n",
       "      <td>jpg</td>\n",
       "      <td>0.932143</td>\n",
       "      <td>12m44s</td>\n",
       "      <td>51</td>\n",
       "    </tr>\n",
       "    <tr>\n",
       "      <td>2</td>\n",
       "      <td>doc</td>\n",
       "      <td>0.944286</td>\n",
       "      <td>15m07s</td>\n",
       "      <td>62</td>\n",
       "    </tr>\n",
       "    <tr>\n",
       "      <td>6</td>\n",
       "      <td>ps</td>\n",
       "      <td>0.984286</td>\n",
       "      <td>3m46s</td>\n",
       "      <td>12</td>\n",
       "    </tr>\n",
       "    <tr>\n",
       "      <td>25</td>\n",
       "      <td>xls</td>\n",
       "      <td>0.987500</td>\n",
       "      <td>3m24s</td>\n",
       "      <td>14</td>\n",
       "    </tr>\n",
       "    <tr>\n",
       "      <td>11</td>\n",
       "      <td>txt</td>\n",
       "      <td>0.995000</td>\n",
       "      <td>3m16s</td>\n",
       "      <td>12</td>\n",
       "    </tr>\n",
       "    <tr>\n",
       "      <td>14</td>\n",
       "      <td>sql</td>\n",
       "      <td>0.996786</td>\n",
       "      <td>3m17s</td>\n",
       "      <td>13</td>\n",
       "    </tr>\n",
       "    <tr>\n",
       "      <td>15</td>\n",
       "      <td>eps</td>\n",
       "      <td>0.998214</td>\n",
       "      <td>5m19s</td>\n",
       "      <td>19</td>\n",
       "    </tr>\n",
       "    <tr>\n",
       "      <td>5</td>\n",
       "      <td>wp</td>\n",
       "      <td>0.998571</td>\n",
       "      <td>3m58s</td>\n",
       "      <td>16</td>\n",
       "    </tr>\n",
       "    <tr>\n",
       "      <td>7</td>\n",
       "      <td>kml</td>\n",
       "      <td>0.998571</td>\n",
       "      <td>2m47s</td>\n",
       "      <td>11</td>\n",
       "    </tr>\n",
       "    <tr>\n",
       "      <td>9</td>\n",
       "      <td>hlp</td>\n",
       "      <td>1.000000</td>\n",
       "      <td>2m46s</td>\n",
       "      <td>11</td>\n",
       "    </tr>\n",
       "    <tr>\n",
       "      <td>1</td>\n",
       "      <td>java</td>\n",
       "      <td>1.000000</td>\n",
       "      <td>2m41s</td>\n",
       "      <td>11</td>\n",
       "    </tr>\n",
       "    <tr>\n",
       "      <td>23</td>\n",
       "      <td>f</td>\n",
       "      <td>1.000000</td>\n",
       "      <td>2m37s</td>\n",
       "      <td>11</td>\n",
       "    </tr>\n",
       "    <tr>\n",
       "      <td>4</td>\n",
       "      <td>xml</td>\n",
       "      <td>1.000000</td>\n",
       "      <td>2m45s</td>\n",
       "      <td>11</td>\n",
       "    </tr>\n",
       "    <tr>\n",
       "      <td>20</td>\n",
       "      <td>dbase3</td>\n",
       "      <td>1.000000</td>\n",
       "      <td>2m51s</td>\n",
       "      <td>11</td>\n",
       "    </tr>\n",
       "    <tr>\n",
       "      <td>26</td>\n",
       "      <td>rtf</td>\n",
       "      <td>1.000000</td>\n",
       "      <td>2m42s</td>\n",
       "      <td>11</td>\n",
       "    </tr>\n",
       "    <tr>\n",
       "      <td>10</td>\n",
       "      <td>log</td>\n",
       "      <td>1.000000</td>\n",
       "      <td>3m10s</td>\n",
       "      <td>12</td>\n",
       "    </tr>\n",
       "    <tr>\n",
       "      <td>3</td>\n",
       "      <td>csv</td>\n",
       "      <td>1.000000</td>\n",
       "      <td>2m43s</td>\n",
       "      <td>11</td>\n",
       "    </tr>\n",
       "    <tr>\n",
       "      <td>13</td>\n",
       "      <td>html</td>\n",
       "      <td>1.000000</td>\n",
       "      <td>2m50s</td>\n",
       "      <td>11</td>\n",
       "    </tr>\n",
       "  </tbody>\n",
       "</table>\n",
       "</div>"
      ],
      "text/plain": [
       "   category   val_acc    Time  Epochs\n",
       "8       dwf  0.709643   6m53s      28\n",
       "18       gz  0.753571   8m14s      33\n",
       "22      swf  0.770000   9m24s      41\n",
       "12      kmz  0.781786  11m06s      45\n",
       "27      pdf  0.818929  14m03s      62\n",
       "24      png  0.825000  14m22s      64\n",
       "17      pps  0.862500  16m06s      57\n",
       "21      gif  0.868214   8m36s      35\n",
       "0      pptx  0.871071  18m33s      68\n",
       "16      ppt  0.898214  19m39s      67\n",
       "19      jpg  0.932143  12m44s      51\n",
       "2       doc  0.944286  15m07s      62\n",
       "6        ps  0.984286   3m46s      12\n",
       "25      xls  0.987500   3m24s      14\n",
       "11      txt  0.995000   3m16s      12\n",
       "14      sql  0.996786   3m17s      13\n",
       "15      eps  0.998214   5m19s      19\n",
       "5        wp  0.998571   3m58s      16\n",
       "7       kml  0.998571   2m47s      11\n",
       "9       hlp  1.000000   2m46s      11\n",
       "1      java  1.000000   2m41s      11\n",
       "23        f  1.000000   2m37s      11\n",
       "4       xml  1.000000   2m45s      11\n",
       "20   dbase3  1.000000   2m51s      11\n",
       "26      rtf  1.000000   2m42s      11\n",
       "10      log  1.000000   3m10s      12\n",
       "3       csv  1.000000   2m43s      11\n",
       "13     html  1.000000   2m50s      11"
      ]
     },
     "execution_count": 7,
     "metadata": {},
     "output_type": "execute_result"
    }
   ],
   "source": [
    "data = pd.read_csv(result_dir + '/pass1.tsv', sep='\\t')\n",
    "data = data.sort_values('val_acc')\n",
    "data"
   ]
  },
  {
   "cell_type": "code",
   "execution_count": 8,
   "metadata": {},
   "outputs": [
    {
     "data": {
      "image/png": "[encoded data removed]",
      "text/plain": [
       "<Figure size 864x288 with 1 Axes>"
      ]
     },
     "metadata": {},
     "output_type": "display_data"
    }
   ],
   "source": [
    "data.plot.bar('category', ['val_acc'], figsize=(12,4))\n",
    "plt.show()"
   ]
  },
  {
   "cell_type": "markdown",
   "metadata": {},
   "source": [
    "# Train pass2 models"
   ]
  },
  {
   "cell_type": "code",
   "execution_count": null,
   "metadata": {
    "scrolled": false
   },
   "outputs": [
    {
     "name": "stdout",
     "output_type": "stream",
     "text": [
      "dwf\n",
      "val_acc = 0.8889286\n",
      "dwf\n",
      "val_acc = 0.895\n",
      "dwf\n",
      "val_acc = 0.93607146\n",
      "dwf\n",
      "val_acc = 0.93214285\n",
      "dwf\n"
     ]
    }
   ],
   "source": [
    "# if os.path.exists(result_dir + \"/pass2.tsv\"):\n",
    "#     os.remove(result_dir + \"/pass2.tsv\")\n",
    "# r = Reporter2(result_dir + \"/pass2.tsv\")\n",
    "by_categoryT = rawtset.by_category()\n",
    "by_categoryV = rawvset.by_category()\n",
    "cat='dwf'\n",
    "previous_model = tf.keras.models.load_model(result_dir + '/%s_pass1.h5' % cat)\n",
    "for threshold in [0,0.5, 0.75, 0.8, 0.9]:\n",
    "# for cat in by_categoryT.keys():\n",
    "    tset = by_categoryT[cat]\n",
    "    vset = by_categoryV[cat]\n",
    "    tset.rebuild_categories(categories=[cat, 'zzz'])\n",
    "    vset.rebuild_categories(categories=[cat, 'zzz'])\n",
    "    if data.set_index('category').loc[cat].val_acc > 0.98:\n",
    "        continue\n",
    "#     previous_model = tf.keras.models.load_model(result_dir + '/%s_pass1.h5' % cat)\n",
    "    model = models.C256_16_16_L128_D(\n",
    "        2, 256, 'softmax', 'categorical_crossentropy')\n",
    "    print(cat)\n",
    "    batch_size = 100\n",
    "    tsampler = BlockSamplerByFile(tset)\n",
    "    tsampler = ThrSampler(previous_model, tsampler, threshold, cat)\n",
    "    tsampler = RandomSampler(tsampler, rnd_cat='zzz', not_rnd_cat=tset.categories[0])\n",
    "    tbenc = BatchEncoder(tsampler, batch_size,\n",
    "                         xs_encoder='one_hot')\n",
    "\n",
    "    vsampler = BlockSamplerByFile(vset)\n",
    "    vsampler = ThrSampler(previous_model, vsampler, threshold, cat)\n",
    "    vsampler = RandomSampler(vsampler, rnd_cat='zzz', not_rnd_cat=vset.categories[0])\n",
    "    vbenc = BatchEncoder(vsampler, batch_size,\n",
    "                         xs_encoder='one_hot')\n",
    "\n",
    "    result = RandomTrainer(\n",
    "        model,\n",
    "        batch_size=100,\n",
    "        steps_per_epoch=steps_per_epoch,\n",
    "        validation_steps=steps_per_epoch,\n",
    "        patience=patience,\n",
    "    )._train(tbenc,vbenc)\n",
    "    val_acc = result.history.history['val_categorical_accuracy'][-1]\n",
    "    print('val_acc =', val_acc)\n",
    "#     r.line(category=cat,\n",
    "#            val_acc=val_acc,\n",
    "#            **report.report_elapsed(**result._asdict()),\n",
    "#            **report.report_epochs(**result._asdict()),\n",
    "#           )\n",
    "#     h5_path = os.path.join(result_dir, '%s_pass2.h5' % cat)\n",
    "#     tf.keras.Model.save(model, h5_path)\n",
    "# r.close()"
   ]
  },
  {
   "cell_type": "code",
   "execution_count": 120,
   "metadata": {
    "scrolled": false
   },
   "outputs": [
    {
     "name": "stdout",
     "output_type": "stream",
     "text": [
      "dwf\n",
      "val_acc = 0.8439286\n",
      "pdf\n",
      "val_acc = 0.9260714\n",
      "pps\n",
      "val_acc = 0.9317857\n",
      "gz\n",
      "val_acc = 0.8782143\n",
      "jpg\n",
      "val_acc = 0.9628571\n",
      "pptx\n",
      "val_acc = 0.95785713\n",
      "doc\n",
      "val_acc = 0.96\n",
      "ppt\n",
      "val_acc = 0.9432143\n",
      "kmz\n",
      "val_acc = 0.8371429\n",
      "swf\n",
      "val_acc = 0.9075\n",
      "png\n",
      "val_acc = 0.85\n",
      "gif\n",
      "val_acc = 0.93642855\n"
     ]
    }
   ],
   "source": [
    "if os.path.exists(result_dir + \"/pass2.tsv\"):\n",
    "    os.remove(result_dir + \"/pass2.tsv\")\n",
    "r = Reporter2(result_dir + \"/pass2.tsv\")\n",
    "by_categoryT = rawtset.by_category()\n",
    "by_categoryV = rawvset.by_category()\n",
    "for cat in by_categoryT.keys():\n",
    "    tset = by_categoryT[cat]\n",
    "    vset = by_categoryV[cat]\n",
    "    tset.rebuild_categories(categories=[cat, 'zzz'])\n",
    "    vset.rebuild_categories(categories=[cat, 'zzz'])\n",
    "    if data.set_index('category').loc[cat].val_acc > 0.98:\n",
    "        continue\n",
    "    previous_model = tf.keras.models.load_model(result_dir + '/%s_pass1.h5' % cat)\n",
    "    previous_model._make_predict_function()\n",
    "    model = models.C256_16_16_L128_D(\n",
    "        2, 256, 'softmax', 'categorical_crossentropy')\n",
    "    print(cat)\n",
    "    threshold = 0\n",
    "    batch_size = 100\n",
    "    tsampler = BlockSamplerByFile(tset)\n",
    "    tsampler = ThrSampler(previous_model, tsampler, threshold, cat)\n",
    "    tsampler = RandomSampler(tsampler, rnd_cat='zzz', not_rnd_cat=tset.categories[0])\n",
    "    tbenc = BatchEncoder(tsampler, batch_size,\n",
    "                         xs_encoder='one_hot')\n",
    "\n",
    "    vsampler = BlockSamplerByFile(vset)\n",
    "    vsampler = ThrSampler(previous_model, vsampler, threshold, cat)\n",
    "    vsampler = RandomSampler(vsampler, rnd_cat='zzz', not_rnd_cat=vset.categories[0])\n",
    "    vbenc = BatchEncoder(vsampler, batch_size,\n",
    "                         xs_encoder='one_hot')\n",
    "\n",
    "    result = RandomTrainer(\n",
    "        model,\n",
    "        batch_size=100,\n",
    "        steps_per_epoch=steps_per_epoch,\n",
    "        validation_steps=steps_per_epoch,\n",
    "        patience=patience,\n",
    "    )._train(tbenc,vbenc)\n",
    "    val_acc = result.history.history['val_categorical_accuracy'][-1]\n",
    "    print('val_acc =', val_acc)\n",
    "    r.line(category=cat,\n",
    "           val_acc=val_acc,\n",
    "           **report.report_elapsed(**result._asdict()),\n",
    "           **report.report_epochs(**result._asdict()),\n",
    "          )\n",
    "    h5_path = os.path.join(result_dir, '%s_pass2.h5' % cat)\n",
    "    tf.keras.Model.save(model, h5_path)\n",
    "r.close()"
   ]
  },
  {
   "cell_type": "markdown",
   "metadata": {},
   "source": [
    "# Load pass2 data"
   ]
  },
  {
   "cell_type": "code",
   "execution_count": null,
   "metadata": {},
   "outputs": [],
   "source": [
    "data2 = pd.read_csv(result_dir + \"/pass2.tsv\", sep='\\t')\n",
    "data2 = data2.sort_values('val_acc')\n",
    "data2"
   ]
  },
  {
   "cell_type": "code",
   "execution_count": null,
   "metadata": {},
   "outputs": [],
   "source": [
    "data2.plot.bar('category', ['val_acc'], figsize=(12,4))\n",
    "plt.show()"
   ]
  },
  {
   "cell_type": "markdown",
   "metadata": {},
   "source": [
    "data3 = pd.read_csv(result_dir + \"/pass3.tsv\", sep='\\t')\n",
    "data3 = data3.sort_values('val_acc')\n",
    "data3"
   ]
  },
  {
   "cell_type": "markdown",
   "metadata": {},
   "source": [
    "# Use models to evaluate dataset"
   ]
  },
  {
   "cell_type": "code",
   "execution_count": 12,
   "metadata": {},
   "outputs": [],
   "source": [
    "def rndgen():\n",
    "    while True:\n",
    "        rdata = np.random.randint(0, 256, (100,512), dtype='int')\n",
    "        rdata = one_hot(rdata, 256)\n",
    "        yield rdata"
   ]
  },
  {
   "cell_type": "code",
   "execution_count": 13,
   "metadata": {},
   "outputs": [
    {
     "name": "stdout",
     "output_type": "stream",
     "text": [
      "pptx 0.79 0.97 0.7835051546391752\n",
      "java 1.0 1.0 1.0\n",
      "doc 0.929 0.982 0.9276985743380856\n",
      "csv 1.0 1.0 1.0\n",
      "xml 1.0 1.0 1.0\n",
      "wp 0.999 1.0 0.999\n",
      "ps 0.98 1.0 0.98\n",
      "kml 0.996 1.0 0.996\n",
      "dwf 0.653 0.913 0.619934282584885\n",
      "hlp 1.0 1.0 1.0\n",
      "log 1.0 1.0 1.0\n",
      "txt 0.995 1.0 0.995\n",
      "kmz 0.723 0.99 0.7202020202020202\n",
      "html 1.0 1.0 1.0\n",
      "sql 0.997 1.0 0.997\n",
      "eps 0.999 1.0 0.999\n",
      "ppt 0.89 0.941 0.8831030818278427\n",
      "pps 0.83 0.948 0.820675105485232\n",
      "gz 0.724 0.856 0.6775700934579438\n",
      "jpg 0.918 0.984 0.9166666666666667\n",
      "dbase3 1.0 1.0 1.0\n",
      "gif 0.863 0.991 0.8617558022199798\n",
      "swf 0.634 0.962 0.6195426195426196\n",
      "f 1.0 1.0 1.0\n",
      "png 0.826 0.948 0.8164556962025316\n",
      "xls 0.985 1.0 0.985\n",
      "rtf 1.0 1.0 1.0\n",
      "pdf 0.757 0.972 0.75\n"
     ]
    }
   ],
   "source": [
    "r = Reporter2(result_dir + \"/evaluate.tsv\")\n",
    "by_category = rawset.by_category()\n",
    "for cat, dataset in by_category.items():\n",
    "    model = tf.keras.models.load_model(result_dir + '/%s_pass1.h5' % cat)\n",
    "    tsampler = BlockSamplerByFile(dataset)\n",
    "    tbenc = BatchEncoder(tsampler,\n",
    "                         batch_size=1000,\n",
    "                         xs_encoder='one_hot')\n",
    "    xs, _ = next(iter(tbenc))\n",
    "    datalen = len(xs)\n",
    "    predict = model.predict(xs, batch_size=100)\n",
    "    predict = np.argmax(predict, axis=-1)   \n",
    "    not_random = len(predict[predict==0])/datalen\n",
    "    \n",
    "    predict = model.predict_generator(rndgen(), steps=10)\n",
    "    predict = np.argmax(predict, axis=-1)   \n",
    "    random = len(predict[predict==1])/datalen\n",
    "    \n",
    "    true_not_random = not_random - (1-not_random)*(1-random)/random\n",
    "    \n",
    "    print(cat, not_random, random, true_not_random )\n",
    "    r.line(cat=cat, not_random=not_random, random=random, true_not_random=true_not_random)\n",
    "r.close()"
   ]
  },
  {
   "cell_type": "markdown",
   "metadata": {},
   "source": [
    "# Load evaluation data"
   ]
  },
  {
   "cell_type": "code",
   "execution_count": 14,
   "metadata": {},
   "outputs": [
    {
     "data": {
      "text/html": [
       "<div>\n",
       "<style scoped>\n",
       "    .dataframe tbody tr th:only-of-type {\n",
       "        vertical-align: middle;\n",
       "    }\n",
       "\n",
       "    .dataframe tbody tr th {\n",
       "        vertical-align: top;\n",
       "    }\n",
       "\n",
       "    .dataframe thead th {\n",
       "        text-align: right;\n",
       "    }\n",
       "</style>\n",
       "<table border=\"1\" class=\"dataframe\">\n",
       "  <thead>\n",
       "    <tr style=\"text-align: right;\">\n",
       "      <th></th>\n",
       "      <th>cat</th>\n",
       "      <th>not_random</th>\n",
       "      <th>random</th>\n",
       "      <th>true_not_random</th>\n",
       "    </tr>\n",
       "  </thead>\n",
       "  <tbody>\n",
       "    <tr>\n",
       "      <td>22</td>\n",
       "      <td>swf</td>\n",
       "      <td>0.634</td>\n",
       "      <td>0.962</td>\n",
       "      <td>0.619543</td>\n",
       "    </tr>\n",
       "    <tr>\n",
       "      <td>8</td>\n",
       "      <td>dwf</td>\n",
       "      <td>0.653</td>\n",
       "      <td>0.913</td>\n",
       "      <td>0.619934</td>\n",
       "    </tr>\n",
       "    <tr>\n",
       "      <td>18</td>\n",
       "      <td>gz</td>\n",
       "      <td>0.724</td>\n",
       "      <td>0.856</td>\n",
       "      <td>0.677570</td>\n",
       "    </tr>\n",
       "    <tr>\n",
       "      <td>12</td>\n",
       "      <td>kmz</td>\n",
       "      <td>0.723</td>\n",
       "      <td>0.990</td>\n",
       "      <td>0.720202</td>\n",
       "    </tr>\n",
       "    <tr>\n",
       "      <td>27</td>\n",
       "      <td>pdf</td>\n",
       "      <td>0.757</td>\n",
       "      <td>0.972</td>\n",
       "      <td>0.750000</td>\n",
       "    </tr>\n",
       "    <tr>\n",
       "      <td>0</td>\n",
       "      <td>pptx</td>\n",
       "      <td>0.790</td>\n",
       "      <td>0.970</td>\n",
       "      <td>0.783505</td>\n",
       "    </tr>\n",
       "    <tr>\n",
       "      <td>24</td>\n",
       "      <td>png</td>\n",
       "      <td>0.826</td>\n",
       "      <td>0.948</td>\n",
       "      <td>0.816456</td>\n",
       "    </tr>\n",
       "    <tr>\n",
       "      <td>17</td>\n",
       "      <td>pps</td>\n",
       "      <td>0.830</td>\n",
       "      <td>0.948</td>\n",
       "      <td>0.820675</td>\n",
       "    </tr>\n",
       "    <tr>\n",
       "      <td>21</td>\n",
       "      <td>gif</td>\n",
       "      <td>0.863</td>\n",
       "      <td>0.991</td>\n",
       "      <td>0.861756</td>\n",
       "    </tr>\n",
       "    <tr>\n",
       "      <td>16</td>\n",
       "      <td>ppt</td>\n",
       "      <td>0.890</td>\n",
       "      <td>0.941</td>\n",
       "      <td>0.883103</td>\n",
       "    </tr>\n",
       "    <tr>\n",
       "      <td>19</td>\n",
       "      <td>jpg</td>\n",
       "      <td>0.918</td>\n",
       "      <td>0.984</td>\n",
       "      <td>0.916667</td>\n",
       "    </tr>\n",
       "    <tr>\n",
       "      <td>2</td>\n",
       "      <td>doc</td>\n",
       "      <td>0.929</td>\n",
       "      <td>0.982</td>\n",
       "      <td>0.927699</td>\n",
       "    </tr>\n",
       "    <tr>\n",
       "      <td>6</td>\n",
       "      <td>ps</td>\n",
       "      <td>0.980</td>\n",
       "      <td>1.000</td>\n",
       "      <td>0.980000</td>\n",
       "    </tr>\n",
       "    <tr>\n",
       "      <td>25</td>\n",
       "      <td>xls</td>\n",
       "      <td>0.985</td>\n",
       "      <td>1.000</td>\n",
       "      <td>0.985000</td>\n",
       "    </tr>\n",
       "    <tr>\n",
       "      <td>11</td>\n",
       "      <td>txt</td>\n",
       "      <td>0.995</td>\n",
       "      <td>1.000</td>\n",
       "      <td>0.995000</td>\n",
       "    </tr>\n",
       "    <tr>\n",
       "      <td>7</td>\n",
       "      <td>kml</td>\n",
       "      <td>0.996</td>\n",
       "      <td>1.000</td>\n",
       "      <td>0.996000</td>\n",
       "    </tr>\n",
       "    <tr>\n",
       "      <td>14</td>\n",
       "      <td>sql</td>\n",
       "      <td>0.997</td>\n",
       "      <td>1.000</td>\n",
       "      <td>0.997000</td>\n",
       "    </tr>\n",
       "    <tr>\n",
       "      <td>15</td>\n",
       "      <td>eps</td>\n",
       "      <td>0.999</td>\n",
       "      <td>1.000</td>\n",
       "      <td>0.999000</td>\n",
       "    </tr>\n",
       "    <tr>\n",
       "      <td>5</td>\n",
       "      <td>wp</td>\n",
       "      <td>0.999</td>\n",
       "      <td>1.000</td>\n",
       "      <td>0.999000</td>\n",
       "    </tr>\n",
       "    <tr>\n",
       "      <td>26</td>\n",
       "      <td>rtf</td>\n",
       "      <td>1.000</td>\n",
       "      <td>1.000</td>\n",
       "      <td>1.000000</td>\n",
       "    </tr>\n",
       "    <tr>\n",
       "      <td>10</td>\n",
       "      <td>log</td>\n",
       "      <td>1.000</td>\n",
       "      <td>1.000</td>\n",
       "      <td>1.000000</td>\n",
       "    </tr>\n",
       "    <tr>\n",
       "      <td>9</td>\n",
       "      <td>hlp</td>\n",
       "      <td>1.000</td>\n",
       "      <td>1.000</td>\n",
       "      <td>1.000000</td>\n",
       "    </tr>\n",
       "    <tr>\n",
       "      <td>20</td>\n",
       "      <td>dbase3</td>\n",
       "      <td>1.000</td>\n",
       "      <td>1.000</td>\n",
       "      <td>1.000000</td>\n",
       "    </tr>\n",
       "    <tr>\n",
       "      <td>4</td>\n",
       "      <td>xml</td>\n",
       "      <td>1.000</td>\n",
       "      <td>1.000</td>\n",
       "      <td>1.000000</td>\n",
       "    </tr>\n",
       "    <tr>\n",
       "      <td>1</td>\n",
       "      <td>java</td>\n",
       "      <td>1.000</td>\n",
       "      <td>1.000</td>\n",
       "      <td>1.000000</td>\n",
       "    </tr>\n",
       "    <tr>\n",
       "      <td>23</td>\n",
       "      <td>f</td>\n",
       "      <td>1.000</td>\n",
       "      <td>1.000</td>\n",
       "      <td>1.000000</td>\n",
       "    </tr>\n",
       "    <tr>\n",
       "      <td>3</td>\n",
       "      <td>csv</td>\n",
       "      <td>1.000</td>\n",
       "      <td>1.000</td>\n",
       "      <td>1.000000</td>\n",
       "    </tr>\n",
       "    <tr>\n",
       "      <td>13</td>\n",
       "      <td>html</td>\n",
       "      <td>1.000</td>\n",
       "      <td>1.000</td>\n",
       "      <td>1.000000</td>\n",
       "    </tr>\n",
       "  </tbody>\n",
       "</table>\n",
       "</div>"
      ],
      "text/plain": [
       "       cat  not_random  random  true_not_random\n",
       "22     swf       0.634   0.962         0.619543\n",
       "8      dwf       0.653   0.913         0.619934\n",
       "18      gz       0.724   0.856         0.677570\n",
       "12     kmz       0.723   0.990         0.720202\n",
       "27     pdf       0.757   0.972         0.750000\n",
       "0     pptx       0.790   0.970         0.783505\n",
       "24     png       0.826   0.948         0.816456\n",
       "17     pps       0.830   0.948         0.820675\n",
       "21     gif       0.863   0.991         0.861756\n",
       "16     ppt       0.890   0.941         0.883103\n",
       "19     jpg       0.918   0.984         0.916667\n",
       "2      doc       0.929   0.982         0.927699\n",
       "6       ps       0.980   1.000         0.980000\n",
       "25     xls       0.985   1.000         0.985000\n",
       "11     txt       0.995   1.000         0.995000\n",
       "7      kml       0.996   1.000         0.996000\n",
       "14     sql       0.997   1.000         0.997000\n",
       "15     eps       0.999   1.000         0.999000\n",
       "5       wp       0.999   1.000         0.999000\n",
       "26     rtf       1.000   1.000         1.000000\n",
       "10     log       1.000   1.000         1.000000\n",
       "9      hlp       1.000   1.000         1.000000\n",
       "20  dbase3       1.000   1.000         1.000000\n",
       "4      xml       1.000   1.000         1.000000\n",
       "1     java       1.000   1.000         1.000000\n",
       "23       f       1.000   1.000         1.000000\n",
       "3      csv       1.000   1.000         1.000000\n",
       "13    html       1.000   1.000         1.000000"
      ]
     },
     "execution_count": 14,
     "metadata": {},
     "output_type": "execute_result"
    }
   ],
   "source": [
    "data3 = pd.read_csv(result_dir + \"/evaluate.tsv\", sep='\\t')\n",
    "data3 = data3.sort_values('true_not_random')\n",
    "data3"
   ]
  },
  {
   "cell_type": "code",
   "execution_count": 15,
   "metadata": {},
   "outputs": [
    {
     "data": {
      "image/png": "[encoded data removed]",
      "text/plain": [
       "<Figure size 864x288 with 1 Axes>"
      ]
     },
     "metadata": {},
     "output_type": "display_data"
    }
   ],
   "source": [
    "from matplotlib.ticker import MultipleLocator\n",
    "fig, ax = plt.subplots(figsize=(12,4))\n",
    "ax.yaxis.set_minor_locator(MultipleLocator(0.1))\n",
    "# plt.grid(linestyle='--', which='minor')\n",
    "ax.bar(data3['cat'], data3['true_not_random'], fill=False)\n",
    "plt.xticks(rotation='vertical')\n",
    "ax.tick_params(labelsize=14)\n",
    "for i in range(28):\n",
    "    cat = rawset.ix_to_cat[i]\n",
    "    v = data3.iloc[i,3]\n",
    "    t = ax.annotate('%0.2f'%v, (i-0.3, v-0.06),fontsize=14)\n",
    "    t.set_rotation(90)\n",
    "# data3.plot.bar('cat', ['not_random'], figsize=(12,4))\n",
    "# plt.show()"
   ]
  },
  {
   "cell_type": "code",
   "execution_count": 16,
   "metadata": {},
   "outputs": [
    {
     "data": {
      "text/plain": [
       "not_random         0.910286\n",
       "random             0.980607\n",
       "true_not_random    0.905290\n",
       "dtype: float64"
      ]
     },
     "execution_count": 16,
     "metadata": {},
     "output_type": "execute_result"
    }
   ],
   "source": [
    "data3.mean()"
   ]
  },
  {
   "cell_type": "code",
   "execution_count": 17,
   "metadata": {},
   "outputs": [
    {
     "data": {
      "text/plain": [
       "0.09471038938689347"
      ]
     },
     "execution_count": 17,
     "metadata": {},
     "output_type": "execute_result"
    }
   ],
   "source": [
    "1-np.sum(data3['true_not_random'])/28"
   ]
  },
  {
   "cell_type": "code",
   "execution_count": null,
   "metadata": {},
   "outputs": [],
   "source": [
    "1-(np.sum(data3['true_not_random'])+(1-0.62))/28"
   ]
  },
  {
   "cell_type": "markdown",
   "metadata": {},
   "source": [
    "# Roc pass1"
   ]
  },
  {
   "cell_type": "code",
   "execution_count": 19,
   "metadata": {},
   "outputs": [],
   "source": [
    "from sklearn.metrics import roc_curve, auc"
   ]
  },
  {
   "cell_type": "code",
   "execution_count": 54,
   "metadata": {},
   "outputs": [],
   "source": [
    "by_category = rawset.by_category()\n",
    "cat = 'jpg'\n",
    "dataset = by_category[cat]\n",
    "dataset.rebuild_categories(categories=['jpg', 'zzz'])\n",
    "\n",
    "model = tf.keras.models.load_model(result_dir + '/%s_pass1.h5' % cat)"
   ]
  },
  {
   "cell_type": "code",
   "execution_count": 56,
   "metadata": {},
   "outputs": [],
   "source": [
    "tsampler = BlockSamplerByFile(dataset)\n",
    "tsampler = RandomSampler(tsampler, rnd_cat='zzz', not_rnd_cat='jpg')\n",
    "\n",
    "tbenc = BatchEncoder(tsampler,\n",
    "                     batch_size=1000,\n",
    "                     xs_encoder='one_hot')\n",
    "xs, ys = next(iter(tbenc))"
   ]
  },
  {
   "cell_type": "code",
   "execution_count": 58,
   "metadata": {},
   "outputs": [],
   "source": [
    "datalen = len(xs)\n",
    "predict = model.predict(xs, batch_size=100)\n",
    "# predict = np.argmax(predict, axis=-1)"
   ]
  },
  {
   "cell_type": "code",
   "execution_count": 103,
   "metadata": {},
   "outputs": [
    {
     "name": "stdout",
     "output_type": "stream",
     "text": [
      "398 1000\n"
     ]
    },
    {
     "data": {
      "text/plain": [
       "(array([0., 0., 0., 0., 0., 0., 0., 0., 0., 0., 0., 0., 0., 0., 0., 0., 0.,\n",
       "        0., 0., 0., 0., 0., 0., 0., 0., 0., 1., 1., 1., 1.]),\n",
       " array([0.        , 0.00251889, 0.00755668, 0.02267003, 0.02770781,\n",
       "        0.03274559, 0.04030227, 0.18891688, 0.19395466, 0.19647355,\n",
       "        0.20151134, 0.22166247, 0.22670025, 0.25440806, 0.25944584,\n",
       "        0.29722922, 0.302267  , 0.37783375, 0.38287154, 0.44836272,\n",
       "        0.4534005 , 0.49874055, 0.50377834, 0.56423174, 0.56926952,\n",
       "        0.89672544, 0.89672544, 0.98236776, 0.98992443, 1.        ]),\n",
       " array([1.9999855 , 0.99998546, 0.99997854, 0.99996954, 0.99996406,\n",
       "        0.999963  , 0.99996257, 0.999533  , 0.9995152 , 0.9995057 ,\n",
       "        0.99950325, 0.99945015, 0.9994372 , 0.99928933, 0.99926233,\n",
       "        0.99899954, 0.9989979 , 0.99840575, 0.9983667 , 0.99763834,\n",
       "        0.9975625 , 0.9968842 , 0.99686205, 0.99587834, 0.9958757 ,\n",
       "        0.9588917 , 0.95861906, 0.91176224, 0.9105648 , 0.9019231 ],\n",
       "       dtype=float32))"
      ]
     },
     "execution_count": 103,
     "metadata": {},
     "output_type": "execute_result"
    }
   ],
   "source": [
    "score = predict[:,0]-predict[:,1]\n",
    "mask = score > 0.9\n",
    "print(len(score[mask]), len(score))\n",
    "fpr, tpr, thresholds = roc_curve(ys[:,0][mask], score[mask])\n",
    "mask = thresholds > 0\n",
    "fpr[mask], tpr[mask], thresholds[mask]"
   ]
  },
  {
   "cell_type": "code",
   "execution_count": 98,
   "metadata": {},
   "outputs": [
    {
     "data": {
      "text/plain": [
       "[<matplotlib.lines.Line2D at 0x7f86ca63d160>]"
      ]
     },
     "execution_count": 98,
     "metadata": {},
     "output_type": "execute_result"
    },
    {
     "data": {
      "image/png": "[encoded data removed]",
      "text/plain": [
       "<Figure size 432x288 with 1 Axes>"
      ]
     },
     "metadata": {},
     "output_type": "display_data"
    }
   ],
   "source": [
    "plt.plot(fpr, tpr)"
   ]
  },
  {
   "cell_type": "code",
   "execution_count": 90,
   "metadata": {},
   "outputs": [
    {
     "data": {
      "text/plain": [
       "(array([472.,  23.,  11.,  11.,  11.,   5.,   9.,   9.,  27., 422.]),\n",
       " array([-9.9984813e-01, -7.9986477e-01, -5.9988141e-01, -3.9989805e-01,\n",
       "        -1.9991469e-01,  6.8664551e-05,  2.0005202e-01,  4.0003538e-01,\n",
       "         6.0001874e-01,  8.0000210e-01,  9.9998546e-01], dtype=float32),\n",
       " <a list of 10 Patch objects>)"
      ]
     },
     "execution_count": 90,
     "metadata": {},
     "output_type": "execute_result"
    },
    {
     "data": {
      "image/png": "[encoded data removed]",
      "text/plain": [
       "<Figure size 432x288 with 1 Axes>"
      ]
     },
     "metadata": {},
     "output_type": "display_data"
    }
   ],
   "source": [
    "plt.hist(predict[:,0]-predict[:,1])"
   ]
  },
  {
   "cell_type": "markdown",
   "metadata": {},
   "source": [
    "# Use models to evaluate dataset - using pass2"
   ]
  },
  {
   "cell_type": "code",
   "execution_count": 12,
   "metadata": {},
   "outputs": [],
   "source": [
    "def rndgen():\n",
    "    while True:\n",
    "        rdata = np.random.randint(0, 256, (100,512), dtype='int')\n",
    "        rdata = one_hot(rdata, 256)\n",
    "        yield rdata"
   ]
  },
  {
   "cell_type": "code",
   "execution_count": 112,
   "metadata": {},
   "outputs": [
    {
     "name": "stdout",
     "output_type": "stream",
     "text": [
      "pptx 0.49619289340101524 0.983 0.4874800543245323\n",
      "java 1.0 1.0 1.0\n",
      "doc 0.9335476956055734 0.997 0.9333477388220395\n",
      "csv 1.0 1.0 1.0\n",
      "xml 0.999 1.0 0.999\n",
      "wp 0.998 1.0 0.998\n",
      "ps 0.98 1.0 0.98\n"
     ]
    },
    {
     "ename": "KeyboardInterrupt",
     "evalue": "",
     "output_type": "error",
     "traceback": [
      "\u001b[0;31m---------------------------------------------------------------------------\u001b[0m",
      "\u001b[0;31mKeyboardInterrupt\u001b[0m                         Traceback (most recent call last)",
      "\u001b[0;32m<ipython-input-112-6b34297c48de>\u001b[0m in \u001b[0;36m<module>\u001b[0;34m()\u001b[0m\n\u001b[1;32m      4\u001b[0m \u001b[0mby_category\u001b[0m \u001b[0;34m=\u001b[0m \u001b[0mrawset\u001b[0m\u001b[0;34m.\u001b[0m\u001b[0mby_category\u001b[0m\u001b[0;34m(\u001b[0m\u001b[0;34m)\u001b[0m\u001b[0;34m\u001b[0m\u001b[0m\n\u001b[1;32m      5\u001b[0m \u001b[0;32mfor\u001b[0m \u001b[0mcat\u001b[0m\u001b[0;34m,\u001b[0m \u001b[0mdataset\u001b[0m \u001b[0;32min\u001b[0m \u001b[0mby_category\u001b[0m\u001b[0;34m.\u001b[0m\u001b[0mitems\u001b[0m\u001b[0;34m(\u001b[0m\u001b[0;34m)\u001b[0m\u001b[0;34m:\u001b[0m\u001b[0;34m\u001b[0m\u001b[0m\n\u001b[0;32m----> 6\u001b[0;31m     \u001b[0mmodel1\u001b[0m \u001b[0;34m=\u001b[0m \u001b[0mtf\u001b[0m\u001b[0;34m.\u001b[0m\u001b[0mkeras\u001b[0m\u001b[0;34m.\u001b[0m\u001b[0mmodels\u001b[0m\u001b[0;34m.\u001b[0m\u001b[0mload_model\u001b[0m\u001b[0;34m(\u001b[0m\u001b[0mresult_dir\u001b[0m \u001b[0;34m+\u001b[0m \u001b[0;34m'/%s_pass1.h5'\u001b[0m \u001b[0;34m%\u001b[0m \u001b[0mcat\u001b[0m\u001b[0;34m)\u001b[0m\u001b[0;34m\u001b[0m\u001b[0m\n\u001b[0m\u001b[1;32m      7\u001b[0m     \u001b[0mtsampler\u001b[0m \u001b[0;34m=\u001b[0m \u001b[0mBlockSamplerByFile\u001b[0m\u001b[0;34m(\u001b[0m\u001b[0mdataset\u001b[0m\u001b[0;34m)\u001b[0m\u001b[0;34m\u001b[0m\u001b[0m\n\u001b[1;32m      8\u001b[0m     tbenc = BatchEncoder(tsampler,\n",
      "\u001b[0;32m~/.local/lib/python3.6/site-packages/tensorflow/python/keras/saving/save.py\u001b[0m in \u001b[0;36mload_model\u001b[0;34m(filepath, custom_objects, compile)\u001b[0m\n\u001b[1;32m    144\u001b[0m       h5py is not None and (\n\u001b[1;32m    145\u001b[0m           isinstance(filepath, h5py.File) or h5py.is_hdf5(filepath))):\n\u001b[0;32m--> 146\u001b[0;31m     \u001b[0;32mreturn\u001b[0m \u001b[0mhdf5_format\u001b[0m\u001b[0;34m.\u001b[0m\u001b[0mload_model_from_hdf5\u001b[0m\u001b[0;34m(\u001b[0m\u001b[0mfilepath\u001b[0m\u001b[0;34m,\u001b[0m \u001b[0mcustom_objects\u001b[0m\u001b[0;34m,\u001b[0m \u001b[0mcompile\u001b[0m\u001b[0;34m)\u001b[0m\u001b[0;34m\u001b[0m\u001b[0m\n\u001b[0m\u001b[1;32m    147\u001b[0m \u001b[0;34m\u001b[0m\u001b[0m\n\u001b[1;32m    148\u001b[0m   \u001b[0;32mif\u001b[0m \u001b[0misinstance\u001b[0m\u001b[0;34m(\u001b[0m\u001b[0mfilepath\u001b[0m\u001b[0;34m,\u001b[0m \u001b[0msix\u001b[0m\u001b[0;34m.\u001b[0m\u001b[0mstring_types\u001b[0m\u001b[0;34m)\u001b[0m\u001b[0;34m:\u001b[0m\u001b[0;34m\u001b[0m\u001b[0m\n",
      "\u001b[0;32m~/.local/lib/python3.6/site-packages/tensorflow/python/keras/saving/hdf5_format.py\u001b[0m in \u001b[0;36mload_model_from_hdf5\u001b[0;34m(filepath, custom_objects, compile)\u001b[0m\n\u001b[1;32m    254\u001b[0m           \u001b[0moptimizer_weight_values\u001b[0m \u001b[0;34m=\u001b[0m \u001b[0mload_optimizer_weights_from_hdf5_group\u001b[0m\u001b[0;34m(\u001b[0m\u001b[0mf\u001b[0m\u001b[0;34m)\u001b[0m\u001b[0;34m\u001b[0m\u001b[0m\n\u001b[1;32m    255\u001b[0m           \u001b[0;32mtry\u001b[0m\u001b[0;34m:\u001b[0m\u001b[0;34m\u001b[0m\u001b[0m\n\u001b[0;32m--> 256\u001b[0;31m             \u001b[0mmodel\u001b[0m\u001b[0;34m.\u001b[0m\u001b[0moptimizer\u001b[0m\u001b[0;34m.\u001b[0m\u001b[0mset_weights\u001b[0m\u001b[0;34m(\u001b[0m\u001b[0moptimizer_weight_values\u001b[0m\u001b[0;34m)\u001b[0m\u001b[0;34m\u001b[0m\u001b[0m\n\u001b[0m\u001b[1;32m    257\u001b[0m           \u001b[0;32mexcept\u001b[0m \u001b[0mValueError\u001b[0m\u001b[0;34m:\u001b[0m\u001b[0;34m\u001b[0m\u001b[0m\n\u001b[1;32m    258\u001b[0m             logging.warning('Error in loading the saved optimizer '\n",
      "\u001b[0;32m~/.local/lib/python3.6/site-packages/tensorflow/python/keras/optimizer_v2/adam.py\u001b[0m in \u001b[0;36mset_weights\u001b[0;34m(self, weights)\u001b[0m\n\u001b[1;32m    158\u001b[0m     \u001b[0;32mif\u001b[0m \u001b[0mlen\u001b[0m\u001b[0;34m(\u001b[0m\u001b[0mweights\u001b[0m\u001b[0;34m)\u001b[0m \u001b[0;34m==\u001b[0m \u001b[0;36m3\u001b[0m \u001b[0;34m*\u001b[0m \u001b[0mnum_vars\u001b[0m \u001b[0;34m+\u001b[0m \u001b[0;36m1\u001b[0m\u001b[0;34m:\u001b[0m\u001b[0;34m\u001b[0m\u001b[0m\n\u001b[1;32m    159\u001b[0m       \u001b[0mweights\u001b[0m \u001b[0;34m=\u001b[0m \u001b[0mweights\u001b[0m\u001b[0;34m[\u001b[0m\u001b[0;34m:\u001b[0m\u001b[0mlen\u001b[0m\u001b[0;34m(\u001b[0m\u001b[0mparams\u001b[0m\u001b[0;34m)\u001b[0m\u001b[0;34m]\u001b[0m\u001b[0;34m\u001b[0m\u001b[0m\n\u001b[0;32m--> 160\u001b[0;31m     \u001b[0msuper\u001b[0m\u001b[0;34m(\u001b[0m\u001b[0mAdam\u001b[0m\u001b[0;34m,\u001b[0m \u001b[0mself\u001b[0m\u001b[0;34m)\u001b[0m\u001b[0;34m.\u001b[0m\u001b[0mset_weights\u001b[0m\u001b[0;34m(\u001b[0m\u001b[0mweights\u001b[0m\u001b[0;34m)\u001b[0m\u001b[0;34m\u001b[0m\u001b[0m\n\u001b[0m\u001b[1;32m    161\u001b[0m \u001b[0;34m\u001b[0m\u001b[0m\n\u001b[1;32m    162\u001b[0m   \u001b[0;32mdef\u001b[0m \u001b[0m_resource_apply_dense\u001b[0m\u001b[0;34m(\u001b[0m\u001b[0mself\u001b[0m\u001b[0;34m,\u001b[0m \u001b[0mgrad\u001b[0m\u001b[0;34m,\u001b[0m \u001b[0mvar\u001b[0m\u001b[0;34m)\u001b[0m\u001b[0;34m:\u001b[0m\u001b[0;34m\u001b[0m\u001b[0m\n",
      "\u001b[0;32m~/.local/lib/python3.6/site-packages/tensorflow/python/keras/optimizer_v2/optimizer_v2.py\u001b[0m in \u001b[0;36mset_weights\u001b[0;34m(self, weights)\u001b[0m\n\u001b[1;32m    722\u001b[0m       \u001b[0;32mreturn\u001b[0m\u001b[0;34m\u001b[0m\u001b[0m\n\u001b[1;32m    723\u001b[0m     \u001b[0mweight_value_tuples\u001b[0m \u001b[0;34m=\u001b[0m \u001b[0;34m[\u001b[0m\u001b[0;34m]\u001b[0m\u001b[0;34m\u001b[0m\u001b[0m\n\u001b[0;32m--> 724\u001b[0;31m     \u001b[0mparam_values\u001b[0m \u001b[0;34m=\u001b[0m \u001b[0mbackend\u001b[0m\u001b[0;34m.\u001b[0m\u001b[0mbatch_get_value\u001b[0m\u001b[0;34m(\u001b[0m\u001b[0mparams\u001b[0m\u001b[0;34m)\u001b[0m\u001b[0;34m\u001b[0m\u001b[0m\n\u001b[0m\u001b[1;32m    725\u001b[0m     \u001b[0;32mfor\u001b[0m \u001b[0mpv\u001b[0m\u001b[0;34m,\u001b[0m \u001b[0mp\u001b[0m\u001b[0;34m,\u001b[0m \u001b[0mw\u001b[0m \u001b[0;32min\u001b[0m \u001b[0mzip\u001b[0m\u001b[0;34m(\u001b[0m\u001b[0mparam_values\u001b[0m\u001b[0;34m,\u001b[0m \u001b[0mparams\u001b[0m\u001b[0;34m,\u001b[0m \u001b[0mweights\u001b[0m\u001b[0;34m)\u001b[0m\u001b[0;34m:\u001b[0m\u001b[0;34m\u001b[0m\u001b[0m\n\u001b[1;32m    726\u001b[0m       \u001b[0;32mif\u001b[0m \u001b[0mpv\u001b[0m\u001b[0;34m.\u001b[0m\u001b[0mshape\u001b[0m \u001b[0;34m!=\u001b[0m \u001b[0mw\u001b[0m\u001b[0;34m.\u001b[0m\u001b[0mshape\u001b[0m\u001b[0;34m:\u001b[0m\u001b[0;34m\u001b[0m\u001b[0m\n",
      "\u001b[0;32m~/.local/lib/python3.6/site-packages/tensorflow/python/keras/backend.py\u001b[0m in \u001b[0;36mbatch_get_value\u001b[0;34m(tensors)\u001b[0m\n\u001b[1;32m   3008\u001b[0m     \u001b[0;32mraise\u001b[0m \u001b[0mRuntimeError\u001b[0m\u001b[0;34m(\u001b[0m\u001b[0;34m'Cannot get value inside Tensorflow graph function.'\u001b[0m\u001b[0;34m)\u001b[0m\u001b[0;34m\u001b[0m\u001b[0m\n\u001b[1;32m   3009\u001b[0m   \u001b[0;32mif\u001b[0m \u001b[0mtensors\u001b[0m\u001b[0;34m:\u001b[0m\u001b[0;34m\u001b[0m\u001b[0m\n\u001b[0;32m-> 3010\u001b[0;31m     \u001b[0;32mreturn\u001b[0m \u001b[0mget_session\u001b[0m\u001b[0;34m(\u001b[0m\u001b[0mtensors\u001b[0m\u001b[0;34m)\u001b[0m\u001b[0;34m.\u001b[0m\u001b[0mrun\u001b[0m\u001b[0;34m(\u001b[0m\u001b[0mtensors\u001b[0m\u001b[0;34m)\u001b[0m\u001b[0;34m\u001b[0m\u001b[0m\n\u001b[0m\u001b[1;32m   3011\u001b[0m   \u001b[0;32melse\u001b[0m\u001b[0;34m:\u001b[0m\u001b[0;34m\u001b[0m\u001b[0m\n\u001b[1;32m   3012\u001b[0m     \u001b[0;32mreturn\u001b[0m \u001b[0;34m[\u001b[0m\u001b[0;34m]\u001b[0m\u001b[0;34m\u001b[0m\u001b[0m\n",
      "\u001b[0;32m~/.local/lib/python3.6/site-packages/tensorflow/python/keras/backend.py\u001b[0m in \u001b[0;36mget_session\u001b[0;34m(op_input_list)\u001b[0m\n\u001b[1;32m    460\u001b[0m   \u001b[0;32mif\u001b[0m \u001b[0;32mnot\u001b[0m \u001b[0m_MANUAL_VAR_INIT\u001b[0m\u001b[0;34m:\u001b[0m\u001b[0;34m\u001b[0m\u001b[0m\n\u001b[1;32m    461\u001b[0m     \u001b[0;32mwith\u001b[0m \u001b[0msession\u001b[0m\u001b[0;34m.\u001b[0m\u001b[0mgraph\u001b[0m\u001b[0;34m.\u001b[0m\u001b[0mas_default\u001b[0m\u001b[0;34m(\u001b[0m\u001b[0;34m)\u001b[0m\u001b[0;34m:\u001b[0m\u001b[0;34m\u001b[0m\u001b[0m\n\u001b[0;32m--> 462\u001b[0;31m       \u001b[0m_initialize_variables\u001b[0m\u001b[0;34m(\u001b[0m\u001b[0msession\u001b[0m\u001b[0;34m)\u001b[0m\u001b[0;34m\u001b[0m\u001b[0m\n\u001b[0m\u001b[1;32m    463\u001b[0m   \u001b[0;32mreturn\u001b[0m \u001b[0msession\u001b[0m\u001b[0;34m\u001b[0m\u001b[0m\n\u001b[1;32m    464\u001b[0m \u001b[0;34m\u001b[0m\u001b[0m\n",
      "\u001b[0;32m~/.local/lib/python3.6/site-packages/tensorflow/python/keras/backend.py\u001b[0m in \u001b[0;36m_initialize_variables\u001b[0;34m(session)\u001b[0m\n\u001b[1;32m    884\u001b[0m       \u001b[0mv\u001b[0m\u001b[0;34m.\u001b[0m\u001b[0m_keras_initialized\u001b[0m \u001b[0;34m=\u001b[0m \u001b[0;32mTrue\u001b[0m\u001b[0;34m\u001b[0m\u001b[0m\n\u001b[1;32m    885\u001b[0m     \u001b[0;32mif\u001b[0m \u001b[0muninitialized_vars\u001b[0m\u001b[0;34m:\u001b[0m\u001b[0;34m\u001b[0m\u001b[0m\n\u001b[0;32m--> 886\u001b[0;31m       \u001b[0msession\u001b[0m\u001b[0;34m.\u001b[0m\u001b[0mrun\u001b[0m\u001b[0;34m(\u001b[0m\u001b[0mvariables_module\u001b[0m\u001b[0;34m.\u001b[0m\u001b[0mvariables_initializer\u001b[0m\u001b[0;34m(\u001b[0m\u001b[0muninitialized_vars\u001b[0m\u001b[0;34m)\u001b[0m\u001b[0;34m)\u001b[0m\u001b[0;34m\u001b[0m\u001b[0m\n\u001b[0m\u001b[1;32m    887\u001b[0m \u001b[0;34m\u001b[0m\u001b[0m\n\u001b[1;32m    888\u001b[0m \u001b[0;34m\u001b[0m\u001b[0m\n",
      "\u001b[0;32m~/.local/lib/python3.6/site-packages/tensorflow/python/client/session.py\u001b[0m in \u001b[0;36mrun\u001b[0;34m(self, fetches, feed_dict, options, run_metadata)\u001b[0m\n\u001b[1;32m    948\u001b[0m     \u001b[0;32mtry\u001b[0m\u001b[0;34m:\u001b[0m\u001b[0;34m\u001b[0m\u001b[0m\n\u001b[1;32m    949\u001b[0m       result = self._run(None, fetches, feed_dict, options_ptr,\n\u001b[0;32m--> 950\u001b[0;31m                          run_metadata_ptr)\n\u001b[0m\u001b[1;32m    951\u001b[0m       \u001b[0;32mif\u001b[0m \u001b[0mrun_metadata\u001b[0m\u001b[0;34m:\u001b[0m\u001b[0;34m\u001b[0m\u001b[0m\n\u001b[1;32m    952\u001b[0m         \u001b[0mproto_data\u001b[0m \u001b[0;34m=\u001b[0m \u001b[0mtf_session\u001b[0m\u001b[0;34m.\u001b[0m\u001b[0mTF_GetBuffer\u001b[0m\u001b[0;34m(\u001b[0m\u001b[0mrun_metadata_ptr\u001b[0m\u001b[0;34m)\u001b[0m\u001b[0;34m\u001b[0m\u001b[0m\n",
      "\u001b[0;32m~/.local/lib/python3.6/site-packages/tensorflow/python/client/session.py\u001b[0m in \u001b[0;36m_run\u001b[0;34m(self, handle, fetches, feed_dict, options, run_metadata)\u001b[0m\n\u001b[1;32m   1171\u001b[0m     \u001b[0;32mif\u001b[0m \u001b[0mfinal_fetches\u001b[0m \u001b[0;32mor\u001b[0m \u001b[0mfinal_targets\u001b[0m \u001b[0;32mor\u001b[0m \u001b[0;34m(\u001b[0m\u001b[0mhandle\u001b[0m \u001b[0;32mand\u001b[0m \u001b[0mfeed_dict_tensor\u001b[0m\u001b[0;34m)\u001b[0m\u001b[0;34m:\u001b[0m\u001b[0;34m\u001b[0m\u001b[0m\n\u001b[1;32m   1172\u001b[0m       results = self._do_run(handle, final_targets, final_fetches,\n\u001b[0;32m-> 1173\u001b[0;31m                              feed_dict_tensor, options, run_metadata)\n\u001b[0m\u001b[1;32m   1174\u001b[0m     \u001b[0;32melse\u001b[0m\u001b[0;34m:\u001b[0m\u001b[0;34m\u001b[0m\u001b[0m\n\u001b[1;32m   1175\u001b[0m       \u001b[0mresults\u001b[0m \u001b[0;34m=\u001b[0m \u001b[0;34m[\u001b[0m\u001b[0;34m]\u001b[0m\u001b[0;34m\u001b[0m\u001b[0m\n",
      "\u001b[0;32m~/.local/lib/python3.6/site-packages/tensorflow/python/client/session.py\u001b[0m in \u001b[0;36m_do_run\u001b[0;34m(self, handle, target_list, fetch_list, feed_dict, options, run_metadata)\u001b[0m\n\u001b[1;32m   1348\u001b[0m     \u001b[0;32mif\u001b[0m \u001b[0mhandle\u001b[0m \u001b[0;32mis\u001b[0m \u001b[0;32mNone\u001b[0m\u001b[0;34m:\u001b[0m\u001b[0;34m\u001b[0m\u001b[0m\n\u001b[1;32m   1349\u001b[0m       return self._do_call(_run_fn, feeds, fetches, targets, options,\n\u001b[0;32m-> 1350\u001b[0;31m                            run_metadata)\n\u001b[0m\u001b[1;32m   1351\u001b[0m     \u001b[0;32melse\u001b[0m\u001b[0;34m:\u001b[0m\u001b[0;34m\u001b[0m\u001b[0m\n\u001b[1;32m   1352\u001b[0m       \u001b[0;32mreturn\u001b[0m \u001b[0mself\u001b[0m\u001b[0;34m.\u001b[0m\u001b[0m_do_call\u001b[0m\u001b[0;34m(\u001b[0m\u001b[0m_prun_fn\u001b[0m\u001b[0;34m,\u001b[0m \u001b[0mhandle\u001b[0m\u001b[0;34m,\u001b[0m \u001b[0mfeeds\u001b[0m\u001b[0;34m,\u001b[0m \u001b[0mfetches\u001b[0m\u001b[0;34m)\u001b[0m\u001b[0;34m\u001b[0m\u001b[0m\n",
      "\u001b[0;32m~/.local/lib/python3.6/site-packages/tensorflow/python/client/session.py\u001b[0m in \u001b[0;36m_do_call\u001b[0;34m(self, fn, *args)\u001b[0m\n\u001b[1;32m   1354\u001b[0m   \u001b[0;32mdef\u001b[0m \u001b[0m_do_call\u001b[0m\u001b[0;34m(\u001b[0m\u001b[0mself\u001b[0m\u001b[0;34m,\u001b[0m \u001b[0mfn\u001b[0m\u001b[0;34m,\u001b[0m \u001b[0;34m*\u001b[0m\u001b[0margs\u001b[0m\u001b[0;34m)\u001b[0m\u001b[0;34m:\u001b[0m\u001b[0;34m\u001b[0m\u001b[0m\n\u001b[1;32m   1355\u001b[0m     \u001b[0;32mtry\u001b[0m\u001b[0;34m:\u001b[0m\u001b[0;34m\u001b[0m\u001b[0m\n\u001b[0;32m-> 1356\u001b[0;31m       \u001b[0;32mreturn\u001b[0m \u001b[0mfn\u001b[0m\u001b[0;34m(\u001b[0m\u001b[0;34m*\u001b[0m\u001b[0margs\u001b[0m\u001b[0;34m)\u001b[0m\u001b[0;34m\u001b[0m\u001b[0m\n\u001b[0m\u001b[1;32m   1357\u001b[0m     \u001b[0;32mexcept\u001b[0m \u001b[0merrors\u001b[0m\u001b[0;34m.\u001b[0m\u001b[0mOpError\u001b[0m \u001b[0;32mas\u001b[0m \u001b[0me\u001b[0m\u001b[0;34m:\u001b[0m\u001b[0;34m\u001b[0m\u001b[0m\n\u001b[1;32m   1358\u001b[0m       \u001b[0mmessage\u001b[0m \u001b[0;34m=\u001b[0m \u001b[0mcompat\u001b[0m\u001b[0;34m.\u001b[0m\u001b[0mas_text\u001b[0m\u001b[0;34m(\u001b[0m\u001b[0me\u001b[0m\u001b[0;34m.\u001b[0m\u001b[0mmessage\u001b[0m\u001b[0;34m)\u001b[0m\u001b[0;34m\u001b[0m\u001b[0m\n",
      "\u001b[0;32m~/.local/lib/python3.6/site-packages/tensorflow/python/client/session.py\u001b[0m in \u001b[0;36m_run_fn\u001b[0;34m(feed_dict, fetch_list, target_list, options, run_metadata)\u001b[0m\n\u001b[1;32m   1337\u001b[0m     \u001b[0;32mdef\u001b[0m \u001b[0m_run_fn\u001b[0m\u001b[0;34m(\u001b[0m\u001b[0mfeed_dict\u001b[0m\u001b[0;34m,\u001b[0m \u001b[0mfetch_list\u001b[0m\u001b[0;34m,\u001b[0m \u001b[0mtarget_list\u001b[0m\u001b[0;34m,\u001b[0m \u001b[0moptions\u001b[0m\u001b[0;34m,\u001b[0m \u001b[0mrun_metadata\u001b[0m\u001b[0;34m)\u001b[0m\u001b[0;34m:\u001b[0m\u001b[0;34m\u001b[0m\u001b[0m\n\u001b[1;32m   1338\u001b[0m       \u001b[0;31m# Ensure any changes to the graph are reflected in the runtime.\u001b[0m\u001b[0;34m\u001b[0m\u001b[0;34m\u001b[0m\u001b[0m\n\u001b[0;32m-> 1339\u001b[0;31m       \u001b[0mself\u001b[0m\u001b[0;34m.\u001b[0m\u001b[0m_extend_graph\u001b[0m\u001b[0;34m(\u001b[0m\u001b[0;34m)\u001b[0m\u001b[0;34m\u001b[0m\u001b[0m\n\u001b[0m\u001b[1;32m   1340\u001b[0m       return self._call_tf_sessionrun(\n\u001b[1;32m   1341\u001b[0m           options, feed_dict, fetch_list, target_list, run_metadata)\n",
      "\u001b[0;32m~/.local/lib/python3.6/site-packages/tensorflow/python/client/session.py\u001b[0m in \u001b[0;36m_extend_graph\u001b[0;34m(self)\u001b[0m\n\u001b[1;32m   1372\u001b[0m   \u001b[0;32mdef\u001b[0m \u001b[0m_extend_graph\u001b[0m\u001b[0;34m(\u001b[0m\u001b[0mself\u001b[0m\u001b[0;34m)\u001b[0m\u001b[0;34m:\u001b[0m\u001b[0;34m\u001b[0m\u001b[0m\n\u001b[1;32m   1373\u001b[0m     \u001b[0;32mwith\u001b[0m \u001b[0mself\u001b[0m\u001b[0;34m.\u001b[0m\u001b[0m_graph\u001b[0m\u001b[0;34m.\u001b[0m\u001b[0m_session_run_lock\u001b[0m\u001b[0;34m(\u001b[0m\u001b[0;34m)\u001b[0m\u001b[0;34m:\u001b[0m  \u001b[0;31m# pylint: disable=protected-access\u001b[0m\u001b[0;34m\u001b[0m\u001b[0m\n\u001b[0;32m-> 1374\u001b[0;31m       \u001b[0mtf_session\u001b[0m\u001b[0;34m.\u001b[0m\u001b[0mExtendSession\u001b[0m\u001b[0;34m(\u001b[0m\u001b[0mself\u001b[0m\u001b[0;34m.\u001b[0m\u001b[0m_session\u001b[0m\u001b[0;34m)\u001b[0m\u001b[0;34m\u001b[0m\u001b[0m\n\u001b[0m\u001b[1;32m   1375\u001b[0m \u001b[0;34m\u001b[0m\u001b[0m\n\u001b[1;32m   1376\u001b[0m   \u001b[0;31m# The threshold to run garbage collection to delete dead tensors.\u001b[0m\u001b[0;34m\u001b[0m\u001b[0;34m\u001b[0m\u001b[0m\n",
      "\u001b[0;31mKeyboardInterrupt\u001b[0m: "
     ]
    }
   ],
   "source": [
    "if os.path.exists(result_dir + \"/evaluate2.tsv\"):\n",
    "    os.remove(result_dir + \"/evaluate2.tsv\")\n",
    "r = Reporter2(result_dir + \"/evaluate2.tsv\")\n",
    "by_category = rawset.by_category()\n",
    "for cat, dataset in by_category.items():\n",
    "    model1 = tf.keras.models.load_model(result_dir + '/%s_pass1.h5' % cat)\n",
    "    tsampler = BlockSamplerByFile(dataset)\n",
    "    tbenc = BatchEncoder(tsampler,\n",
    "                         batch_size=1000,\n",
    "                         xs_encoder='one_hot')\n",
    "    xs, _ = next(iter(tbenc))\n",
    "    datalen = len(xs)\n",
    "    predict = model1.predict(xs, batch_size=100)\n",
    "    predict = np.argmax(predict, axis=-1)\n",
    "\n",
    "    \n",
    "    if os.path.exists(result_dir + '/%s_pass2.h5' % cat):\n",
    "        model2 = tf.keras.models.load_model(result_dir + '/%s_pass2.h5' % cat)\n",
    "        xs = xs[predict==0]\n",
    "        datalen = len(xs)\n",
    "        predict = model2.predict(xs, batch_size=100)\n",
    "        predict = np.argmax(predict, axis=-1)\n",
    "\n",
    "    not_random = len(predict[predict==0])/datalen\n",
    "    \n",
    "    if os.path.exists(result_dir + '/%s_pass2.h5' % cat):\n",
    "        predict = model2.predict_generator(rndgen(), steps=10)\n",
    "    else:\n",
    "        predict = model1.predict_generator(rndgen(), steps=10)\n",
    "    predict = np.argmax(predict, axis=-1)   \n",
    "    random = len(predict[predict==1])/(10*100)\n",
    "    \n",
    "    true_not_random = not_random - (1-not_random)*(1-random)/random\n",
    "    \n",
    "    print(cat, not_random, random, true_not_random )\n",
    "    r.line(cat=cat, not_random=not_random, random=random, true_not_random=true_not_random)\n",
    "r.close()"
   ]
  },
  {
   "cell_type": "markdown",
   "metadata": {},
   "source": [
    "# Load evaluation data 2"
   ]
  },
  {
   "cell_type": "code",
   "execution_count": null,
   "metadata": {},
   "outputs": [],
   "source": [
    "data4 = pd.read_csv(result_dir + \"/evaluate2.tsv\", sep='\\t')\n",
    "data4 = data4.sort_values('true_not_random')\n",
    "data4"
   ]
  },
  {
   "cell_type": "code",
   "execution_count": null,
   "metadata": {},
   "outputs": [],
   "source": [
    "from matplotlib.ticker import MultipleLocator\n",
    "fig, ax = plt.subplots(figsize=(12,4))\n",
    "ax.yaxis.set_minor_locator(MultipleLocator(0.1))\n",
    "# plt.grid(linestyle='--', which='minor')\n",
    "ax.bar(data4['cat'], data4['true_not_random'], fill=False)\n",
    "plt.xticks(rotation='vertical')\n",
    "ax.tick_params(labelsize=14)\n",
    "for i in range(28):\n",
    "    cat = rawset.ix_to_cat[i]\n",
    "    v = data4.iloc[i,3]\n",
    "    t = ax.annotate('%0.2f'%v, (i-0.3, v-0.06),fontsize=14)\n",
    "    t.set_rotation(90)\n",
    "# data3.plot.bar('cat', ['not_random'], figsize=(12,4))\n",
    "# plt.show()"
   ]
  },
  {
   "cell_type": "code",
   "execution_count": null,
   "metadata": {},
   "outputs": [],
   "source": [
    "data4.mean()"
   ]
  },
  {
   "cell_type": "code",
   "execution_count": null,
   "metadata": {},
   "outputs": [],
   "source": [
    "1-np.sum(data4['true_not_random'])/28"
   ]
  },
  {
   "cell_type": "code",
   "execution_count": null,
   "metadata": {},
   "outputs": [],
   "source": [
    "1-(np.sum(data4['true_not_random'])+(1-0.62))/28"
   ]
  },
  {
   "cell_type": "code",
   "execution_count": null,
   "metadata": {},
   "outputs": [],
   "source": []
  }
 ],
 "metadata": {
  "kernelspec": {
   "display_name": "Python 3",
   "language": "python",
   "name": "python3"
  },
  "language_info": {
   "codemirror_mode": {
    "name": "ipython",
    "version": 3
   },
   "file_extension": ".py",
   "mimetype": "text/x-python",
   "name": "python",
   "nbconvert_exporter": "python",
   "pygments_lexer": "ipython3",
   "version": "3.6.6"
  }
 },
 "nbformat": 4,
 "nbformat_minor": 2
}
